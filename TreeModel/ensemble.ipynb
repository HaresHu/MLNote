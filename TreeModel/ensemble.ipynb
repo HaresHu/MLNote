{
 "cells": [
  {
   "cell_type": "markdown",
   "metadata": {},
   "source": [
    "# Boosting与AdaBoost，Bagging与RF，GBDT与XGBoost\n",
    "\n",
    "1) Hoeffding不等式证明错误率上界，为集成学习提供理论保证：$P(G(x) \\neq y_i) = \\sum_{m=0}^{M/2}\\binom{M}{m}(1-\\varepsilon )^m\\varepsilon ^{M-m} \\leqslant  e^{-\\frac{1}{2}M(1-2\\varepsilon)^2}$，T越多，错误率成指数下降；前提是基学习器误差独立（通常很难办到，基学习器解决同一问题）\n",
    "\n",
    "2） Boost中AdaBoost：加性模型，以指数损失函数（求导可以得到每个学习器权重，并由此更新样本权重）；对异常样本比较敏感，影响效率（本质是是对错误样本加权（如果不支持加权，则采用重采样），再训练新学习器，降低偏差）\n",
    "\n",
    "模型权重$\\alpha_m=\\frac{1}{2}log_e\\frac{1 - e_m}{e_m}$,样本权重：$w_{m+1,i}=\\frac{w_{mi} \\cdot e^{-\\alpha_m * y_i * G_m(x_i)}}{z_m},z_m = \\sum_{i=1}^{N}w_{mi} e^{-\\alpha_m \\cdot y_i \\cdot G_m(x_i)}$\n",
    "\n",
    "通常只做分类问题，做回归问题需要做较大的改造（TODO）\n",
    "\n",
    "3）Bagging与RF：增加基学习器多样性从样本多样性开始（重采样：自助法：放回采样，m次采样：$\\lim_{x \\rightarrow \\infty }(1-\\frac{1}{m})^{m}=\\frac{1}{e}\\approx 0.368$,所以，每次都有36.8%的数据不会被采到，用$D/{D}'$作为测试集；**缺点**自助法产生的数据集改变了初始数据集的分布，只在**样本较少情况**下使用），有2大优势，一方面可以做包外估计，另一方面，如果基分类器为决策树，还可以用于剪枝（但是一般用决策树桩）\n",
    "\n",
    "Bagging方法选择不同的基分类器，可以做分类/多分类也可以做回归\n",
    "\n",
    "RF：多了属性多样性:当前属性随机选k个（推荐$k=log_2d$），根据划分算法选择最优属性\n",
    "\n",
    "Bagging系列算法专注降低方差。泛化能力更强。训练效率也更高（随机选择属性）\n",
    "\n",
    "结合策略，通常是简单平均，多数投票，训练法(MLR @todo)\n",
    "\n",
    "4） GBDT：基分类器CART回归树，核心是证明在分类回归任务时，伪残差的计算，以及分类任务在树完成后更新残差时使用泰勒展开，代替近似的残差（分类问题在CART回归树不能使用简单平均法去求为残差了）\n",
    "\n",
    "5） XGBoost：gbdt的实现，优化点在于使用泰勒展开obj，不仅可以提高速度（二阶导在SGD中相当于学习率，动态更新学习率），还可以扩展可用损失函数（二阶可导凸函数）。加入正则化因子（相当于预剪枝），引入列block机制进行特征粒度并行，以及核外计算，缓存预取等提高效率的实现（具体参看论文系统设计一节）\n",
    "\n",
    "## 内部多样性度量\n",
    "学习器比较的时候可以使用\n",
    "参考周志华《机器学习》"
   ]
  },
  {
   "cell_type": "code",
   "execution_count": 159,
   "metadata": {},
   "outputs": [],
   "source": [
    "import matplotlib.pyplot as plt\n",
    "%matplotlib inline\n",
    "import numpy as np\n",
    "import pandas as pd\n",
    "import xgboost as xgb\n",
    "\n",
    "from sklearn.metrics import accuracy_score\n",
    "from sklearn.datasets import make_classification\n",
    "from sklearn.model_selection import train_test_split\n",
    "from sklearn.metrics import roc_curve, auc"
   ]
  },
  {
   "cell_type": "code",
   "execution_count": 166,
   "metadata": {},
   "outputs": [
    {
     "name": "stdout",
     "output_type": "stream",
     "text": [
      "行/列: 17 8\n",
      "参数： {'max_depth': 1, 'eta': 0.9, 'silent': 0, 'objective': 'binary:logistic'}\n"
     ]
    }
   ],
   "source": [
    "# 西瓜数据测试：不使用测试集了\n",
    "dt = xgb.DMatrix('wm_data.csv')\n",
    "print(\"行/列:\", dt.num_row(),dt.num_col())\n",
    "# eta: 学习步长,silent:打印运行信息，objective：二分类逻辑回归\n",
    "param = {'max_depth':1, 'eta':0.9, 'silent':0, 'objective':'binary:logistic' }\n",
    "print(\"参数：\", param)"
   ]
  },
  {
   "cell_type": "code",
   "execution_count": 167,
   "metadata": {},
   "outputs": [
    {
     "name": "stdout",
     "output_type": "stream",
     "text": [
      "[11:07:24] WARNING: ../src/learner.cc:516: \n",
      "Parameters: { silent } might not be used.\n",
      "\n",
      "  This may not be accurate due to some parameters are only used in language bindings but\n",
      "  passed down to XGBoost core.  Or some parameters are not used but slip through this\n",
      "  verification. Please open an issue if you find above cases.\n",
      "\n",
      "\n"
     ]
    }
   ],
   "source": [
    "# 训练：设置boosting迭代计算次数\n",
    "num_round = 10\n",
    "bst = xgb.train(param, dt, num_round) "
   ]
  },
  {
   "cell_type": "code",
   "execution_count": 168,
   "metadata": {},
   "outputs": [
    {
     "name": "stdout",
     "output_type": "stream",
     "text": [
      "0.8823529411764706\n"
     ]
    }
   ],
   "source": [
    "# 准确率\n",
    "pred_train_raw = bst.predict(dt)\n",
    "for i in range(len(pred_train_raw)):\n",
    "    if pred_train_raw[i] > 0.5:\n",
    "         pred_train_raw[i]=1\n",
    "    else:\n",
    "        pred_train_raw[i]=0               \n",
    "print (accuracy_score(dt.get_label(), pred_train_raw))"
   ]
  },
  {
   "cell_type": "code",
   "execution_count": 169,
   "metadata": {},
   "outputs": [
    {
     "data": {
      "text/plain": [
       "<matplotlib.axes._subplots.AxesSubplot at 0x7f40131a8d10>"
      ]
     },
     "execution_count": 169,
     "metadata": {},
     "output_type": "execute_result"
    },
    {
     "data": {
      "image/png": "[encoded data removed]",
      "text/plain": [
       "<Figure size 432x288 with 1 Axes>"
      ]
     },
     "metadata": {
      "needs_background": "light"
     },
     "output_type": "display_data"
    }
   ],
   "source": [
    "xgb.plot_tree(bst)"
   ]
  },
  {
   "cell_type": "code",
   "execution_count": 170,
   "metadata": {},
   "outputs": [
    {
     "data": {
      "text/plain": [
       "<matplotlib.axes._subplots.AxesSubplot at 0x7f401325f890>"
      ]
     },
     "execution_count": 170,
     "metadata": {},
     "output_type": "execute_result"
    },
    {
     "data": {
      "image/png": "[encoded data removed]",
      "text/plain": [
       "<Figure size 432x288 with 1 Axes>"
      ]
     },
     "metadata": {
      "needs_background": "light"
     },
     "output_type": "display_data"
    }
   ],
   "source": [
    "xgb.plot_importance(bst)"
   ]
  },
  {
   "cell_type": "code",
   "execution_count": 172,
   "metadata": {},
   "outputs": [
    {
     "name": "stdout",
     "output_type": "stream",
     "text": [
      "[[2 2 2 2 2 2 2 2 1 1]\n",
      " [2 2 2 2 2 1 2 2 1 1]\n",
      " [2 2 2 2 2 1 2 1 1 1]\n",
      " [2 2 2 2 2 2 2 1 1 1]\n",
      " [2 2 2 2 2 2 1 1 1 1]\n",
      " [2 1 2 1 2 2 1 1 2 2]\n",
      " [1 2 1 2 1 1 1 1 2 2]\n",
      " [2 2 2 1 2 1 1 1 2 2]\n",
      " [1 2 1 2 1 1 1 2 2 2]\n",
      " [2 1 2 1 2 2 2 1 2 1]\n",
      " [1 1 1 1 1 2 1 1 2 1]\n",
      " [1 1 1 1 1 2 1 1 2 1]\n",
      " [1 2 1 2 1 2 1 2 1 1]\n",
      " [1 2 1 2 1 2 1 2 1 1]\n",
      " [2 1 2 1 2 1 2 1 2 2]\n",
      " [1 2 1 2 1 2 1 1 2 1]\n",
      " [1 2 1 2 1 2 1 2 2 2]]\n"
     ]
    }
   ],
   "source": [
    "# 输出每个样本在所有树中的叶子节点\n",
    "ypred_leaf = bst.predict(dt, pred_leaf=True)\n",
    "print(ypred_leaf)"
   ]
  },
  {
   "cell_type": "code",
   "execution_count": 176,
   "metadata": {},
   "outputs": [
    {
     "name": "stdout",
     "output_type": "stream",
     "text": [
      "[ 1.1154481   1.57439     1.9936188   1.5346769   1.9330891   0.31610084\n",
      " -0.71638966  1.777998   -1.1356183  -0.4288945  -3.01441    -3.01441\n",
      " -1.4700669  -1.4700669   0.37663046 -1.5219144  -1.59456   ]\n"
     ]
    }
   ],
   "source": [
    "# 每个样本在xgboost生成的所有树中叶子节点的累加值,如logloss，是predict的无参数概率值累加\n",
    "ypred_output = bst.predict(dt, output_margin=True)\n",
    "print(ypred_output)\n",
    "# 如果gbdt+lr，可以使用每颗树每个节点输出值为输入，再训练一颗LR"
   ]
  },
  {
   "cell_type": "code",
   "execution_count": 175,
   "metadata": {},
   "outputs": [
    {
     "data": {
      "image/svg+xml": [
       "<?xml version=\"1.0\" encoding=\"UTF-8\" standalone=\"no\"?>\n",
       "<!DOCTYPE svg PUBLIC \"-//W3C//DTD SVG 1.1//EN\"\n",
       " \"http://www.w3.org/Graphics/SVG/1.1/DTD/svg11.dtd\">\n",
       "<!-- Generated by graphviz version 2.43.0 (0)\n",
       " -->\n",
       "<!-- Title: %3 Pages: 1 -->\n",
       "<svg width=\"420pt\" height=\"131pt\"\n",
       " viewBox=\"0.00 0.00 419.93 131.00\" xmlns=\"http://www.w3.org/2000/svg\" xmlns:xlink=\"http://www.w3.org/1999/xlink\">\n",
       "<g id=\"graph0\" class=\"graph\" transform=\"scale(1 1) rotate(0) translate(4 127)\">\n",
       "<title>%3</title>\n",
       "<polygon fill=\"white\" stroke=\"transparent\" points=\"-4,4 -4,-127 415.93,-127 415.93,4 -4,4\"/>\n",
       "<!-- 0 -->\n",
       "<g id=\"node1\" class=\"node\">\n",
       "<title>0</title>\n",
       "<ellipse fill=\"none\" stroke=\"black\" cx=\"207.09\" cy=\"-105\" rx=\"83.39\" ry=\"18\"/>\n",
       "<text text-anchor=\"middle\" x=\"207.09\" y=\"-101.3\" font-family=\"Times,serif\" font-size=\"14.00\">f7&lt;0.20449999</text>\n",
       "</g>\n",
       "<!-- 1 -->\n",
       "<g id=\"node2\" class=\"node\">\n",
       "<title>1</title>\n",
       "<ellipse fill=\"none\" stroke=\"black\" cx=\"100.09\" cy=\"-18\" rx=\"100.18\" ry=\"18\"/>\n",
       "<text text-anchor=\"middle\" x=\"100.09\" y=\"-14.3\" font-family=\"Times,serif\" font-size=\"14.00\">leaf=&#45;0.899999976</text>\n",
       "</g>\n",
       "<!-- 0&#45;&gt;1 -->\n",
       "<g id=\"edge1\" class=\"edge\">\n",
       "<title>0&#45;&gt;1</title>\n",
       "<path fill=\"none\" stroke=\"#0000ff\" d=\"M186.21,-87.41C169.96,-74.51 147.23,-56.45 129.2,-42.13\"/>\n",
       "<polygon fill=\"#0000ff\" stroke=\"#0000ff\" points=\"131.3,-39.32 121.29,-35.84 126.94,-44.8 131.3,-39.32\"/>\n",
       "<text text-anchor=\"middle\" x=\"204.59\" y=\"-57.8\" font-family=\"Times,serif\" font-size=\"14.00\">yes, missing</text>\n",
       "</g>\n",
       "<!-- 2 -->\n",
       "<g id=\"node3\" class=\"node\">\n",
       "<title>2</title>\n",
       "<ellipse fill=\"none\" stroke=\"black\" cx=\"315.09\" cy=\"-18\" rx=\"96.68\" ry=\"18\"/>\n",
       "<text text-anchor=\"middle\" x=\"315.09\" y=\"-14.3\" font-family=\"Times,serif\" font-size=\"14.00\">leaf=0.692307711</text>\n",
       "</g>\n",
       "<!-- 0&#45;&gt;2 -->\n",
       "<g id=\"edge2\" class=\"edge\">\n",
       "<title>0&#45;&gt;2</title>\n",
       "<path fill=\"none\" stroke=\"#ff0000\" d=\"M229.18,-87.39C236.79,-81.62 245.35,-75.06 253.09,-69 264.09,-60.39 276.06,-50.79 286.52,-42.32\"/>\n",
       "<polygon fill=\"#ff0000\" stroke=\"#ff0000\" points=\"288.98,-44.83 294.54,-35.81 284.57,-39.39 288.98,-44.83\"/>\n",
       "<text text-anchor=\"middle\" x=\"280.09\" y=\"-57.8\" font-family=\"Times,serif\" font-size=\"14.00\">no</text>\n",
       "</g>\n",
       "</g>\n",
       "</svg>\n"
      ],
      "text/plain": [
       "<graphviz.files.Source at 0x7f401324b610>"
      ]
     },
     "execution_count": 175,
     "metadata": {},
     "output_type": "execute_result"
    }
   ],
   "source": [
    "xgb.to_graphviz(bst)"
   ]
  },
  {
   "cell_type": "code",
   "execution_count": null,
   "metadata": {},
   "outputs": [],
   "source": []
  },
  {
   "cell_type": "code",
   "execution_count": 33,
   "metadata": {},
   "outputs": [],
   "source": [
    "from sklearn.model_selection import GridSearchCV"
   ]
  },
  {
   "cell_type": "code",
   "execution_count": 69,
   "metadata": {},
   "outputs": [
    {
     "data": {
      "text/plain": [
       "Index(['color', 'root', 'knock', 'texture', 'umbilical', 'touch', 'density',\n",
       "       'sugar_rate', 'label'],\n",
       "      dtype='object')"
      ]
     },
     "execution_count": 69,
     "metadata": {},
     "output_type": "execute_result"
    }
   ],
   "source": [
    "df.columns"
   ]
  },
  {
   "cell_type": "code",
   "execution_count": 102,
   "metadata": {},
   "outputs": [
    {
     "data": {
      "text/html": [
       "<div>\n",
       "<style scoped>\n",
       "    .dataframe tbody tr th:only-of-type {\n",
       "        vertical-align: middle;\n",
       "    }\n",
       "\n",
       "    .dataframe tbody tr th {\n",
       "        vertical-align: top;\n",
       "    }\n",
       "\n",
       "    .dataframe thead th {\n",
       "        text-align: right;\n",
       "    }\n",
       "</style>\n",
       "<table border=\"1\" class=\"dataframe\">\n",
       "  <thead>\n",
       "    <tr style=\"text-align: right;\">\n",
       "      <th></th>\n",
       "      <th>color</th>\n",
       "      <th>root</th>\n",
       "      <th>knock</th>\n",
       "      <th>texture</th>\n",
       "      <th>umbilical</th>\n",
       "      <th>touch</th>\n",
       "      <th>density</th>\n",
       "      <th>sugar_rate</th>\n",
       "      <th>label</th>\n",
       "    </tr>\n",
       "  </thead>\n",
       "  <tbody>\n",
       "    <tr>\n",
       "      <td>1</td>\n",
       "      <td>3.0</td>\n",
       "      <td>3.0</td>\n",
       "      <td>2.0</td>\n",
       "      <td>2.0</td>\n",
       "      <td>1.0</td>\n",
       "      <td>1.0</td>\n",
       "      <td>0.697</td>\n",
       "      <td>0.460</td>\n",
       "      <td>1.0</td>\n",
       "    </tr>\n",
       "    <tr>\n",
       "      <td>2</td>\n",
       "      <td>1.0</td>\n",
       "      <td>3.0</td>\n",
       "      <td>1.0</td>\n",
       "      <td>2.0</td>\n",
       "      <td>1.0</td>\n",
       "      <td>1.0</td>\n",
       "      <td>0.774</td>\n",
       "      <td>0.376</td>\n",
       "      <td>1.0</td>\n",
       "    </tr>\n",
       "    <tr>\n",
       "      <td>3</td>\n",
       "      <td>1.0</td>\n",
       "      <td>3.0</td>\n",
       "      <td>2.0</td>\n",
       "      <td>2.0</td>\n",
       "      <td>1.0</td>\n",
       "      <td>1.0</td>\n",
       "      <td>0.634</td>\n",
       "      <td>0.264</td>\n",
       "      <td>1.0</td>\n",
       "    </tr>\n",
       "    <tr>\n",
       "      <td>4</td>\n",
       "      <td>3.0</td>\n",
       "      <td>3.0</td>\n",
       "      <td>1.0</td>\n",
       "      <td>2.0</td>\n",
       "      <td>1.0</td>\n",
       "      <td>1.0</td>\n",
       "      <td>0.608</td>\n",
       "      <td>0.318</td>\n",
       "      <td>1.0</td>\n",
       "    </tr>\n",
       "    <tr>\n",
       "      <td>5</td>\n",
       "      <td>2.0</td>\n",
       "      <td>3.0</td>\n",
       "      <td>2.0</td>\n",
       "      <td>2.0</td>\n",
       "      <td>1.0</td>\n",
       "      <td>1.0</td>\n",
       "      <td>0.556</td>\n",
       "      <td>0.215</td>\n",
       "      <td>1.0</td>\n",
       "    </tr>\n",
       "    <tr>\n",
       "      <td>6</td>\n",
       "      <td>3.0</td>\n",
       "      <td>2.0</td>\n",
       "      <td>2.0</td>\n",
       "      <td>2.0</td>\n",
       "      <td>3.0</td>\n",
       "      <td>2.0</td>\n",
       "      <td>0.403</td>\n",
       "      <td>0.237</td>\n",
       "      <td>1.0</td>\n",
       "    </tr>\n",
       "    <tr>\n",
       "      <td>7</td>\n",
       "      <td>1.0</td>\n",
       "      <td>2.0</td>\n",
       "      <td>2.0</td>\n",
       "      <td>3.0</td>\n",
       "      <td>3.0</td>\n",
       "      <td>2.0</td>\n",
       "      <td>0.481</td>\n",
       "      <td>0.149</td>\n",
       "      <td>1.0</td>\n",
       "    </tr>\n",
       "    <tr>\n",
       "      <td>8</td>\n",
       "      <td>1.0</td>\n",
       "      <td>2.0</td>\n",
       "      <td>2.0</td>\n",
       "      <td>2.0</td>\n",
       "      <td>3.0</td>\n",
       "      <td>1.0</td>\n",
       "      <td>0.437</td>\n",
       "      <td>0.211</td>\n",
       "      <td>1.0</td>\n",
       "    </tr>\n",
       "    <tr>\n",
       "      <td>9</td>\n",
       "      <td>1.0</td>\n",
       "      <td>2.0</td>\n",
       "      <td>1.0</td>\n",
       "      <td>3.0</td>\n",
       "      <td>3.0</td>\n",
       "      <td>1.0</td>\n",
       "      <td>0.666</td>\n",
       "      <td>0.091</td>\n",
       "      <td>0.0</td>\n",
       "    </tr>\n",
       "    <tr>\n",
       "      <td>10</td>\n",
       "      <td>3.0</td>\n",
       "      <td>1.0</td>\n",
       "      <td>3.0</td>\n",
       "      <td>2.0</td>\n",
       "      <td>2.0</td>\n",
       "      <td>2.0</td>\n",
       "      <td>0.243</td>\n",
       "      <td>0.267</td>\n",
       "      <td>0.0</td>\n",
       "    </tr>\n",
       "    <tr>\n",
       "      <td>11</td>\n",
       "      <td>2.0</td>\n",
       "      <td>1.0</td>\n",
       "      <td>3.0</td>\n",
       "      <td>1.0</td>\n",
       "      <td>2.0</td>\n",
       "      <td>1.0</td>\n",
       "      <td>0.245</td>\n",
       "      <td>0.057</td>\n",
       "      <td>0.0</td>\n",
       "    </tr>\n",
       "    <tr>\n",
       "      <td>12</td>\n",
       "      <td>2.0</td>\n",
       "      <td>3.0</td>\n",
       "      <td>2.0</td>\n",
       "      <td>1.0</td>\n",
       "      <td>2.0</td>\n",
       "      <td>2.0</td>\n",
       "      <td>0.343</td>\n",
       "      <td>0.099</td>\n",
       "      <td>0.0</td>\n",
       "    </tr>\n",
       "    <tr>\n",
       "      <td>13</td>\n",
       "      <td>3.0</td>\n",
       "      <td>2.0</td>\n",
       "      <td>2.0</td>\n",
       "      <td>3.0</td>\n",
       "      <td>1.0</td>\n",
       "      <td>1.0</td>\n",
       "      <td>0.639</td>\n",
       "      <td>0.161</td>\n",
       "      <td>0.0</td>\n",
       "    </tr>\n",
       "    <tr>\n",
       "      <td>14</td>\n",
       "      <td>2.0</td>\n",
       "      <td>2.0</td>\n",
       "      <td>1.0</td>\n",
       "      <td>3.0</td>\n",
       "      <td>1.0</td>\n",
       "      <td>1.0</td>\n",
       "      <td>0.657</td>\n",
       "      <td>0.198</td>\n",
       "      <td>0.0</td>\n",
       "    </tr>\n",
       "    <tr>\n",
       "      <td>15</td>\n",
       "      <td>1.0</td>\n",
       "      <td>2.0</td>\n",
       "      <td>2.0</td>\n",
       "      <td>2.0</td>\n",
       "      <td>3.0</td>\n",
       "      <td>2.0</td>\n",
       "      <td>0.360</td>\n",
       "      <td>0.370</td>\n",
       "      <td>0.0</td>\n",
       "    </tr>\n",
       "    <tr>\n",
       "      <td>16</td>\n",
       "      <td>2.0</td>\n",
       "      <td>3.0</td>\n",
       "      <td>2.0</td>\n",
       "      <td>1.0</td>\n",
       "      <td>2.0</td>\n",
       "      <td>1.0</td>\n",
       "      <td>0.593</td>\n",
       "      <td>0.042</td>\n",
       "      <td>0.0</td>\n",
       "    </tr>\n",
       "    <tr>\n",
       "      <td>17</td>\n",
       "      <td>3.0</td>\n",
       "      <td>3.0</td>\n",
       "      <td>1.0</td>\n",
       "      <td>3.0</td>\n",
       "      <td>3.0</td>\n",
       "      <td>1.0</td>\n",
       "      <td>0.719</td>\n",
       "      <td>0.103</td>\n",
       "      <td>0.0</td>\n",
       "    </tr>\n",
       "  </tbody>\n",
       "</table>\n",
       "</div>"
      ],
      "text/plain": [
       "    color  root  knock  texture  umbilical  touch  density  sugar_rate  label\n",
       "1     3.0   3.0    2.0      2.0        1.0    1.0    0.697       0.460    1.0\n",
       "2     1.0   3.0    1.0      2.0        1.0    1.0    0.774       0.376    1.0\n",
       "3     1.0   3.0    2.0      2.0        1.0    1.0    0.634       0.264    1.0\n",
       "4     3.0   3.0    1.0      2.0        1.0    1.0    0.608       0.318    1.0\n",
       "5     2.0   3.0    2.0      2.0        1.0    1.0    0.556       0.215    1.0\n",
       "6     3.0   2.0    2.0      2.0        3.0    2.0    0.403       0.237    1.0\n",
       "7     1.0   2.0    2.0      3.0        3.0    2.0    0.481       0.149    1.0\n",
       "8     1.0   2.0    2.0      2.0        3.0    1.0    0.437       0.211    1.0\n",
       "9     1.0   2.0    1.0      3.0        3.0    1.0    0.666       0.091    0.0\n",
       "10    3.0   1.0    3.0      2.0        2.0    2.0    0.243       0.267    0.0\n",
       "11    2.0   1.0    3.0      1.0        2.0    1.0    0.245       0.057    0.0\n",
       "12    2.0   3.0    2.0      1.0        2.0    2.0    0.343       0.099    0.0\n",
       "13    3.0   2.0    2.0      3.0        1.0    1.0    0.639       0.161    0.0\n",
       "14    2.0   2.0    1.0      3.0        1.0    1.0    0.657       0.198    0.0\n",
       "15    1.0   2.0    2.0      2.0        3.0    2.0    0.360       0.370    0.0\n",
       "16    2.0   3.0    2.0      1.0        2.0    1.0    0.593       0.042    0.0\n",
       "17    3.0   3.0    1.0      3.0        3.0    1.0    0.719       0.103    0.0"
      ]
     },
     "execution_count": 102,
     "metadata": {},
     "output_type": "execute_result"
    }
   ],
   "source": [
    "df = pd.read_csv(\"wm_data_o.csv\", sep=',', index_col=0)\n",
    "X=df[['color', 'root', 'knock', 'texture', 'umbilical', 'touch', 'density',\n",
    "       'sugar_rate']]\n",
    "df"
   ]
  },
  {
   "cell_type": "code",
   "execution_count": 178,
   "metadata": {},
   "outputs": [],
   "source": [
    "# 保存model，以备CPP工程化\n",
    "bst.dump_model('xgb.dump.raw.txt')"
   ]
  },
  {
   "cell_type": "code",
   "execution_count": 101,
   "metadata": {},
   "outputs": [
    {
     "data": {
      "text/plain": [
       "GridSearchCV(cv=5,\n",
       "             estimator=XGBClassifier(base_score=None, booster=None,\n",
       "                                     colsample_bylevel=None,\n",
       "                                     colsample_bynode=None,\n",
       "                                     colsample_bytree=None, gamma=None,\n",
       "                                     gpu_id=None, importance_type='gain',\n",
       "                                     interaction_constraints=None,\n",
       "                                     learning_rate=None, max_delta_step=None,\n",
       "                                     max_depth=2, min_child_weight=None,\n",
       "                                     missing=nan, monotone_constraints=None,\n",
       "                                     n_estimators=5, n_jobs=None,\n",
       "                                     num_parallel_tree=None, random_state=None,\n",
       "                                     reg_alpha=None, reg_lambda=None,\n",
       "                                     scale_pos_weight=None, subsample=None,\n",
       "                                     tree_method=None, validate_parameters=None,\n",
       "                                     verbosity=None),\n",
       "             param_grid={'eta': [0.0, 0.1, 0.2, 0.3, 0.4, 0.5, 0.6, 0.7, 0.8,\n",
       "                                 0.9]},\n",
       "             scoring='roc_auc')"
      ]
     },
     "execution_count": 101,
     "metadata": {},
     "output_type": "execute_result"
    }
   ],
   "source": [
    "# 自动调参示例\n",
    "param_test1 = {'eta':[i/10.0 for i in range(0,10,1)]}\n",
    "\n",
    "param_dist = {'objective':'binary:logistic', 'n_estimators':5, \"max_depth\":2}\n",
    "\n",
    "\n",
    "gsearch1 = GridSearchCV(estimator = xgb.XGBClassifier(**param_dist), \n",
    "                       param_grid = param_test1, scoring='roc_auc',cv=5)\n",
    "gsearch1.fit(X, dt.get_label())"
   ]
  },
  {
   "cell_type": "code",
   "execution_count": 99,
   "metadata": {},
   "outputs": [
    {
     "data": {
      "text/plain": [
       "({'eta': 0.1}, 0.6)"
      ]
     },
     "execution_count": 99,
     "metadata": {},
     "output_type": "execute_result"
    }
   ],
   "source": [
    "gsearch1.best_params_,gsearch1.best_score_"
   ]
  },
  {
   "cell_type": "code",
   "execution_count": 146,
   "metadata": {},
   "outputs": [],
   "source": [
    "# 用sklearn接口\n",
    "# X为样本特征，y为样本类别输出， 共10000个样本，每个样本20个特征，输出有2个类别，没有冗余特征，每个类别一个簇\n",
    "X, y = make_classification(n_samples=10000, n_features=20, n_redundant=0,\n",
    "                             n_clusters_per_class=1, n_classes=2, flip_y=0.1)\n",
    "X_train, X_test, y_train, y_test = train_test_split(X, y, random_state=1)\n",
    "dtrain = xgb.DMatrix(X_train,y_train)\n",
    "dtest = xgb.DMatrix(X_test,y_test)\n",
    "param = {'max_depth':5, 'eta':0.1, 'verbosity':1, 'objective':'binary:logistic'}\n",
    "xgb_model = xgb.train(param, dtrain, num_boost_round=10)\n"
   ]
  },
  {
   "cell_type": "code",
   "execution_count": 147,
   "metadata": {},
   "outputs": [],
   "source": [
    "# 输出所有样例正负概率\n",
    "y_test_score = xgb_model.predict(xgb.DMatrix(X_test))\n",
    "y_test_label = y_test"
   ]
  },
  {
   "cell_type": "code",
   "execution_count": 148,
   "metadata": {},
   "outputs": [],
   "source": [
    "# 画roc曲线\n",
    "def cal_roc(y_test, y_score, n_classes):\n",
    "    # Compute ROC curve and ROC area for each class\n",
    "    fpr = dict()\n",
    "    tpr = dict()\n",
    "    roc_auc = dict()\n",
    "    for i in range(n_classes):\n",
    "        fpr[i], tpr[i], _ = roc_curve(y_test[:, i], y_score[:, i])\n",
    "        roc_auc[i] = auc(fpr[i], tpr[i])\n",
    "\n",
    "    # Compute micro-average ROC curve and ROC area\n",
    "    \n",
    "    fpr[\"micro\"], tpr[\"micro\"], _ = roc_curve(y_test[:,:].ravel(), y_score.ravel())\n",
    "    roc_auc[\"micro\"] = auc(fpr[\"micro\"], tpr[\"micro\"])\n",
    "    return fpr,tpr,roc_auc\n",
    "fpr,tpr,roc_auc = cal_roc(y_test.reshape(len(y_test),1), y_test_score.reshape(len(y_test_score),1), 1)"
   ]
  },
  {
   "cell_type": "code",
   "execution_count": 149,
   "metadata": {},
   "outputs": [
    {
     "data": {
      "image/png": "[encoded data removed]",
      "text/plain": [
       "<Figure size 432x288 with 1 Axes>"
      ]
     },
     "metadata": {
      "needs_background": "light"
     },
     "output_type": "display_data"
    }
   ],
   "source": [
    "plt.figure()\n",
    "label_idx = 0\n",
    "lw = 2\n",
    "plt.plot(fpr[label_idx], tpr[label_idx], color='darkorange',\n",
    "         lw=lw, label='ROC curve (area = %0.2f)' % roc_auc[label_idx])\n",
    "plt.plot([0, 1], [0, 1], color='navy', lw=lw, linestyle='--')\n",
    "plt.xlim([0.0, 1.0])\n",
    "plt.ylim([0.0, 1.05])\n",
    "plt.xlabel('False Positive Rate')\n",
    "plt.ylabel('True Positive Rate')\n",
    "plt.title('Receiver operating characteristic example')\n",
    "plt.legend(loc=\"lower right\")\n",
    "plt.show()"
   ]
  },
  {
   "cell_type": "code",
   "execution_count": null,
   "metadata": {},
   "outputs": [],
   "source": []
  },
  {
   "cell_type": "code",
   "execution_count": null,
   "metadata": {},
   "outputs": [],
   "source": []
  },
  {
   "cell_type": "code",
   "execution_count": null,
   "metadata": {},
   "outputs": [],
   "source": []
  }
 ],
 "metadata": {
  "kernelspec": {
   "display_name": "Python 3",
   "language": "python",
   "name": "python3"
  },
  "language_info": {
   "codemirror_mode": {
    "name": "ipython",
    "version": 3
   },
   "file_extension": ".py",
   "mimetype": "text/x-python",
   "name": "python",
   "nbconvert_exporter": "python",
   "pygments_lexer": "ipython3",
   "version": "3.7.4"
  }
 },
 "nbformat": 4,
 "nbformat_minor": 2
}
