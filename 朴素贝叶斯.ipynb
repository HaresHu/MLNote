{
 "cells": [
  {
   "cell_type": "markdown",
   "metadata": {},
   "source": [
    "实操参考：https://scikit-learn.org/stable/modules/naive_bayes.html，https://sklearn.apachecn.org/docs/master/10.html"
   ]
  },
  {
   "cell_type": "markdown",
   "metadata": {},
   "source": [
    "贝叶斯：先验概率，后验概率：$P(A|B) = \\frac{P(B|A)P(A)}{P(B)}$\n",
    "\n",
    "朴素贝叶斯：生成模型，是先对$P(x,c)$建模，然后得到$P(c|x)$，c为类别$P(c|\\mathbf{x}) = \\frac{P(\\mathbf{x}, c)}{P(\\mathbf{x})}$，基于贝叶斯定理，$P(c|\\mathbf{x})$可写为：$P(c|\\mathbf{x}) = \\frac{P(c) \\cdot P(\\mathbf{x}|c)}{P(\\mathbf{x})}$，其中$P(c)$是类“先验（prior）”概率$P(\\mathbf{x}|c)$是样本$\\mathbf{x}$基于类标记c的类条件概率（class-conditional probability），或称为似然（如垃圾邮件过滤中，$p(\\mathbf{x}|c)$是各分类中，该单词出现的概率，垃圾分类样本可以认为是所有单词），$P(\\mathbf{x})$是用于归一化的\"证据（evidence）\"，对于给定的样本，与分类c无关，所以，只需要考虑$P(c),P(\\mathbf{x}|c))$。\n",
    "\n",
    "*朴素贝叶斯需要假设独立，但是现实在显然很难做到*，但是一些应用，如邮件分类却效果很好。"
   ]
  },
  {
   "cell_type": "code",
   "execution_count": 16,
   "metadata": {},
   "outputs": [
    {
     "name": "stdout",
     "output_type": "stream",
     "text": [
      "Number of mislabeled points out of a total 75 points : 4\n"
     ]
    }
   ],
   "source": [
    "from sklearn.datasets import load_iris\n",
    "from sklearn.model_selection import train_test_split\n",
    "from sklearn.naive_bayes import GaussianNB\n",
    "X, y = load_iris(return_X_y=True)\n",
    "X_train, X_test, y_train, y_test = train_test_split(X, y, test_size=0.5, random_state=0)\n",
    "gnb = GaussianNB()\n",
    "y_pred = gnb.fit(X_train, y_train).predict(X_test)\n",
    "print(\"Number of mislabeled points out of a total %d points : %d\" % (X_test.shape[0], (y_test != y_pred).sum()))\n"
   ]
  },
  {
   "cell_type": "code",
   "execution_count": null,
   "metadata": {},
   "outputs": [],
   "source": []
  },
  {
   "cell_type": "code",
   "execution_count": null,
   "metadata": {},
   "outputs": [],
   "source": []
  }
 ],
 "metadata": {
  "kernelspec": {
   "display_name": "Python 3",
   "language": "python",
   "name": "python3"
  },
  "language_info": {
   "codemirror_mode": {
    "name": "ipython",
    "version": 3
   },
   "file_extension": ".py",
   "mimetype": "text/x-python",
   "name": "python",
   "nbconvert_exporter": "python",
   "pygments_lexer": "ipython3",
   "version": "3.7.4"
  }
 },
 "nbformat": 4,
 "nbformat_minor": 2
}
