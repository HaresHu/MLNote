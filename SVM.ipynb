{
 "cells": [
  {
   "cell_type": "markdown",
   "metadata": {},
   "source": [
    "1） 线性svm（拉格朗日乘子法多元函数在一组约束条件下求极值的方法，但是需要满足KKT条件，通俗易懂描述见周志华《机器学习》403页），优化方法SMO\n",
    "2） 基于核SVM（虽然很好的扩展到非线性，但是目前并没有好的选择核函数的方法）\n",
    "\n",
    "与LR有较大不一样地方，优化目标是最大化软间隔（从硬间隔到软间隔）\n",
    "\n",
    "损失函数：hinge loss"
   ]
  },
  {
   "cell_type": "code",
   "execution_count": null,
   "metadata": {},
   "outputs": [],
   "source": []
  }
 ],
 "metadata": {
  "kernelspec": {
   "display_name": "Python 3",
   "language": "python",
   "name": "python3"
  },
  "language_info": {
   "codemirror_mode": {
    "name": "ipython",
    "version": 3
   },
   "file_extension": ".py",
   "mimetype": "text/x-python",
   "name": "python",
   "nbconvert_exporter": "python",
   "pygments_lexer": "ipython3",
   "version": "3.7.4"
  }
 },
 "nbformat": 4,
 "nbformat_minor": 2
}
