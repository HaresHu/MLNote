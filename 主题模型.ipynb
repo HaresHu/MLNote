{
 "cells": [
  {
   "cell_type": "markdown",
   "metadata": {},
   "source": [
    "pLSA:[Probabilistic latent semantic analysis](https://arxiv.org/pdf/1301.6705.pdf)，EM算法，较为简单，容易过拟合（M步存在参数：$p(z_k|d_m)$，根训练样本完全相关）\n",
    "\n",
    "LDA: 参考[lda-LDA数学八卦](http://bloglxm.oss-cn-beijing.aliyuncs.com/lda-LDA%E6%95%B0%E5%AD%A6%E5%85%AB%E5%8D%A6.pdf ):第45页很形象（与pLSA区别：topic属于一个Dirichlet分布），Gibbs Sample（推导用了一些近似方法）。段文本实际效果并不太好\n",
    "\n",
    "工具：gensim，百度也开源了LDA工具，LDA不像word2vec，需要去除停用词\n",
    "https://radimrehurek.com/gensim/models/ldamodel.html"
   ]
  },
  {
   "cell_type": "code",
   "execution_count": 10,
   "metadata": {},
   "outputs": [],
   "source": [
    "from gensim.test.utils import common_texts\n",
    "from gensim.corpora.dictionary import Dictionary\n",
    "import gensim.models.ldamulticore\n",
    "from gensim.models import LdaModel,LdaMulticore\n",
    "\n",
    "# Create a corpus from a list of texts\n",
    "\n",
    "common_dictionary = Dictionary(common_texts)\n",
    "\n",
    "common_corpus = [common_dictionary.doc2bow(text) for text in common_texts]\n",
    "\n",
    "# Train the model on the corpus.\n",
    "\n",
    "lda = LdaModel(common_corpus, num_topics=10)"
   ]
  },
  {
   "cell_type": "code",
   "execution_count": 11,
   "metadata": {},
   "outputs": [],
   "source": [
    "from gensim.test.utils import common_corpus, common_dictionary\n",
    "lda = LdaMulticore(common_corpus, id2word=common_dictionary, num_topics=10)"
   ]
  },
  {
   "cell_type": "code",
   "execution_count": 12,
   "metadata": {},
   "outputs": [
    {
     "data": {
      "text/plain": [
       "[(0,\n",
       "  '0.500*\"trees\" + 0.045*\"system\" + 0.045*\"response\" + 0.045*\"graph\" + 0.045*\"minors\" + 0.045*\"interface\" + 0.045*\"user\" + 0.045*\"human\" + 0.045*\"time\" + 0.045*\"survey\"'),\n",
       " (1,\n",
       "  '0.083*\"trees\" + 0.083*\"graph\" + 0.083*\"system\" + 0.083*\"user\" + 0.083*\"interface\" + 0.083*\"minors\" + 0.083*\"human\" + 0.083*\"time\" + 0.083*\"response\" + 0.083*\"computer\"'),\n",
       " (2,\n",
       "  '0.083*\"trees\" + 0.083*\"system\" + 0.083*\"graph\" + 0.083*\"user\" + 0.083*\"minors\" + 0.083*\"interface\" + 0.083*\"survey\" + 0.083*\"response\" + 0.083*\"human\" + 0.083*\"computer\"'),\n",
       " (3,\n",
       "  '0.083*\"trees\" + 0.083*\"graph\" + 0.083*\"system\" + 0.083*\"user\" + 0.083*\"interface\" + 0.083*\"time\" + 0.083*\"survey\" + 0.083*\"eps\" + 0.083*\"response\" + 0.083*\"human\"'),\n",
       " (4,\n",
       "  '0.262*\"minors\" + 0.262*\"graph\" + 0.262*\"survey\" + 0.024*\"trees\" + 0.024*\"system\" + 0.024*\"user\" + 0.024*\"interface\" + 0.024*\"human\" + 0.024*\"computer\" + 0.024*\"response\"'),\n",
       " (5,\n",
       "  '0.153*\"computer\" + 0.153*\"survey\" + 0.153*\"response\" + 0.153*\"system\" + 0.153*\"time\" + 0.153*\"user\" + 0.014*\"trees\" + 0.014*\"graph\" + 0.014*\"human\" + 0.014*\"interface\"'),\n",
       " (6,\n",
       "  '0.404*\"system\" + 0.212*\"human\" + 0.212*\"eps\" + 0.019*\"trees\" + 0.019*\"graph\" + 0.019*\"minors\" + 0.019*\"user\" + 0.019*\"interface\" + 0.019*\"time\" + 0.019*\"response\"'),\n",
       " (7,\n",
       "  '0.262*\"human\" + 0.262*\"computer\" + 0.262*\"interface\" + 0.024*\"trees\" + 0.024*\"graph\" + 0.024*\"user\" + 0.024*\"system\" + 0.024*\"minors\" + 0.024*\"response\" + 0.024*\"time\"'),\n",
       " (8,\n",
       "  '0.212*\"user\" + 0.212*\"eps\" + 0.212*\"system\" + 0.212*\"interface\" + 0.019*\"trees\" + 0.019*\"graph\" + 0.019*\"minors\" + 0.019*\"human\" + 0.019*\"time\" + 0.019*\"computer\"'),\n",
       " (9,\n",
       "  '0.228*\"trees\" + 0.228*\"graph\" + 0.120*\"user\" + 0.120*\"time\" + 0.120*\"minors\" + 0.120*\"response\" + 0.011*\"system\" + 0.011*\"interface\" + 0.011*\"survey\" + 0.011*\"computer\"')]"
      ]
     },
     "execution_count": 12,
     "metadata": {},
     "output_type": "execute_result"
    }
   ],
   "source": [
    "lda.print_topics(10)"
   ]
  },
  {
   "cell_type": "code",
   "execution_count": null,
   "metadata": {},
   "outputs": [],
   "source": []
  }
 ],
 "metadata": {
  "kernelspec": {
   "display_name": "Python 3",
   "language": "python",
   "name": "python3"
  },
  "language_info": {
   "codemirror_mode": {
    "name": "ipython",
    "version": 3
   },
   "file_extension": ".py",
   "mimetype": "text/x-python",
   "name": "python",
   "nbconvert_exporter": "python",
   "pygments_lexer": "ipython3",
   "version": "3.7.4"
  }
 },
 "nbformat": 4,
 "nbformat_minor": 2
}
