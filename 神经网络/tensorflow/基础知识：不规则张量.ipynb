{
 "cells": [
  {
   "cell_type": "code",
   "execution_count": 1,
   "metadata": {},
   "outputs": [],
   "source": [
    "import os\n",
    "#os.environ[\"CUDA_VISIBLE_DEVICES\"]=\"-1\"\n",
    "import tensorflow as tf\n",
    "\n",
    "import timeit\n",
    "from datetime import datetime\n",
    "import math\n",
    "import datetime"
   ]
  },
  {
   "cell_type": "markdown",
   "metadata": {},
   "source": [
    "# 综述\n",
    "不规则张量被许多Tensorflow API支持，如Kears，Datasets，tf.function,SavedModels,以及tf.Example。\n",
    "\n",
    "RaggedTensor存储数据类型必须相同"
   ]
  },
  {
   "cell_type": "code",
   "execution_count": 2,
   "metadata": {},
   "outputs": [
    {
     "name": "stdout",
     "output_type": "stream",
     "text": [
      "<tf.RaggedTensor [[6, 4, 7, 4], [], [8, 12, 5], [9], []]>\n",
      "tf.Tensor([2.25              nan 5.33333333 6.                nan], shape=(5,), dtype=float64)\n",
      "<tf.RaggedTensor [[3, 1, 4, 1], [], [5, 9, 2], [6], [], [5, 3]]>\n",
      "<tf.RaggedTensor [[3, 1, 4, 1, 3, 1, 4, 1], [], [5, 9, 2, 5, 9, 2], [6, 6], []]>\n",
      "<tf.RaggedTensor [[b'So', b'lo'], [b'th', b'fo', b'al', b'th', b'fi']]>\n",
      "<tf.RaggedTensor [[9, 1, 16, 1], [], [25, 81, 4], [36], []]>\n"
     ]
    }
   ],
   "source": [
    "digits = tf.ragged.constant([[3, 1, 4, 1], [], [5, 9, 2], [6], []])\n",
    "words = tf.ragged.constant([[\"So\", \"long\"], [\"thanks\", \"for\", \"all\", \"the\", \"fish\"]])\n",
    "print(tf.add(digits, 3))\n",
    "print(tf.reduce_mean(digits, axis=1))\n",
    "print(tf.concat([digits, [[5, 3]]], axis=0))\n",
    "print(tf.tile(digits, [1, 2]))\n",
    "print(tf.strings.substr(words, 0, 2))\n",
    "print(tf.map_fn(tf.math.square, digits))"
   ]
  },
  {
   "cell_type": "markdown",
   "metadata": {
    "cell_style": "center"
   },
   "source": [
    "使用index访问，可以slices，可以重载晕算法"
   ]
  },
  {
   "cell_type": "code",
   "execution_count": 3,
   "metadata": {
    "cell_style": "center"
   },
   "outputs": [
    {
     "name": "stdout",
     "output_type": "stream",
     "text": [
      "tf.Tensor([3 1 4 1], shape=(4,), dtype=int32)\n",
      "<tf.RaggedTensor [[3, 1], [], [5, 9], [6], []]>\n",
      "<tf.RaggedTensor [[4, 1], [], [9, 2], [6], []]>\n",
      "<tf.RaggedTensor [[6, 4, 7, 4], [], [8, 12, 5], [9], []]>\n",
      "<tf.RaggedTensor [[4, 3, 7, 5], [], [10, 15, 9], [14], []]>\n"
     ]
    }
   ],
   "source": [
    "print(digits[0])       # First row\n",
    "print(digits[:, :2])   # First two values in each row.\n",
    "print(digits[:, -2:])  # Last two values in each row.\n",
    "\n",
    "print(digits + 3)\n",
    "print(digits + tf.ragged.constant([[1, 2, 3, 4], [], [5, 6, 7], [8], []]))"
   ]
  },
  {
   "cell_type": "markdown",
   "metadata": {
    "cell_style": "center"
   },
   "source": [
    "可以使用tf.ragged.map_flat_values对值进行转换"
   ]
  },
  {
   "cell_type": "code",
   "execution_count": 4,
   "metadata": {
    "cell_style": "center"
   },
   "outputs": [
    {
     "name": "stdout",
     "output_type": "stream",
     "text": [
      "<tf.RaggedTensor [[7, 3, 9, 3], [], [11, 19, 5], [13], []]>\n"
     ]
    }
   ],
   "source": [
    "times_two_plus_one = lambda x: x * 2 + 1\n",
    "print(tf.ragged.map_flat_values(times_two_plus_one, digits))"
   ]
  },
  {
   "cell_type": "markdown",
   "metadata": {
    "cell_style": "center"
   },
   "source": [
    "还可以转换为list"
   ]
  },
  {
   "cell_type": "code",
   "execution_count": 5,
   "metadata": {
    "cell_style": "center"
   },
   "outputs": [
    {
     "name": "stdout",
     "output_type": "stream",
     "text": [
      "[[3, 1, 4, 1], [], [5, 9, 2], [6], []]\n",
      "[array([3, 1, 4, 1], dtype=int32) array([], dtype=int32)\n",
      " array([5, 9, 2], dtype=int32) array([6], dtype=int32)\n",
      " array([], dtype=int32)]\n"
     ]
    }
   ],
   "source": [
    "print(digits.to_list())\n",
    "print(digits.numpy())"
   ]
  },
  {
   "cell_type": "markdown",
   "metadata": {},
   "source": [
    "# 构造RaggedTensor\n",
    "方法1：tf.ragged.constant"
   ]
  },
  {
   "cell_type": "code",
   "execution_count": 6,
   "metadata": {},
   "outputs": [
    {
     "name": "stdout",
     "output_type": "stream",
     "text": [
      "<tf.RaggedTensor [[b\"Let's\", b'build', b'some', b'ragged', b'tensors', b'!'], [b'We', b'can', b'use', b'tf.ragged.constant', b'.']]>\n",
      "<tf.RaggedTensor [[[b'I', b'have', b'a', b'cat'], [b'His', b'name', b'is', b'Mat']], [[b'Do', b'you', b'want', b'to', b'come', b'visit'], [b\"I'm\", b'free', b'tomorrow']]]>\n"
     ]
    }
   ],
   "source": [
    "sentences = tf.ragged.constant([\n",
    "    [\"Let's\", \"build\", \"some\", \"ragged\", \"tensors\", \"!\"],\n",
    "    [\"We\", \"can\", \"use\", \"tf.ragged.constant\", \".\"]])\n",
    "print(sentences)\n",
    "\n",
    "paragraphs = tf.ragged.constant([\n",
    "    [['I', 'have', 'a', 'cat'], ['His', 'name', 'is', 'Mat']],\n",
    "    [['Do', 'you', 'want', 'to', 'come', 'visit'], [\"I'm\", 'free', 'tomorrow']],\n",
    "])\n",
    "print(paragraphs)"
   ]
  },
  {
   "cell_type": "markdown",
   "metadata": {},
   "source": [
    "方法2：使用工厂方法创建：\n",
    "\n",
    "tf.RaggedTensor.from_value_rowids, tf.RaggedTensor.from_row_lengths, and tf.RaggedTensor.from_row_splits."
   ]
  },
  {
   "cell_type": "code",
   "execution_count": 7,
   "metadata": {},
   "outputs": [
    {
     "name": "stdout",
     "output_type": "stream",
     "text": [
      "<tf.RaggedTensor [[3, 1, 4, 1], [], [5, 9], [2]]>\n"
     ]
    }
   ],
   "source": [
    "print(tf.RaggedTensor.from_value_rowids(\n",
    "    values=[3, 1, 4, 1, 5, 9, 2],\n",
    "    value_rowids=[0, 0, 0, 0, 2, 2, 3]))"
   ]
  },
  {
   "cell_type": "code",
   "execution_count": 8,
   "metadata": {},
   "outputs": [
    {
     "name": "stdout",
     "output_type": "stream",
     "text": [
      "<tf.RaggedTensor [[3, 1, 4, 1], [], [5, 9], [2]]>\n"
     ]
    }
   ],
   "source": [
    "print(tf.RaggedTensor.from_row_lengths(\n",
    "    values=[3, 1, 4, 1, 5, 9, 2],\n",
    "    row_lengths=[4, 0, 2, 1]))"
   ]
  },
  {
   "cell_type": "code",
   "execution_count": 9,
   "metadata": {},
   "outputs": [
    {
     "name": "stdout",
     "output_type": "stream",
     "text": [
      "<tf.RaggedTensor [[3, 1, 4, 1], [], [5, 9], [2]]>\n"
     ]
    }
   ],
   "source": [
    "print(tf.RaggedTensor.from_row_splits(\n",
    "    values=[3, 1, 4, 1, 5, 9, 2],\n",
    "    row_splits=[0, 4, 4, 6, 7]))"
   ]
  },
  {
   "cell_type": "markdown",
   "metadata": {},
   "source": [
    "# RaggedTensor存储例子\n",
    "\n",
    "https://www.tensorflow.org/guide/ragged_tensor?hl=zh-cn 图行解释，容易理解"
   ]
  },
  {
   "cell_type": "code",
   "execution_count": 10,
   "metadata": {},
   "outputs": [
    {
     "name": "stdout",
     "output_type": "stream",
     "text": [
      "tf.Tensor(\n",
      "[[ 0.03184742  0.00892617 -0.10619263 -0.104574  ]\n",
      " [-0.42845726  0.1958255  -0.66829056  0.09709445]\n",
      " [ 0.01086239 -0.11659843 -0.27539346 -0.19881749]], shape=(3, 4), dtype=float32)\n"
     ]
    }
   ],
   "source": [
    "queries = tf.ragged.constant([['Who', 'is', 'Dan', 'Smith'],\n",
    "                              ['Pause'],\n",
    "                              ['Will', 'it', 'rain', 'later', 'today']])\n",
    "\n",
    "# Create an embedding table.\n",
    "num_buckets = 1024\n",
    "embedding_size = 4\n",
    "# 正太分布生产：不能超过均值的2倍标准差\n",
    "embedding_table = tf.Variable(\n",
    "    tf.random.truncated_normal([num_buckets, embedding_size],\n",
    "                       stddev=1.0 / math.sqrt(embedding_size)))\n",
    "\n",
    "# https://zhuanlan.zhihu.com/p/127077566 本人未验证，容易冲突，推荐使用lookup构建\n",
    "# Look up the embedding for each word.\n",
    "word_buckets = tf.strings.to_hash_bucket_fast(queries, num_buckets)\n",
    "word_embeddings = tf.nn.embedding_lookup(embedding_table, word_buckets)     # ①\n",
    "\n",
    "# Add markers to the beginning and end of each sentence.\n",
    "marker = tf.fill([queries.nrows(), 1], '#')\n",
    "padded = tf.concat([marker, queries, marker], axis=1)                       # ②\n",
    "\n",
    "# Build word bigrams & look up embeddings.\n",
    "bigrams = tf.strings.join([padded[:, :-1], padded[:, 1:]], separator='+')   # ③\n",
    "\n",
    "bigram_buckets = tf.strings.to_hash_bucket_fast(bigrams, num_buckets)\n",
    "bigram_embeddings = tf.nn.embedding_lookup(embedding_table, bigram_buckets) # ④\n",
    "\n",
    "# Find the average embedding for each sentence\n",
    "all_embeddings = tf.concat([word_embeddings, bigram_embeddings], axis=1)    # ⑤\n",
    "avg_embedding = tf.reduce_mean(all_embeddings, axis=1)                      # ⑥\n",
    "print(avg_embedding)"
   ]
  },
  {
   "cell_type": "markdown",
   "metadata": {},
   "source": [
    "# Ragged and uniform dimensions\n",
    "\n",
    "*没看懂表述的意思，例子容易理解*"
   ]
  },
  {
   "cell_type": "code",
   "execution_count": 12,
   "metadata": {
    "cell_style": "split"
   },
   "outputs": [
    {
     "data": {
      "text/plain": [
       "TensorShape([2, None])"
      ]
     },
     "execution_count": 12,
     "metadata": {},
     "output_type": "execute_result"
    }
   ],
   "source": [
    "tf.ragged.constant([[\"Hi\"], [\"How\", \"are\", \"you\"]]).shape"
   ]
  },
  {
   "cell_type": "code",
   "execution_count": 13,
   "metadata": {
    "cell_style": "split"
   },
   "outputs": [
    {
     "name": "stdout",
     "output_type": "stream",
     "text": [
      "tf.Tensor([2 3], shape=(2,), dtype=int64)\n"
     ]
    }
   ],
   "source": [
    "print(tf.ragged.constant([[\"Hi\"], [\"How\", \"are\", \"you\"]]).bounding_shape())"
   ]
  },
  {
   "cell_type": "markdown",
   "metadata": {},
   "source": [
    "# Ragged vs sparse\n",
    "ragged tensor并不是一种稀疏tensor。\n",
    "- 将op应用于稀疏或密集的张量应始终得到相同的结果。\n",
    "- 将op应用于参差不齐或稀疏的张量可能会得出不同的结果。\n",
    "\n",
    "下面的例子，官方链接有图，容易理解"
   ]
  },
  {
   "cell_type": "code",
   "execution_count": 15,
   "metadata": {
    "cell_style": "split"
   },
   "outputs": [
    {
     "name": "stdout",
     "output_type": "stream",
     "text": [
      "<tf.RaggedTensor [[b'John', b'fell', b'asleep'], [b'a', b'big', b'dog', b'barked'], [b'my', b'cat', b'is', b'fuzzy']]>\n"
     ]
    }
   ],
   "source": [
    "ragged_x = tf.ragged.constant([[\"John\"], [\"a\", \"big\", \"dog\"], [\"my\", \"cat\"]])\n",
    "ragged_y = tf.ragged.constant([[\"fell\", \"asleep\"], [\"barked\"], [\"is\", \"fuzzy\"]])\n",
    "print(tf.concat([ragged_x, ragged_y], axis=1))"
   ]
  },
  {
   "cell_type": "code",
   "execution_count": 16,
   "metadata": {
    "cell_style": "split"
   },
   "outputs": [
    {
     "name": "stdout",
     "output_type": "stream",
     "text": [
      "tf.Tensor(\n",
      "[[b'John' b'' b'' b'fell' b'asleep']\n",
      " [b'a' b'big' b'dog' b'barked' b'']\n",
      " [b'my' b'cat' b'' b'is' b'fuzzy']], shape=(3, 5), dtype=string)\n"
     ]
    }
   ],
   "source": [
    "sparse_x = ragged_x.to_sparse()\n",
    "sparse_y = ragged_y.to_sparse()\n",
    "sparse_result = tf.sparse.concat(sp_inputs=[sparse_x, sparse_y], axis=1)\n",
    "print(tf.sparse.to_dense(sparse_result, ''))"
   ]
  },
  {
   "cell_type": "markdown",
   "metadata": {},
   "source": [
    "# Tensorflow API的支持\n",
    "- Kears\n",
    "- tf.Example\n",
    "- tf.data\n",
    "- tf.function\n",
    "- SavedModels\n",
    "\n",
    "# 重载运算符\n",
    "与正常张量相同，ragged tensors重载了同样的运算符：\n",
    "the unary operators -, ~, and abs();\n",
    "\n",
    "and the binary operators +, -, *, /, //, %, **, &, |, ^, ==, <, <=, >, and >=."
   ]
  },
  {
   "cell_type": "code",
   "execution_count": 17,
   "metadata": {},
   "outputs": [
    {
     "name": "stdout",
     "output_type": "stream",
     "text": [
      "<tf.RaggedTensor [[4, 5], [6], [7, 8, 9]]>\n"
     ]
    }
   ],
   "source": [
    "x = tf.ragged.constant([[1, 2], [3], [4, 5, 6]])\n",
    "print(x + 3)"
   ]
  },
  {
   "cell_type": "markdown",
   "metadata": {},
   "source": [
    "# indexing（可能会经常使用）\n",
    "支持python风格的indexing，包括多维索引与切片。但有一个限制：不允许索引到粗糙的维度。这种情况是有问题的，因为指示的值可能存在于某些行中，而不存在于其他行中。\n",
    "\n",
    "此时，我们应该：\n",
    "1. rise an IndexError\n",
    "2. 使用默认值\n",
    "3. kip that value and return a tensor with fewer rows than we started with.\n"
   ]
  },
  {
   "cell_type": "code",
   "execution_count": 18,
   "metadata": {},
   "outputs": [
    {
     "name": "stdout",
     "output_type": "stream",
     "text": [
      "tf.Tensor([b'What' b'is' b'the' b'weather' b'tomorrow'], shape=(5,), dtype=string)\n",
      "tf.Tensor(b'the', shape=(), dtype=string)\n",
      "<tf.RaggedTensor [[b'What', b'is', b'the', b'weather', b'tomorrow'], [b'Goodnight']]>\n",
      "<tf.RaggedTensor [[b'What', b'is', b'the', b'weather', b'tomorrow'], [b'Goodnight']]>\n",
      "<tf.RaggedTensor [[b'Who', b'is', b'George'], [b'What', b'is', b'the'], [b'Goodnight']]>\n",
      "<tf.RaggedTensor [[b'George', b'Washington'], [b'weather', b'tomorrow'], [b'Goodnight']]>\n"
     ]
    }
   ],
   "source": [
    "# 2-D举例\n",
    "queries = tf.ragged.constant(\n",
    "    [['Who', 'is', 'George', 'Washington'],\n",
    "     ['What', 'is', 'the', 'weather', 'tomorrow'],\n",
    "     ['Goodnight']])\n",
    "print(queries[1])                   # A single query\n",
    "print(queries[1, 2])                # A single word\n",
    "print(queries[1:])                  # Everything but the first row\n",
    "print(queries[1:])                  # Everything but the first row\n",
    "print(queries[:, :3])               # The first 3 words of each query\n",
    "print(queries[:, -2:])              # The last 2 words of each query"
   ]
  },
  {
   "cell_type": "code",
   "execution_count": 19,
   "metadata": {},
   "outputs": [
    {
     "name": "stdout",
     "output_type": "stream",
     "text": [
      "<tf.RaggedTensor [[5], [], [6]]>\n",
      "tf.Tensor([8 9], shape=(2,), dtype=int32)\n",
      "<tf.RaggedTensor [[[4]], [[], [6]], [], [[10]]]>\n",
      "<tf.RaggedTensor [[[4]], [[6]], [[7]], [[10]]]>\n"
     ]
    }
   ],
   "source": [
    "# 3-D举例\n",
    "rt = tf.ragged.constant([[[1, 2, 3], [4]],\n",
    "                         [[5], [], [6]],\n",
    "                         [[7]],\n",
    "                         [[8, 9], [10]]])\n",
    "print(rt[1])                        # Second row (2-D RaggedTensor)\n",
    "print(rt[3, 0])                     # First element of fourth row (1-D Tensor)\n",
    "print(rt[:, 1:3])                   # Items 1-3 of each row (3-D RaggedTensor)\n",
    "print(rt[:, -1:])                   # Last item of each row (3-D RaggedTensor)"
   ]
  },
  {
   "cell_type": "markdown",
   "metadata": {},
   "source": [
    "# 张量类型转换\n",
    "RaggedTensor定义了与tf.Tensor，tf.SparseTensor互相转换的method。"
   ]
  },
  {
   "cell_type": "code",
   "execution_count": 20,
   "metadata": {},
   "outputs": [
    {
     "name": "stdout",
     "output_type": "stream",
     "text": [
      "tf.Tensor(\n",
      "[[b'Hi' b'' b'' b'' b'' b'' b'' b'' b'' b'']\n",
      " [b'Welcome' b'to' b'the' b'fair' b'' b'' b'' b'' b'' b'']\n",
      " [b'Have' b'fun' b'' b'' b'' b'' b'' b'' b'' b'']], shape=(3, 10), dtype=string)\n",
      "<tf.RaggedTensor [[1, 3], [2], [4, 5, 8, 9]]>\n",
      "SparseTensor(indices=tf.Tensor(\n",
      "[[0 0]\n",
      " [1 0]\n",
      " [1 1]\n",
      " [1 2]\n",
      " [1 3]\n",
      " [2 0]\n",
      " [2 1]], shape=(7, 2), dtype=int64), values=tf.Tensor([b'Hi' b'Welcome' b'to' b'the' b'fair' b'Have' b'fun'], shape=(7,), dtype=string), dense_shape=tf.Tensor([3 4], shape=(2,), dtype=int64))\n",
      "<tf.RaggedTensor [[b'a'], [], [b'b', b'c']]>\n"
     ]
    }
   ],
   "source": [
    "ragged_sentences = tf.ragged.constant([\n",
    "    ['Hi'], ['Welcome', 'to', 'the', 'fair'], ['Have', 'fun']])\n",
    "# RaggedTensor -> Tensor\n",
    "print(ragged_sentences.to_tensor(default_value='', shape=[None, 10]))\n",
    "# Tensor -> RaggedTensor\n",
    "x = [[1, 3, -1, -1], [2, -1, -1, -1], [4, 5, 8, 9]]\n",
    "print(tf.RaggedTensor.from_tensor(x, padding=-1))\n",
    "\n",
    "#RaggedTensor -> SparseTensor\n",
    "print(ragged_sentences.to_sparse())\n",
    "\n",
    "# SparseTensor -> RaggedTensor\n",
    "st = tf.SparseTensor(indices=[[0, 0], [2, 0], [2, 1]],\n",
    "                     values=['a', 'b', 'c'],\n",
    "                     dense_shape=[3, 3])\n",
    "print(tf.RaggedTensor.from_sparse(st))"
   ]
  },
  {
   "cell_type": "markdown",
   "metadata": {},
   "source": [
    "# Evaluating ragged tensors\n",
    "访问ragged tensor元素：\n",
    "1. 使用tf.RaggedTensor.to_list()转换为一个嵌套的python list\n",
    "2. 使用tf.RaggedTensor.numpy()转换为numpy数组\n",
    "3. 使用属性：tf.RaggedTensor.values and tf.RaggedTensor.row_splits或者tf.RaggedTensor.row_lengths()与tf.RaggedTensor.value_rowids()等行划分方法将ragged tensor分解为他的components。\n",
    "4. 使用python索引"
   ]
  },
  {
   "cell_type": "code",
   "execution_count": 21,
   "metadata": {},
   "outputs": [
    {
     "name": "stdout",
     "output_type": "stream",
     "text": [
      "python list: [[1, 2], [3, 4, 5], [6], [], [7]]\n",
      "numpy array: [array([1, 2], dtype=int32) array([3, 4, 5], dtype=int32)\n",
      " array([6], dtype=int32) array([], dtype=int32) array([7], dtype=int32)]\n",
      "values: [1 2 3 4 5 6 7]\n",
      "splits: [0 2 5 6 6 7]\n",
      "indexed value: [3 4 5]\n"
     ]
    }
   ],
   "source": [
    "rt = tf.ragged.constant([[1, 2], [3, 4, 5], [6], [], [7]])\n",
    "print(\"python list:\", rt.to_list())\n",
    "print(\"numpy array:\", rt.numpy())\n",
    "print(\"values:\", rt.values.numpy())\n",
    "print(\"splits:\", rt.row_splits.numpy())\n",
    "print(\"indexed value:\", rt[1].numpy())"
   ]
  },
  {
   "cell_type": "markdown",
   "metadata": {},
   "source": [
    "# Broadcasting\n",
    "广播是使具有不同形状的张量具有兼容的形状以进行元素操作的过程。更多背景参考：\n",
    "- [Numpy: Broadcasting](https://numpy.org/doc/stable/user/basics.broadcasting.html)\n",
    "- [tf.broadcast_dynamic_shape](https://www.tensorflow.org/api_docs/python/tf/broadcast_dynamic_shape?hl=zh-cn)\n",
    "- [tf.broadcast_to](https://www.tensorflow.org/api_docs/python/tf/broadcast_to?hl=zh-cn)\n",
    "\n",
    "broadcasting的2个基本步骤:\n",
    "1. 如果x和y没有相同的尺寸，则添加外部尺寸（尺寸为1），直到尺寸相同为止。\n",
    "2. 对于每个尺寸在x和y具有不同尺寸的尺寸：\n",
    "    如果x或y在维度d中具有size 1，则在整个维度中重复其值以匹配其他输入的大小。\n",
    "    否则，引发异常（x并且y不兼容广播）。\n",
    "    \n",
    "## 正常Broadcasting"
   ]
  },
  {
   "cell_type": "code",
   "execution_count": 22,
   "metadata": {},
   "outputs": [
    {
     "name": "stdout",
     "output_type": "stream",
     "text": [
      "<tf.RaggedTensor [[4, 5], [6]]>\n"
     ]
    }
   ],
   "source": [
    "# x       (2D ragged):  2 x (num_rows)\n",
    "# y       (scalar)\n",
    "# result  (2D ragged):  2 x (num_rows)\n",
    "x = tf.ragged.constant([[1, 2], [3]])\n",
    "y = 3\n",
    "print(x + y)"
   ]
  },
  {
   "cell_type": "code",
   "execution_count": 23,
   "metadata": {},
   "outputs": [
    {
     "name": "stdout",
     "output_type": "stream",
     "text": [
      "<tf.RaggedTensor [[1010, 1087, 1012], [2019, 2053], [3012, 3032]]>\n"
     ]
    }
   ],
   "source": [
    "# x         (2d ragged):  3 x (num_rows)\n",
    "# y         (2d tensor):  3 x          1\n",
    "# Result    (2d ragged):  3 x (num_rows)\n",
    "x = tf.ragged.constant(\n",
    "   [[10, 87, 12],\n",
    "    [19, 53],\n",
    "    [12, 32]])\n",
    "y = [[1000], [2000], [3000]]\n",
    "print(x + y)"
   ]
  },
  {
   "cell_type": "code",
   "execution_count": 24,
   "metadata": {},
   "outputs": [
    {
     "name": "stdout",
     "output_type": "stream",
     "text": [
      "<tf.RaggedTensor [[[11, 12], [13, 14], [15, 16]], [[17, 18]]]>\n"
     ]
    }
   ],
   "source": [
    "# x      (3d ragged):  2 x (r1) x 2\n",
    "# y      (2d ragged):         1 x 1\n",
    "# Result (3d ragged):  2 x (r1) x 2\n",
    "x = tf.ragged.constant(\n",
    "    [[[1, 2], [3, 4], [5, 6]],\n",
    "     [[7, 8]]],\n",
    "    ragged_rank=1)\n",
    "y = tf.constant([[10]])\n",
    "print(x + y)"
   ]
  },
  {
   "cell_type": "code",
   "execution_count": 25,
   "metadata": {},
   "outputs": [
    {
     "name": "stdout",
     "output_type": "stream",
     "text": [
      "<tf.RaggedTensor [[[[11, 21, 31], [12, 22, 32]], [], [[13, 23, 33]], [[14, 24, 34]]], [[[15, 25, 35], [16, 26, 36]], [[17, 27, 37]]]]>\n"
     ]
    }
   ],
   "source": [
    "# x      (3d ragged):  2 x (r1) x (r2) x 1\n",
    "# y      (1d tensor):                    3\n",
    "# Result (3d ragged):  2 x (r1) x (r2) x 3\n",
    "x = tf.ragged.constant(\n",
    "    [\n",
    "        [\n",
    "            [[1], [2]],\n",
    "            [],\n",
    "            [[3]],\n",
    "            [[4]],\n",
    "        ],\n",
    "        [\n",
    "            [[5], [6]],\n",
    "            [[7]]\n",
    "        ]\n",
    "    ],\n",
    "    ragged_rank=2)\n",
    "y = tf.constant([10, 20, 30])\n",
    "print(x + y)"
   ]
  },
  {
   "cell_type": "markdown",
   "metadata": {},
   "source": [
    "## 错误Broadcasting"
   ]
  },
  {
   "cell_type": "code",
   "execution_count": 26,
   "metadata": {},
   "outputs": [
    {
     "name": "stdout",
     "output_type": "stream",
     "text": [
      "Expected 'tf.Tensor(False, shape=(), dtype=bool)' to be true. Summarized data: b'Unable to broadcast: dimension size mismatch in dimension'\n",
      "1\n",
      "b'lengths='\n",
      "4\n",
      "b'dim_size='\n",
      "2, 4, 1\n"
     ]
    }
   ],
   "source": [
    "# x      (2d ragged): 3 x (r1)\n",
    "# y      (2d tensor): 3 x    4  # trailing dimensions do not match\n",
    "x = tf.ragged.constant([[1, 2], [3, 4, 5, 6], [7]])\n",
    "y = tf.constant([[1, 2, 3, 4], [5, 6, 7, 8], [9, 10, 11, 12]])\n",
    "try:\n",
    "  x + y\n",
    "except tf.errors.InvalidArgumentError as exception:\n",
    "  print(exception)"
   ]
  },
  {
   "cell_type": "code",
   "execution_count": 27,
   "metadata": {},
   "outputs": [
    {
     "name": "stdout",
     "output_type": "stream",
     "text": [
      "Expected 'tf.Tensor(False, shape=(), dtype=bool)' to be true. Summarized data: b'Unable to broadcast: dimension size mismatch in dimension'\n",
      "1\n",
      "b'lengths='\n",
      "2, 2, 1\n",
      "b'dim_size='\n",
      "3, 1, 2\n"
     ]
    }
   ],
   "source": [
    "# x      (2d ragged): 3 x (r1)\n",
    "# y      (2d ragged): 3 x (r2)  # ragged dimensions do not match.\n",
    "x = tf.ragged.constant([[1, 2, 3], [4], [5, 6]])\n",
    "y = tf.ragged.constant([[10, 20], [30, 40], [50]])\n",
    "try:\n",
    "  x + y\n",
    "except tf.errors.InvalidArgumentError as exception:\n",
    "  print(exception)"
   ]
  },
  {
   "cell_type": "code",
   "execution_count": 28,
   "metadata": {},
   "outputs": [
    {
     "name": "stdout",
     "output_type": "stream",
     "text": [
      "Expected 'tf.Tensor(False, shape=(), dtype=bool)' to be true. Summarized data: b'Unable to broadcast: dimension size mismatch in dimension'\n",
      "2\n",
      "b'lengths='\n",
      "3, 3, 3, 3, 3\n",
      "b'dim_size='\n",
      "2, 2, 2, 2, 2\n"
     ]
    }
   ],
   "source": [
    "# x      (3d ragged): 3 x (r1) x 2\n",
    "# y      (3d ragged): 3 x (r1) x 3  # trailing dimensions do not match\n",
    "x = tf.ragged.constant([[[1, 2], [3, 4], [5, 6]],\n",
    "                        [[7, 8], [9, 10]]])\n",
    "y = tf.ragged.constant([[[1, 2, 0], [3, 4, 0], [5, 6, 0]],\n",
    "                        [[7, 8, 0], [9, 10, 0]]])\n",
    "try:\n",
    "  x + y\n",
    "except tf.errors.InvalidArgumentError as exception:\n",
    "  print(exception)"
   ]
  },
  {
   "cell_type": "markdown",
   "metadata": {},
   "source": [
    "# RaggedTensor encoding\n",
    "ragged tensor内部构成（RaggedTensor）\n",
    "\n",
    "参考官方链接要好一点：https://www.tensorflow.org/guide/ragged_tensor?hl=zh-cn#broadcasting"
   ]
  },
  {
   "cell_type": "code",
   "execution_count": 29,
   "metadata": {},
   "outputs": [
    {
     "name": "stdout",
     "output_type": "stream",
     "text": [
      "<tf.RaggedTensor [[3, 1, 4, 1], [], [5, 9], [2]]>\n"
     ]
    }
   ],
   "source": [
    "rt = tf.RaggedTensor.from_row_splits(\n",
    "    values=[3, 1, 4, 1, 5, 9, 2],\n",
    "    row_splits=[0, 4, 4, 6, 7])\n",
    "print(rt)"
   ]
  },
  {
   "cell_type": "code",
   "execution_count": 30,
   "metadata": {},
   "outputs": [
    {
     "name": "stdout",
     "output_type": "stream",
     "text": [
      "<tf.RaggedTensor [[[10, 11, 12]], [], [[], [13, 14], [15, 16, 17, 18], [19]]]>\n"
     ]
    }
   ],
   "source": [
    "rt = tf.RaggedTensor.from_nested_row_splits(\n",
    "    flat_values=[10, 11, 12, 13, 14, 15, 16, 17, 18, 19],\n",
    "    nested_row_splits=([0, 1, 1, 5], [0, 3, 3, 5, 9, 10]))\n",
    "print(rt)"
   ]
  },
  {
   "cell_type": "markdown",
   "metadata": {},
   "source": [
    "# Raded rank与flat values"
   ]
  },
  {
   "cell_type": "code",
   "execution_count": 31,
   "metadata": {},
   "outputs": [
    {
     "data": {
      "text/plain": [
       "TensorShape([2, None, None, None])"
      ]
     },
     "execution_count": 31,
     "metadata": {},
     "output_type": "execute_result"
    }
   ],
   "source": [
    "# shape = [batch, (paragraph), (sentence), (word)]\n",
    "conversations = tf.ragged.constant(\n",
    "    [[[[\"I\", \"like\", \"ragged\", \"tensors.\"]],\n",
    "      [[\"Oh\", \"yeah?\"], [\"What\", \"can\", \"you\", \"use\", \"them\", \"for?\"]],\n",
    "      [[\"Processing\", \"variable\", \"length\", \"data!\"]]],\n",
    "     [[[\"I\", \"like\", \"cheese.\"], [\"Do\", \"you?\"]],\n",
    "      [[\"Yes.\"], [\"I\", \"do.\"]]]])\n",
    "conversations.shape"
   ]
  },
  {
   "cell_type": "code",
   "execution_count": 32,
   "metadata": {},
   "outputs": [
    {
     "data": {
      "text/plain": [
       "3"
      ]
     },
     "execution_count": 32,
     "metadata": {},
     "output_type": "execute_result"
    }
   ],
   "source": [
    "assert conversations.ragged_rank == len(conversations.nested_row_splits)\n",
    "conversations.ragged_rank  # Number of partitioned dimensions."
   ]
  },
  {
   "cell_type": "code",
   "execution_count": 33,
   "metadata": {},
   "outputs": [
    {
     "data": {
      "text/plain": [
       "array([b'I', b'like', b'ragged', b'tensors.', b'Oh', b'yeah?', b'What',\n",
       "       b'can', b'you', b'use', b'them', b'for?', b'Processing',\n",
       "       b'variable', b'length', b'data!', b'I', b'like', b'cheese.', b'Do',\n",
       "       b'you?', b'Yes.', b'I', b'do.'], dtype=object)"
      ]
     },
     "execution_count": 33,
     "metadata": {},
     "output_type": "execute_result"
    }
   ],
   "source": [
    "conversations.flat_values.numpy()"
   ]
  },
  {
   "cell_type": "markdown",
   "metadata": {},
   "source": [
    "# uniform no-inner dimensions"
   ]
  },
  {
   "cell_type": "code",
   "execution_count": 34,
   "metadata": {},
   "outputs": [
    {
     "name": "stdout",
     "output_type": "stream",
     "text": [
      "<tf.RaggedTensor [[[10, 11, 12], [13, 14]], [[15, 16, 17, 18], [19]]]>\n",
      "Shape: (2, 2, None)\n",
      "Number of partitioned dimensions: 2\n"
     ]
    }
   ],
   "source": [
    "rt = tf.RaggedTensor.from_uniform_row_length(\n",
    "    values=tf.RaggedTensor.from_row_splits(\n",
    "        values=[10, 11, 12, 13, 14, 15, 16, 17, 18, 19],\n",
    "        row_splits=[0, 3, 5, 9, 10]),\n",
    "    uniform_row_length=2)\n",
    "print(rt)\n",
    "print(\"Shape: {}\".format(rt.shape))\n",
    "print(\"Number of partitioned dimensions: {}\".format(rt.ragged_rank))"
   ]
  },
  {
   "cell_type": "code",
   "execution_count": null,
   "metadata": {},
   "outputs": [],
   "source": []
  }
 ],
 "metadata": {
  "kernelspec": {
   "display_name": "Python 3",
   "language": "python",
   "name": "python3"
  },
  "language_info": {
   "codemirror_mode": {
    "name": "ipython",
    "version": 3
   },
   "file_extension": ".py",
   "mimetype": "text/x-python",
   "name": "python",
   "nbconvert_exporter": "python",
   "pygments_lexer": "ipython3",
   "version": "3.7.4"
  },
  "toc": {
   "base_numbering": 1,
   "nav_menu": {},
   "number_sections": true,
   "sideBar": true,
   "skip_h1_title": false,
   "title_cell": "Table of Contents",
   "title_sidebar": "Contents",
   "toc_cell": false,
   "toc_position": {},
   "toc_section_display": true,
   "toc_window_display": true
  }
 },
 "nbformat": 4,
 "nbformat_minor": 4
}
