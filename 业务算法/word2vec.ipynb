{
 "cells": [
  {
   "cell_type": "markdown",
   "metadata": {},
   "source": [
    "# 综述\n",
    "产出不是每个词的概率（虽然是前溃神经网络），而是词向量（word embedding），可以计算词之间的相似度，无监督学习，最好加上特定任务更容易发挥他的功效，比如说youtobe的DNN推荐。\n",
    "\n",
    "包括2个重要的模型：CBOW（给定上下文，中心词出现概率）与Skip-gramm（给定中心词，一定距离内，词o出现概率）\n",
    "\n",
    "训练：Hierarchical Softmax + Huffman树;Negative Sampling（速度更快，logloss）\n",
    "\n",
    "优先参考xinrong的论文"
   ]
  },
  {
   "cell_type": "code",
   "execution_count": 1,
   "metadata": {},
   "outputs": [
    {
     "data": {
      "text/html": [
       "\n",
       "        <iframe\n",
       "            width=\"950\"\n",
       "            height=\"450\"\n",
       "            src=\"https://arxiv.org/pdf/1411.2738.pdf\"\n",
       "            frameborder=\"0\"\n",
       "            allowfullscreen\n",
       "        ></iframe>\n",
       "        "
      ],
      "text/plain": [
       "<IPython.lib.display.IFrame at 0x7f7c7d21f890>"
      ]
     },
     "execution_count": 1,
     "metadata": {},
     "output_type": "execute_result"
    }
   ],
   "source": [
    "# 执行获取论文\n",
    "from IPython.display import IFrame\n",
    "IFrame('https://arxiv.org/pdf/1411.2738.pdf', width=950, height=450)"
   ]
  },
  {
   "cell_type": "markdown",
   "metadata": {},
   "source": [
    "# 词向量\n",
    "不采用HS与NG Sample的原始网络：$W_{V \\times N}$中每一行就是对于的词向量。\n",
    "\n",
    "> 一个有趣点：input-hidden层输出，相当于将W矩阵对应的词i行\n",
    "\n",
    "HS：则是root节点参数矩阵\n",
    "\n",
    "NG Sample：隐藏层参数矩阵"
   ]
  },
  {
   "cell_type": "markdown",
   "metadata": {},
   "source": [
    "## CBOW\n",
    "图参考Figure 3,第6页\n",
    "\n",
    "input：Avg(输入上下文词的one-hot)，label：中间词，优化目标，最大化中心词概率"
   ]
  },
  {
   "cell_type": "markdown",
   "metadata": {},
   "source": [
    "## Skip-Gram\n",
    "图参考Figure 3,第8页\n",
    "\n",
    "input：输入词one-hot，label：上下文词，优化目标：$\\prod $上下文词概率"
   ]
  },
  {
   "cell_type": "markdown",
   "metadata": {},
   "source": [
    "# 训练优化"
   ]
  },
  {
   "cell_type": "markdown",
   "metadata": {},
   "source": [
    "## HS\n",
    "第一步：根据词汇表以及词频构建Huffman树，root节点想对于projection矩阵，内部节点相当于hidden层，根节点相当于softmax（可以验证：叶子节点概率和=1，Huffman树构建相同，从Figure 4推，w2+w1=上层点，于是，叶子节点就变成了分层softmax成了明确定义的多项式分布）\n",
    "\n",
    "第二步：根据模型是Skip-Gramm还是CBOW，最大化随机游走概率，SGD求解\n",
    "\n",
    "每次实例上下文词训练复杂度降低到了O(log V)"
   ]
  },
  {
   "cell_type": "markdown",
   "metadata": {},
   "source": [
    "## Negative Sampling\n",
    "每次只更新其中一个样本，label=1需要更新，再采样几个负样例（采样概率通常用词的uniform分布）\n",
    "\n",
    "效率更过，实践效果更好"
   ]
  },
  {
   "cell_type": "markdown",
   "metadata": {
    "cell_style": "center"
   },
   "source": [
    "# gensim的word2vec实践\n",
    "## 分词：jieba\n",
    "[fxsjy/jieba--github](https://github.com/fxsjy/jieba)\n",
    "\n",
    "[models.word2vec – Word2vec embeddings](https://radimrehurek.com/gensim_3.8.3/models/word2vec.html)\n",
    "\n",
    "以三国为例切分词，并保存"
   ]
  },
  {
   "cell_type": "markdown",
   "metadata": {},
   "source": [
    "## 安装gensim\n",
    "\n",
    "```bash\n",
    "pip install gensim\n",
    "```"
   ]
  },
  {
   "cell_type": "code",
   "execution_count": 4,
   "metadata": {},
   "outputs": [],
   "source": [
    "import numpy as np\n",
    "import matplotlib.pyplot as plt\n",
    "%matplotlib inline\n",
    "import math\n",
    "import jieba\n",
    "from gensim.models import word2vec\n",
    "from gensim.models import Word2Vec\n",
    "from string import punctuation\n",
    "import re"
   ]
  },
  {
   "cell_type": "code",
   "execution_count": 5,
   "metadata": {},
   "outputs": [],
   "source": [
    "# 读取符号表\n",
    "# 中英文符号\n",
    "punc = r\"\"\"!\"#$%&'()*+,-./:;<=>?@[\\]^_`{|}~“”？，！《》【】（）、。：；’‘……￥·\"\"\"\n",
    "dicts={i:'' for i in punc}\n",
    "punc_table=str.maketrans(dicts)"
   ]
  },
  {
   "cell_type": "code",
   "execution_count": 19,
   "metadata": {},
   "outputs": [],
   "source": [
    "# 中文切词\n",
    "def cut_cn(file_in=\"../../../learnMLData/三国演义.txt\", file_out=\"../../../learnMLData/三国演义_cut.txt\"):\n",
    "    with open(file_in,encoding='utf-8') as fp, open(file_out, 'w') as fp_w:\n",
    "        for line in fp.readlines():\n",
    "            line = line.strip()\n",
    "            if len(line) == 0:continue\n",
    "            doc_cut  = jieba.cut(line)\n",
    "            # 保存到本地\n",
    "            cut_line = \" \".join(doc_cut)\n",
    "            #cut_line = re.sub(r\"[{}]+\".format(punc),\" \",cut_line)\n",
    "            #print(cut_line)\n",
    "            new_s=cut_line.translate(punc_table)\n",
    "            new_s = re.sub(\" +\", \" \", new_s)\n",
    "            fp_w.write(new_s + \"\\n\")"
   ]
  },
  {
   "cell_type": "code",
   "execution_count": 20,
   "metadata": {
    "code_folding": []
   },
   "outputs": [],
   "source": [
    "# 默认模式切词\n",
    "#with open(\"../../../learnMLData/三国演义.txt\") as fp:\n",
    "#    doc_cut  = jieba.cut(fp.read())\n",
    "#    # 保存到本地\n",
    "#    with open(\"../../../learnMLData/三国演义_cut.txt\", 'w') as fp_w:\n",
    "#        fp_w.write(\" \".join(doc_cut))"
   ]
  },
  {
   "cell_type": "code",
   "execution_count": null,
   "metadata": {},
   "outputs": [],
   "source": []
  },
  {
   "cell_type": "code",
   "execution_count": 21,
   "metadata": {},
   "outputs": [],
   "source": [
    "cut_cn(\"../../../learnMLData/三国演义.txt\", \"../../../learnMLData/三国演义_cut.txt\")"
   ]
  },
  {
   "cell_type": "code",
   "execution_count": 6,
   "metadata": {},
   "outputs": [],
   "source": [
    "#!cat ../../../learnMLData/三国演义_cut.txt|more\n"
   ]
  },
  {
   "cell_type": "code",
   "execution_count": 7,
   "metadata": {},
   "outputs": [
    {
     "data": {
      "text/plain": [
       "40"
      ]
     },
     "execution_count": 7,
     "metadata": {},
     "output_type": "execute_result"
    }
   ],
   "source": [
    "# 设置日志级别，保留不被切碎词\n",
    "import logging\n",
    "logging.basicConfig(format='%(asctime)s: %(levelname)s: %(message)s')\n",
    "logging.root.setLevel(level=logging.ERROR)\n",
    "# 别被切碎了\n",
    "jieba.suggest_freq('邢道荣', True)\n",
    "jieba.suggest_freq('二弟', True)\n",
    "jieba.suggest_freq('三弟', True)\n",
    "jieba.suggest_freq('云长', True)\n",
    "jieba.suggest_freq('翼徳', True)\n",
    "jieba.suggest_freq('子龙', True)\n",
    "jieba.suggest_freq('公瑾', True)\n",
    "jieba.suggest_freq('袁绍', True)\n",
    "jieba.suggest_freq('孙夫人', True)\n",
    "jieba.suggest_freq('刘玄德', True)\n",
    "jieba.suggest_freq('玄德', True)\n",
    "jieba.suggest_freq('曹孟德', True)\n",
    "jieba.suggest_freq('孔明', True)\n",
    "jieba.suggest_freq('诸葛孔明', True)\n",
    "jieba.suggest_freq('关云长', True)"
   ]
  },
  {
   "cell_type": "markdown",
   "metadata": {},
   "source": [
    "## word2vec模型训练与保存\n",
    "hs:0表示负采样，1表示层次softmax\n",
    "\n",
    "min_count：最小次数过滤\n",
    "\n",
    "window：上下文窗口"
   ]
  },
  {
   "cell_type": "code",
   "execution_count": 8,
   "metadata": {
    "scrolled": true
   },
   "outputs": [],
   "source": [
    "# 按行读取文件 \n",
    "sentences = word2vec.LineSentence(\"../../../learnMLData/三国演义_cut.txt\")\n",
    "# 参考：https://radimrehurek.com/gensim/models/word2vec.html,搜索：gensim.models.word2vec.Word2Vec\n",
    "\n",
    "# 负采样\n",
    "xingdaorong_model = word2vec.Word2Vec(sentences, hs=0, min_count=5,window=5)  \n",
    "xingdaorong_model.save(\"../../../learnMLData/xingdaorong_word2vec.model\")"
   ]
  },
  {
   "cell_type": "markdown",
   "metadata": {},
   "source": [
    "## 模型效果"
   ]
  },
  {
   "cell_type": "code",
   "execution_count": 9,
   "metadata": {},
   "outputs": [],
   "source": [
    "saved_model = Word2Vec.load(\"../../../learnMLData/xingdaorong_word2vec.model\")"
   ]
  },
  {
   "cell_type": "code",
   "execution_count": 10,
   "metadata": {},
   "outputs": [
    {
     "name": "stdout",
     "output_type": "stream",
     "text": [
      "吕布 0.9966903328895569\n",
      "后面 0.9959416389465332\n",
      "张飞 0.9956457614898682\n",
      "鼓响 0.9955155849456787\n",
      "人马 0.9954967498779297\n",
      "引军 0.9953625202178955\n"
     ]
    }
   ],
   "source": [
    "# 输出相似度最高词\n",
    "for key in saved_model.wv.similar_by_word('玄德', topn =10):\n",
    "    if len(key[0]) < 10 and len(key[0]) >= 2: \n",
    "        if key[1] >= 0.9:\n",
    "            print(key[0], key[1])\n",
    "        "
   ]
  },
  {
   "cell_type": "code",
   "execution_count": 11,
   "metadata": {},
   "outputs": [
    {
     "data": {
      "text/plain": [
       "0.99669033"
      ]
     },
     "execution_count": 11,
     "metadata": {},
     "output_type": "execute_result"
    }
   ],
   "source": [
    "# 计算相似度\n",
    "saved_model.wv.similarity('玄德', '吕布')"
   ]
  },
  {
   "cell_type": "code",
   "execution_count": 12,
   "metadata": {
    "scrolled": true
   },
   "outputs": [
    {
     "data": {
      "text/plain": [
       "[0.38343197107315063,\n",
       " 0.3044130802154541,\n",
       " 0.022032493725419044,\n",
       " -0.35086163878440857,\n",
       " -0.565599799156189,\n",
       " -0.33796486258506775,\n",
       " -0.29603323340415955,\n",
       " 0.5504494309425354,\n",
       " -0.01562567986547947,\n",
       " 0.7781139612197876]"
      ]
     },
     "execution_count": 12,
     "metadata": {},
     "output_type": "execute_result"
    }
   ],
   "source": [
    "# 词向量\n",
    "saved_model.wv[\"玄德\"].tolist()[0:10]"
   ]
  },
  {
   "cell_type": "markdown",
   "metadata": {
    "cell_style": "center"
   },
   "source": [
    "## 增量更新\n",
    "更新词汇表后，词向量有变化"
   ]
  },
  {
   "cell_type": "code",
   "execution_count": 13,
   "metadata": {},
   "outputs": [],
   "source": [
    "cut_cn(\"../../../learnMLData/三国志.txt\", \"../../../learnMLData/三国志_cut.txt\")"
   ]
  },
  {
   "cell_type": "code",
   "execution_count": 14,
   "metadata": {},
   "outputs": [
    {
     "name": "stderr",
     "output_type": "stream",
     "text": [
      "/home/hdw/anaconda3/lib/python3.7/site-packages/ipykernel_launcher.py:3: DeprecationWarning: Call to deprecated `iter` (Attribute will be removed in 4.0.0, use self.epochs instead).\n",
      "  This is separate from the ipykernel package so we can avoid doing imports until\n"
     ]
    },
    {
     "data": {
      "text/plain": [
       "(2218152, 2979480)"
      ]
     },
     "execution_count": 14,
     "metadata": {},
     "output_type": "execute_result"
    }
   ],
   "source": [
    "sentences = word2vec.LineSentence(\"../../../learnMLData/三国志_cut.txt\")\n",
    "saved_model.build_vocab(sentences, update=True)\n",
    "saved_model.train(sentences, total_examples=saved_model.corpus_count, epochs=saved_model.iter)"
   ]
  },
  {
   "cell_type": "code",
   "execution_count": 15,
   "metadata": {
    "scrolled": true
   },
   "outputs": [
    {
     "data": {
      "text/plain": [
       "[0.38100939989089966,\n",
       " 0.25874558091163635,\n",
       " 0.03287798911333084,\n",
       " -0.2585216462612152,\n",
       " -0.4509778320789337,\n",
       " -0.36657261848449707,\n",
       " -0.2171829491853714,\n",
       " 0.49081605672836304,\n",
       " 0.012886266224086285,\n",
       " 0.6854092478752136]"
      ]
     },
     "execution_count": 15,
     "metadata": {},
     "output_type": "execute_result"
    }
   ],
   "source": [
    "saved_model.wv[\"玄德\"].tolist()[0:10]"
   ]
  },
  {
   "cell_type": "markdown",
   "metadata": {},
   "source": [
    "# C代码中疑问测试"
   ]
  },
  {
   "cell_type": "code",
   "execution_count": 16,
   "metadata": {
    "cell_style": "center"
   },
   "outputs": [
    {
     "data": {
      "image/png": "[encoded data removed]",
      "text/plain": [
       "<Figure size 432x288 with 1 Axes>"
      ]
     },
     "metadata": {
      "needs_background": "light"
     },
     "output_type": "display_data"
    }
   ],
   "source": [
    "# CPP代码中：负采样中频率，\n",
    "x = np.random.rand(1000) * 1000\n",
    "x.sort()\n",
    "y = [math.pow(i, 0.75) for i in x]\n",
    "fig, ax = plt.subplots()\n",
    "ax = plt.gca()\n",
    "\n",
    "ax.plot(x, y)\n",
    "plt.show()"
   ]
  },
  {
   "cell_type": "markdown",
   "metadata": {},
   "source": [
    "# Ref\n",
    "[word2vec Parameter Learning Explained](https://arxiv.org/pdf/1411.2738.pdf)、[\\[论文翻译\\]word2vec Parameter Learning Explained](https://zhuanlan.zhihu.com/p/183161311)\n",
    "\n",
    "[NLP之——Word2Vec详解](https://www.cnblogs.com/guoyaohua/p/9240336.html)\n",
    "\n",
    "两篇原始论文：Efficient Estimation of Word Representations in Vector Space，Recurrent Neural Net Language Model，理解上难度有点大\n",
    "\n",
    "word2vec的C代码：https://github.com/tmikolov/word2vec/blob/master/word2vec.c 方便理解，还可以参考： https://blog.csdn.net/google19890102/article/details/51887344\n",
    "\n",
    "\n",
    "https://blog.csdn.net/shuihupo/article/details/81540433 切词工具对比(选择jieba：https://github.com/fxsjy/jieba)\n",
    "\n",
    "https://radimrehurek.com/gensim/ gensim参考，Documentation\n",
    "\n",
    "[基于Hierarchical Softmax的模型概述](https://www.cnblogs.com/pinard/p/7243513.html) 浅显的介绍了层次softmax的构建"
   ]
  },
  {
   "cell_type": "code",
   "execution_count": null,
   "metadata": {
    "scrolled": true
   },
   "outputs": [],
   "source": [
    "#IFrame('https://www.cnblogs.com/guoyaohua/p/9240336.html', width=800, height=450)"
   ]
  }
 ],
 "metadata": {
  "kernelspec": {
   "display_name": "Python 3",
   "language": "python",
   "name": "python3"
  },
  "language_info": {
   "codemirror_mode": {
    "name": "ipython",
    "version": 3
   },
   "file_extension": ".py",
   "mimetype": "text/x-python",
   "name": "python",
   "nbconvert_exporter": "python",
   "pygments_lexer": "ipython3",
   "version": "3.7.4"
  },
  "toc": {
   "base_numbering": 1,
   "nav_menu": {},
   "number_sections": true,
   "sideBar": true,
   "skip_h1_title": false,
   "title_cell": "Table of Contents",
   "title_sidebar": "Contents",
   "toc_cell": false,
   "toc_position": {
    "height": "769px",
    "left": "1659px",
    "top": "110px",
    "width": "165px"
   },
   "toc_section_display": true,
   "toc_window_display": true
  },
  "varInspector": {
   "cols": {
    "lenName": 16,
    "lenType": 16,
    "lenVar": 40
   },
   "kernels_config": {
    "python": {
     "delete_cmd_postfix": "",
     "delete_cmd_prefix": "del ",
     "library": "var_list.py",
     "varRefreshCmd": "print(var_dic_list())"
    },
    "r": {
     "delete_cmd_postfix": ") ",
     "delete_cmd_prefix": "rm(",
     "library": "var_list.r",
     "varRefreshCmd": "cat(var_dic_list()) "
    }
   },
   "types_to_exclude": [
    "module",
    "function",
    "builtin_function_or_method",
    "instance",
    "_Feature"
   ],
   "window_display": false
  }
 },
 "nbformat": 4,
 "nbformat_minor": 4
}
