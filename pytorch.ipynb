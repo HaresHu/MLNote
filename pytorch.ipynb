{
 "cells": [
  {
   "cell_type": "code",
   "execution_count": 384,
   "metadata": {},
   "outputs": [],
   "source": [
    "import torch\n",
    "from torch.autograd import variable\n",
    "from torch.autograd import Variable\n",
    "import torchvision.models as models\n",
    "import numpy as np\n",
    "\n",
    "from itertools import count\n",
    "import torch. autograd \n",
    "import torch.nn.functional as F \n",
    "\n",
    "import matplotlib. pyplot as plt\n",
    "\n",
    "from sklearn.datasets import load_iris\n",
    "from torch.optim import SGD\n",
    "import torch.utils.data as Data\n",
    "from torch.utils.data import DataLoader\n",
    "import torchvision.datasets as dsets\n",
    "import torchvision.transforms as transforms\n",
    "from torchvision import datasets\n",
    "from torchvision import transforms\n",
    "import torch.nn as nn\n",
    "import jieba"
   ]
  },
  {
   "cell_type": "code",
   "execution_count": 50,
   "metadata": {},
   "outputs": [
    {
     "data": {
      "text/plain": [
       "True"
      ]
     },
     "execution_count": 50,
     "metadata": {},
     "output_type": "execute_result"
    }
   ],
   "source": [
    "torch.cuda.is_available()"
   ]
  },
  {
   "cell_type": "code",
   "execution_count": 36,
   "metadata": {},
   "outputs": [
    {
     "data": {
      "text/plain": [
       "tensor([[-1.8182e-34,  4.5876e-41,  2.8193e-06],\n",
       "        [ 3.0886e-41,  0.0000e+00,  0.0000e+00],\n",
       "        [ 0.0000e+00,  0.0000e+00,  0.0000e+00],\n",
       "        [ 0.0000e+00,  1.8788e+31,  1.7220e+22],\n",
       "        [ 1.5109e-07,  1.7585e-04,  1.0083e-11]])"
      ]
     },
     "execution_count": 36,
     "metadata": {},
     "output_type": "execute_result"
    }
   ],
   "source": [
    "# tensor，张量\n",
    "x = torch.Tensor(5,3)\n",
    "x"
   ]
  },
  {
   "cell_type": "code",
   "execution_count": 30,
   "metadata": {},
   "outputs": [
    {
     "data": {
      "text/plain": [
       "torch.Size([5, 3])"
      ]
     },
     "execution_count": 30,
     "metadata": {},
     "output_type": "execute_result"
    }
   ],
   "source": [
    "x.size()"
   ]
  },
  {
   "cell_type": "code",
   "execution_count": 31,
   "metadata": {},
   "outputs": [],
   "source": [
    "# tensor转numpy\n",
    "y = x.numpy()"
   ]
  },
  {
   "cell_type": "code",
   "execution_count": 32,
   "metadata": {},
   "outputs": [
    {
     "data": {
      "text/plain": [
       "numpy.ndarray"
      ]
     },
     "execution_count": 32,
     "metadata": {},
     "output_type": "execute_result"
    }
   ],
   "source": [
    "type(y)"
   ]
  },
  {
   "cell_type": "code",
   "execution_count": 33,
   "metadata": {},
   "outputs": [],
   "source": [
    "# numpy转tensor\n",
    "z = torch.from_numpy(y)"
   ]
  },
  {
   "cell_type": "code",
   "execution_count": 34,
   "metadata": {},
   "outputs": [
    {
     "data": {
      "text/plain": [
       "tensor([[0., 0., 0.],\n",
       "        [0., 0., 0.],\n",
       "        [0., 0., 0.],\n",
       "        [0., 0., 0.],\n",
       "        [0., 0., 0.]])"
      ]
     },
     "execution_count": 34,
     "metadata": {},
     "output_type": "execute_result"
    }
   ],
   "source": [
    "z"
   ]
  },
  {
   "cell_type": "code",
   "execution_count": 380,
   "metadata": {},
   "outputs": [
    {
     "data": {
      "text/plain": [
       "tensor([[-0.4239, -1.4421,  2.1475],\n",
       "        [-0.8305, -0.4890,  6.7356]])"
      ]
     },
     "execution_count": 380,
     "metadata": {},
     "output_type": "execute_result"
    }
   ],
   "source": [
    "# 矩阵乘法\n",
    "mat1 = torch.randn(2, 3)\n",
    "mat2 = torch.randn(3, 3)\n",
    "torch.mm(mat1, mat2)"
   ]
  },
  {
   "cell_type": "markdown",
   "metadata": {},
   "source": [
    "# Variable对象\n",
    "包括3个子对象：data（数据）,grad(传播梯度，延迟分配),creator（创建这个variable的函数引用，可以回溯整个创建链路，如果 是 用户 创建 的 Variable， 其 creator 为 None， 同时 这种 Variable 称作 Leaf Variable， autograd 只会 给 Leaf Variable 分配 梯度。）"
   ]
  },
  {
   "cell_type": "code",
   "execution_count": 47,
   "metadata": {},
   "outputs": [
    {
     "data": {
      "text/plain": [
       "tensor([ 3.,  6.,  9., 12.])"
      ]
     },
     "execution_count": 47,
     "metadata": {},
     "output_type": "execute_result"
    }
   ],
   "source": [
    "x = torch.rand(4)\n",
    "x = variable(x, requires_grad = True)\n",
    "y = x * 3\n",
    "# 通常取较小的值:为[ 1, 0. 1, 0. 01, 0. 001]\n",
    "grad_variables = torch.FloatTensor([1,2,3,4])\n",
    "y.backward(grad_variables)\n",
    "x.grad"
   ]
  },
  {
   "cell_type": "code",
   "execution_count": 56,
   "metadata": {},
   "outputs": [
    {
     "data": {
      "text/plain": [
       "torch.cuda.device"
      ]
     },
     "execution_count": 56,
     "metadata": {},
     "output_type": "execute_result"
    }
   ],
   "source": [
    "torch. cuda. device"
   ]
  },
  {
   "cell_type": "code",
   "execution_count": 58,
   "metadata": {},
   "outputs": [
    {
     "data": {
      "text/plain": [
       "tensor([2.7548, 2.3314, 2.1470, 0.7294], device='cuda:0',\n",
       "       grad_fn=<AddBackward0>)"
      ]
     },
     "execution_count": 58,
     "metadata": {},
     "output_type": "execute_result"
    }
   ],
   "source": [
    "# cuda,默认情况不支持跨cpu操作，可以使用copy_()，除非启用 对等 存储器 访问， 否则 对于 分布 不同 设备 上 的 张量， 任何 启动 操作 的 尝试 都将 引发 错误。\n",
    "x = x.cuda()\n",
    "y = y.cuda()\n",
    "x + y"
   ]
  },
  {
   "cell_type": "markdown",
   "metadata": {},
   "source": [
    "# 模型保存与加载\n",
    "内置pickle包，save，load(\"model.pkl\")函数"
   ]
  },
  {
   "cell_type": "code",
   "execution_count": 63,
   "metadata": {},
   "outputs": [
    {
     "name": "stderr",
     "output_type": "stream",
     "text": [
      "Downloading: \"https://download.pytorch.org/models/resnet18-5c106cde.pth\" to /home/hdw/.cache/torch/hub/checkpoints/resnet18-5c106cde.pth\n"
     ]
    },
    {
     "data": {
      "application/vnd.jupyter.widget-view+json": {
       "model_id": "bb431a57abbf42e29f96e294e6901ccd",
       "version_major": 2,
       "version_minor": 0
      },
      "text/plain": [
       "HBox(children=(IntProgress(value=0, max=46827520), HTML(value='')))"
      ]
     },
     "metadata": {},
     "output_type": "display_data"
    },
    {
     "name": "stdout",
     "output_type": "stream",
     "text": [
      "\n"
     ]
    }
   ],
   "source": [
    "ResNet18 = models.resnet18( pretrained= True) "
   ]
  },
  {
   "cell_type": "code",
   "execution_count": 64,
   "metadata": {},
   "outputs": [
    {
     "name": "stderr",
     "output_type": "stream",
     "text": [
      "Downloading: \"https://download.pytorch.org/models/alexnet-owt-4df8aa71.pth\" to /home/hdw/.cache/torch/hub/checkpoints/alexnet-owt-4df8aa71.pth\n"
     ]
    },
    {
     "data": {
      "application/vnd.jupyter.widget-view+json": {
       "model_id": "e0696e4d96a34057a78ce282b58be234",
       "version_major": 2,
       "version_minor": 0
      },
      "text/plain": [
       "HBox(children=(IntProgress(value=0, max=244418560), HTML(value='')))"
      ]
     },
     "metadata": {},
     "output_type": "display_data"
    },
    {
     "name": "stdout",
     "output_type": "stream",
     "text": [
      "\n"
     ]
    }
   ],
   "source": [
    "alexnet = models.alexnet(pretrained = True)"
   ]
  },
  {
   "cell_type": "code",
   "execution_count": 66,
   "metadata": {},
   "outputs": [
    {
     "name": "stderr",
     "output_type": "stream",
     "text": [
      "Downloading: \"https://download.pytorch.org/models/squeezenet1_0-a815701f.pth\" to /home/hdw/.cache/torch/hub/checkpoints/squeezenet1_0-a815701f.pth\n"
     ]
    },
    {
     "data": {
      "application/vnd.jupyter.widget-view+json": {
       "model_id": "e2addec3b8ba4017b9d89fb6844be003",
       "version_major": 2,
       "version_minor": 0
      },
      "text/plain": [
       "HBox(children=(IntProgress(value=0, max=5017600), HTML(value='')))"
      ]
     },
     "metadata": {},
     "output_type": "display_data"
    },
    {
     "name": "stdout",
     "output_type": "stream",
     "text": [
      "\n"
     ]
    }
   ],
   "source": [
    "squeezenet = models.squeezenet1_0( pretrained=True) "
   ]
  },
  {
   "cell_type": "code",
   "execution_count": 68,
   "metadata": {},
   "outputs": [
    {
     "name": "stderr",
     "output_type": "stream",
     "text": [
      "Downloading: \"https://download.pytorch.org/models/vgg16-397923af.pth\" to /home/hdw/.cache/torch/hub/checkpoints/vgg16-397923af.pth\n"
     ]
    },
    {
     "data": {
      "application/vnd.jupyter.widget-view+json": {
       "model_id": "1442bd2c584d422698e2d08ce19972d6",
       "version_major": 2,
       "version_minor": 0
      },
      "text/plain": [
       "HBox(children=(IntProgress(value=0, max=553433881), HTML(value='')))"
      ]
     },
     "metadata": {},
     "output_type": "display_data"
    },
    {
     "name": "stdout",
     "output_type": "stream",
     "text": [
      "\n"
     ]
    }
   ],
   "source": [
    "vgg16 = models.vgg16( pretrained= True)"
   ]
  },
  {
   "cell_type": "code",
   "execution_count": 79,
   "metadata": {},
   "outputs": [
    {
     "name": "stderr",
     "output_type": "stream",
     "text": [
      "Downloading: \"https://download.pytorch.org/models/densenet161-8d451a50.pth\" to /home/hdw/.cache/torch/hub/checkpoints/densenet161-8d451a50.pth\n"
     ]
    },
    {
     "data": {
      "application/vnd.jupyter.widget-view+json": {
       "model_id": "dc4491a8ab944f7a81356889be906bfe",
       "version_major": 2,
       "version_minor": 0
      },
      "text/plain": [
       "HBox(children=(IntProgress(value=0, max=115730790), HTML(value='')))"
      ]
     },
     "metadata": {},
     "output_type": "display_data"
    },
    {
     "name": "stdout",
     "output_type": "stream",
     "text": [
      "\n"
     ]
    }
   ],
   "source": [
    "densenet = models.densenet161(pretrained= True)"
   ]
  },
  {
   "cell_type": "code",
   "execution_count": 80,
   "metadata": {},
   "outputs": [
    {
     "name": "stderr",
     "output_type": "stream",
     "text": [
      "Downloading: \"https://download.pytorch.org/models/inception_v3_google-1a9a5a14.pth\" to /home/hdw/.cache/torch/hub/checkpoints/inception_v3_google-1a9a5a14.pth\n"
     ]
    },
    {
     "data": {
      "application/vnd.jupyter.widget-view+json": {
       "model_id": "d96dd0ae9da04875a1ea06879113de80",
       "version_major": 2,
       "version_minor": 0
      },
      "text/plain": [
       "HBox(children=(IntProgress(value=0, max=108857766), HTML(value='')))"
      ]
     },
     "metadata": {},
     "output_type": "display_data"
    },
    {
     "name": "stdout",
     "output_type": "stream",
     "text": [
      "\n"
     ]
    }
   ],
   "source": [
    "inception = models. inception_v3( pretrained= True) "
   ]
  },
  {
   "cell_type": "code",
   "execution_count": 84,
   "metadata": {},
   "outputs": [],
   "source": [
    "# 参考：https://blog.csdn.net/qq_34243930/article/details/107268945\n",
    "# pretrained_dict = torch.utils.model_zoo.load_url( model_urls['resnet134']) "
   ]
  },
  {
   "cell_type": "code",
   "execution_count": 83,
   "metadata": {},
   "outputs": [],
   "source": [
    "# 保存模型参数\n",
    "# saved_model.state_dict()"
   ]
  },
  {
   "cell_type": "code",
   "execution_count": 168,
   "metadata": {},
   "outputs": [],
   "source": [
    "random_state = 5000\n",
    "torch.manual_seed(random_state)\n",
    "POLY_DEGREE = 4\n",
    "W_target = torch.randn(POLY_DEGREE, 1) * 5\n",
    "b_target = torch.randn(1) * 5"
   ]
  },
  {
   "cell_type": "code",
   "execution_count": 169,
   "metadata": {},
   "outputs": [
    {
     "data": {
      "text/plain": [
       "(tensor([[6.1301],\n",
       "         [3.8924],\n",
       "         [0.8614],\n",
       "         [8.2049]]), tensor([-1.6233]))"
      ]
     },
     "execution_count": 169,
     "metadata": {},
     "output_type": "execute_result"
    }
   ],
   "source": [
    "W_target,b_target"
   ]
  },
  {
   "cell_type": "code",
   "execution_count": null,
   "metadata": {},
   "outputs": [],
   "source": []
  },
  {
   "cell_type": "code",
   "execution_count": 181,
   "metadata": {},
   "outputs": [],
   "source": [
    "def make_features(x):\n",
    "    \"\"\"创建一个特征矩阵结构为[x, x^2, x^3, x^4].\"\"\"\n",
    "    # tensor([1,2,3])变成tensor([[1],[2],[3],[4]])\n",
    "    x = x.unsqueeze(1)\n",
    "    # 矩阵根据每一唯独计算 x^i次方，然后cat(x,1)拼成相关特征\n",
    "    return torch.cat([x ** i for i in range(1, POLY_DEGREE + 1)], 1)\n",
    "\n",
    "def f(x):\n",
    "    \"\"\"近似函数.\"\"\"\n",
    "    # 矩阵标准乘法\n",
    "    return x.mm(W_target) + b_target[0]\n",
    "\n",
    "def poly_desc(W, b):\n",
    "    \"\"\"生成多向式描述内容.\"\"\"\n",
    "    result = 'y = '\n",
    "    for i, w in enumerate(W):\n",
    "        result += '{:+.2f} x^{} '.format(w, len(W) - i)\n",
    "    result += '{:+.2f}'.format(b[0])\n",
    "    return result\n",
    "\n",
    "def get_batch(batch_size=32):\n",
    "    \"\"\"创建类似 (x, f(x))的批数据.\"\"\"\n",
    "    random = torch.from_numpy(np.sort(torch.randn(batch_size)))\n",
    "    x = make_features(random)\n",
    "    y = f(x)\n",
    "    return Variable(x), Variable(y)"
   ]
  },
  {
   "cell_type": "code",
   "execution_count": 182,
   "metadata": {},
   "outputs": [],
   "source": [
    "# 声明模型\n",
    "fc = torch.nn.Linear(W_target.size(0), 1)"
   ]
  },
  {
   "cell_type": "code",
   "execution_count": 186,
   "metadata": {},
   "outputs": [
    {
     "data": {
      "image/png": "[encoded data removed]",
      "text/plain": [
       "<Figure size 432x288 with 1 Axes>"
      ]
     },
     "metadata": {
      "needs_background": "light"
     },
     "output_type": "display_data"
    },
    {
     "name": "stdout",
     "output_type": "stream",
     "text": [
      "Loss: 0.000239 after 1 batches\n",
      "==> Learned function:\ty = +6.16 x^4 +3.88 x^3 +0.85 x^2 +8.21 x^1 -1.62\n",
      "==> Actual function:\ty = +6.13 x^4 +3.89 x^3 +0.86 x^2 +8.20 x^1 -1.62\n"
     ]
    }
   ],
   "source": [
    "for batch_idx in count(1):\n",
    "    # 获取数据\n",
    "    batch_x, batch_y = get_batch()\n",
    "\n",
    "    # 重置求导\n",
    "    fc.zero_grad()\n",
    "\n",
    "    # 前向传播\n",
    "    output = F.smooth_l1_loss(fc(batch_x), batch_y)\n",
    "    \n",
    "    if output.data.size() == torch.Size([]):\n",
    "        loss = output.data.item()\n",
    "    else:\n",
    "        loss = output.data[0]\n",
    "    \n",
    "\n",
    "    # 后向传播\n",
    "    output.backward()\n",
    "\n",
    "    # 应用导数\n",
    "    for param in fc.parameters():\n",
    "        # 学习率与曲线\n",
    "        param.data.add_(-0.1 * param.grad.data)\n",
    "\n",
    "    # 停止条件\n",
    "    if loss < 1e-3:\n",
    "        plt.cla()\n",
    "        plt.scatter(batch_x.data.numpy()[:, 0], batch_y.data.numpy()[:, 0], label='real curve', color='b')\n",
    "        plt.plot(batch_x.data.numpy()[:, 0], fc(batch_x).data.numpy()[:, 0], label='fitting curve', color='r')\n",
    "        plt.legend()\n",
    "        plt.show()\n",
    "        break\n",
    "\n",
    "print('Loss: {:.6f} after {} batches'.format(loss, batch_idx))\n",
    "print('==> Learned function:\\t' + poly_desc(fc.weight.data.view(-1), fc.bias.data))\n",
    "print('==> Actual function:\\t' + poly_desc(W_target.view(-1), b_target))"
   ]
  },
  {
   "cell_type": "code",
   "execution_count": 210,
   "metadata": {},
   "outputs": [
    {
     "name": "stdout",
     "output_type": "stream",
     "text": [
      "tensor([ 0.2660, -3.7375])\n",
      "tensor([ 0.2660, -2.0000])\n"
     ]
    }
   ],
   "source": [
    "m = torch.nn.Hardtanh(-2, 2)\n",
    "input = Variable(torch.randn(2) * 3)\n",
    "print(input)\n",
    "print(m(input))\n"
   ]
  },
  {
   "cell_type": "code",
   "execution_count": 214,
   "metadata": {},
   "outputs": [
    {
     "name": "stdout",
     "output_type": "stream",
     "text": [
      "tensor([-4.1278,  0.9082])\n",
      "tensor([0.0000, 0.9082])\n"
     ]
    }
   ],
   "source": [
    "m = torch.nn.ReLU()\n",
    "input = Variable(torch.randn(2) * 3)\n",
    "print(input)\n",
    "print(m(input))\n"
   ]
  },
  {
   "cell_type": "code",
   "execution_count": 218,
   "metadata": {},
   "outputs": [
    {
     "name": "stdout",
     "output_type": "stream",
     "text": [
      "tensor([-0.6092,  0.6982])\n",
      "tensor([0.2129, 0.7871])\n"
     ]
    }
   ],
   "source": [
    "# 给定的维度：如行\n",
    "m = torch.nn.Softmax(dim=0)\n",
    "input = Variable(torch.randn(2) * 3)\n",
    "print(input)\n",
    "print(m(input))"
   ]
  },
  {
   "cell_type": "markdown",
   "metadata": {},
   "source": [
    "# 激活函数/损失函数\n",
    "## 激活函数\n",
    "1） Sigmod: 缺点也明显：导致梯度消失（有效范围太短，值很大很小的时候，变化趋于平缓），输出非0均值。输出都是正值，梯度也是正值，导致锯齿型。 导数涉及除法，训练过程反向传播时计算量特别大\n",
    "\n",
    "2） Tanh，双曲三角函数$tanh(x) = \\frac{e^x - e^{-x}}{e^x + e^{-x}}$;相比sigmod有改进，但是依然没有解决梯度消失问题，本质上是：$tanh(x) = 2 * sigmod(x) - 1$;最好不在隐含层使用，梯度消失。可以在输出层使用。\n",
    "\n",
    "3）Hard Tanh:$f(x) =\\left\\{\\begin{matrix}\n",
    "+1, x > 1\\\\ \n",
    "-1, x < -1\\\\ \n",
    "x, other\n",
    "\\end{matrix}\\right.$\n",
    "\n",
    "4）ReLU：$f(x) = max(0, x)$;模仿生物（对一部分信号忽略，对一部分信号产生反映），也有缺点，会死（训练一段时间后，只会输出0,尤其是学习率很大的时候，也就是一个很大数据流过后，可能变为0,梯度都是负数了），pytorch有一个参数inplace用来选择是否进行覆盖运算\n",
    "\n",
    "还有很多改进版：Leaky ReLU,小于0时不再输出0：$f(x) =max(\\alpha x, x)$，实际并未总是优于ReLU\n",
    "\n",
    "Parametric ReLU:（上述参数是学习出来的）\n",
    "\n",
    "ELU：$f(x) =\\left\\{\\begin{matrix}\n",
    "\\alpha(exp(x) - 1), x < 0\\\\ \n",
    "x, other\n",
    "\\end{matrix}\\right.$，虽然拥有所有有点，但是实际证明也并未总是好于ReLU，计算还比较慢，因为有指数运算。收敛会快一点。\n",
    "\n",
    "\n",
    "\n",
    "5） Maxout：会导致参数K倍增长\n",
    "\n",
    "6）Softmax：http://ufldl.stanford.edu/tutorial/supervised/SoftmaxRegression/，需要加上正则项，不是严格非凸\n",
    "\n",
    "7）LogSoftmax：增加log\n",
    "\n",
    "\n",
    "## 损失函数\n",
    "torch.nn.MSELoss\n",
    "\n",
    "L1Loss\n",
    "\n",
    "BCELoss/BCEWithLogitsLoss\n",
    "\n",
    "NLLLoss:多分类负对数似然，输出层要用LogSoftmax\n",
    "\n",
    "CrossEntropyLoss：为NLLLoss与LogSoftmax的组合\n"
   ]
  },
  {
   "cell_type": "code",
   "execution_count": 232,
   "metadata": {},
   "outputs": [
    {
     "name": "stdout",
     "output_type": "stream",
     "text": [
      "tensor([[ 0.5156, -0.0207, -1.3788,  1.7564,  0.9307],\n",
      "        [-0.0664,  1.2450, -1.4570, -1.4603,  0.0154],\n",
      "        [ 1.1116, -0.8455, -1.3862,  0.5650, -0.6280]], requires_grad=True)\n",
      "tensor([[-0.0933,  0.6185, -0.6048,  1.7726,  0.7905],\n",
      "        [ 0.5479, -1.7936, -1.3707,  2.2451, -0.5487],\n",
      "        [-0.3365,  0.5921,  0.1383,  0.6683,  0.1583]])\n",
      "tensor(2.1454, grad_fn=<MseLossBackward>)\n",
      "MSELoss()\n"
     ]
    }
   ],
   "source": [
    "loss = torch.nn.MSELoss()\n",
    "input = torch.randn(3, 5, requires_grad=True)\n",
    "print(input)\n",
    "target = torch.randn(3, 5)\n",
    "print(target)\n",
    "output = loss(input, target)\n",
    "print(output)\n",
    "output.backward()\n",
    "print(loss)"
   ]
  },
  {
   "cell_type": "code",
   "execution_count": 233,
   "metadata": {},
   "outputs": [
    {
     "name": "stdout",
     "output_type": "stream",
     "text": [
      "tensor([[ 1.2386, -0.0333, -0.5465, -0.6898,  0.1318],\n",
      "        [ 0.0706, -0.3355, -2.2194,  0.2243,  1.3485],\n",
      "        [ 0.1336, -0.0866, -0.5319,  0.0630, -1.7073]], requires_grad=True)\n",
      "tensor([[ 0.1670,  0.3214, -1.1593,  1.6702,  0.2661],\n",
      "        [ 0.8003, -0.7230,  1.3708,  0.1533,  0.3557],\n",
      "        [-2.5627,  0.1323,  0.5003, -1.4135, -0.6439]])\n",
      "tensor(1.1195, grad_fn=<L1LossBackward>)\n",
      "L1Loss()\n"
     ]
    }
   ],
   "source": [
    "# L1 Loss\n",
    "loss = torch.nn.L1Loss()\n",
    "input = torch.randn(3, 5, requires_grad=True)\n",
    "print(input)\n",
    "target = torch.randn(3, 5)\n",
    "print(target)\n",
    "output = loss(input, target)\n",
    "print(output)\n",
    "output.backward()\n",
    "print(loss)"
   ]
  },
  {
   "cell_type": "code",
   "execution_count": 236,
   "metadata": {},
   "outputs": [
    {
     "name": "stdout",
     "output_type": "stream",
     "text": [
      "tensor([ 5.7415e-01, -9.3431e-04,  9.7947e-01], requires_grad=True)\n",
      "tensor([3., 4., 3.])\n",
      "tensor(-0.5484, grad_fn=<BinaryCrossEntropyBackward>)\n",
      "BCELoss()\n"
     ]
    }
   ],
   "source": [
    "# 二项 交叉熵 Loss\n",
    "m = torch.nn.Sigmoid()\n",
    "loss = torch.nn.BCELoss()\n",
    "input = torch.randn(3,requires_grad=True)\n",
    "print(input)\n",
    "target = torch.empty(3).random_(3, 5)\n",
    "print(target)\n",
    "output = loss(m(input), target)\n",
    "print(output)\n",
    "output.backward()\n",
    "print(loss)"
   ]
  },
  {
   "cell_type": "code",
   "execution_count": null,
   "metadata": {},
   "outputs": [],
   "source": [
    "# BCEWithLogitsLoss,同BCELoss，用于二分类，只是Sigmod集成到函数里了 "
   ]
  },
  {
   "cell_type": "markdown",
   "metadata": {},
   "source": [
    "# 数据准备\n",
    "torch.utils.data.DataSet:在定义Dataset的子类时, 必须重载两个函数:_len_ 和_getitem_。_len_返回数据集大小，_getitem_实现数据下标索引，返回对应的图像与标记\n",
    "\n",
    "torch.utils.data.DataLoader加载数据，并进行采样，生成batch迭代器"
   ]
  },
  {
   "cell_type": "code",
   "execution_count": 277,
   "metadata": {},
   "outputs": [
    {
     "name": "stdout",
     "output_type": "stream",
     "text": [
      "use_cuda:  True\n",
      "dict_keys(['data', 'target', 'frame', 'target_names', 'DESCR', 'feature_names', 'filename'])\n",
      "(150, 4)\n",
      "(150,)\n",
      "tensor([0, 0, 0, 0, 0, 0, 0, 0, 0, 0, 0, 0, 0, 0, 0, 0, 0, 0, 0, 0, 0, 0, 0, 0,\n",
      "        0, 0, 0, 0, 0, 0, 0, 0, 0, 0, 0, 0, 0, 0, 0, 0, 0, 0, 0, 0, 0, 0, 0, 0,\n",
      "        0, 0, 1, 1, 1, 1, 1, 1, 1, 1, 1, 1, 1, 1, 1, 1, 1, 1, 1, 1, 1, 1, 1, 1,\n",
      "        1, 1, 1, 1, 1, 1, 1, 1, 1, 1, 1, 1, 1, 1, 1, 1, 1, 1, 1, 1, 1, 1, 1, 1,\n",
      "        1, 1, 1, 1, 2, 2, 2, 2, 2, 2, 2, 2, 2, 2, 2, 2, 2, 2, 2, 2, 2, 2, 2, 2,\n",
      "        2, 2, 2, 2, 2, 2, 2, 2, 2, 2, 2, 2, 2, 2, 2, 2, 2, 2, 2, 2, 2, 2, 2, 2,\n",
      "        2, 2, 2, 2, 2, 2])\n",
      "Net(\n",
      "  (hidden): Linear(in_features=4, out_features=5, bias=True)\n",
      "  (predict): Linear(in_features=5, out_features=4, bias=True)\n",
      ")\n"
     ]
    },
    {
     "data": {
      "image/png": "[encoded data removed]",
      "text/plain": [
       "<Figure size 432x288 with 1 Axes>"
      ]
     },
     "metadata": {
      "needs_background": "light"
     },
     "output_type": "display_data"
    }
   ],
   "source": [
    "# 只有一个隐藏层的神经网络\n",
    "# GPU 是否可用\n",
    "use_cuda = torch.cuda.is_available()\n",
    "print(\"use_cuda: \", use_cuda)\n",
    "# 加载数据集\n",
    "iris = load_iris()\n",
    "print(iris.keys())\n",
    "\n",
    "x = iris['data']  # 特征信息\n",
    "y = iris['target']  # 目标分类\n",
    "print(x.shape)  # (150, 4)\n",
    "print(y.shape)  # (150,)\n",
    "\n",
    "x = torch.FloatTensor(x)\n",
    "y = torch.LongTensor(y)\n",
    "print(y)\n",
    "x, y = Variable(x), Variable(y)\n",
    "\n",
    "# 需要继承module，且重写forward方法\n",
    "class Net(torch.nn.Module):\n",
    "    \"\"\"\n",
    "    定义网络\n",
    "    \"\"\"\n",
    "\n",
    "    def __init__(self, n_feature, n_hidden, n_output):\n",
    "        \"\"\"\n",
    "        初始化函数，接受自定义输入特征维数，隐藏层特征维数，输出层特征维数\n",
    "        \"\"\"\n",
    "        super(Net, self).__init__()\n",
    "        self.hidden = torch.nn.Linear(n_feature, n_hidden)  # 一个线性隐藏层\n",
    "        self.predict = torch.nn.Linear(n_hidden, n_output)  # 线性输出层\n",
    "\n",
    "    def forward(self, x):\n",
    "        \"\"\"\n",
    "        前向传播过程\n",
    "        \"\"\"\n",
    "        x = F.sigmoid(self.hidden(x))\n",
    "        x = self.predict(x)\n",
    "        out = F.log_softmax(x, dim=1)\n",
    "        return out\n",
    "    \n",
    "# iris 中输入特征 4 维，隐藏层和输出层可以自己选择\n",
    "net = Net(n_feature=4, n_hidden=5, n_output=4)\n",
    "# 查看网络结构\n",
    "print(net)\n",
    "# 如果GPU可用 训练数据和模型都放到GPU上，注意：数据和网络是否在GPU上要同步\n",
    "if use_cuda:\n",
    "    x = x.cuda()\n",
    "    y = y.cuda()\n",
    "    net = net.cuda()\n",
    "# 定义优化器:不同参数，loss不同\n",
    "optimizer = SGD(net.parameters(), lr=0.5, momentum=0)\n",
    "\n",
    "# 记录要绘制的数据\n",
    "px, py = [], []\n",
    "#plt.rcParams['font.sans-serif'] = ['STSong']  # 用来正常显示中文标签\n",
    "#plt.rcParams['axes.unicode_minus'] = False  # 用来正常显示负号\n",
    "iter_num = 1000\n",
    "for i in range(iter_num):\n",
    "    # 数据集传入网络前向计算\n",
    "    prediction = net(x)\n",
    "\n",
    "    # 计算loss\n",
    "    loss = F.nll_loss(prediction, y)\n",
    "    # 这里也可用CrossEntropyLoss\n",
    "    # loss = loss_func(prediction, y)\n",
    "    # 清除网络状态梯度\n",
    "    optimizer.zero_grad()\n",
    "    # loss 反向传播\n",
    "    loss.backward()\n",
    "    # 更新参数\n",
    "    optimizer.step()\n",
    "    # 打印并记录当前的index 和 loss\n",
    "    #print(i, \"loss:\", loss.data)\n",
    "    #print(i, \" loss: \", loss.data.item())\n",
    "    px.append(i)\n",
    "    py.append(loss.data.item())\n",
    "    \n",
    "    if i % 10 == 0:\n",
    "        # 动态画出loss走向 结果：loss.png\n",
    "        plt.cla()\n",
    "        plt.title('Loss Curve')\n",
    "        plt.xlabel('Iter Times')\n",
    "        plt.ylabel('Loss')\n",
    "        plt.plot(px, py, 'r-', lw=1)\n",
    "        plt.text(0, 0, 'Loss=%.4f' % loss.data.item(), fontdict={'size': 20, 'color': 'red'})\n",
    "        #plt.pause(0.01)\n",
    "    if i == iter_num - 1:\n",
    "        # 最后一个图像定格\n",
    "        plt.show()"
   ]
  },
  {
   "cell_type": "markdown",
   "metadata": {},
   "source": [
    "# 深度神经网络\n",
    "\n",
    "## 综述\n",
    "2006年大婶Geoffrey Hinton在深度信念网络提出的“贪婪逐层预训练”算法使深度学习网络训练成为可能\n",
    "\n",
    "难以训练问题，以sigmod激活函数为例：\n",
    "\n",
    "Sigmod激活函数存在梯度消失与梯度爆炸问题，可以参考：https://zhuanlan.zhihu.com/p/25631496 核心是链式求导出现连乘，每层$w {\\sigma}'(input)$与1的关系，小于1，则梯度消失，大于1，则梯度爆炸。\n",
    "\n",
    "## 优化器\n",
    "GD，SGD(不是每次都梯度下降，看你陷入局部最小值点跳动难以收敛), mini-batch SGD（要求样本满足独立条件，所以优化前将样本随机打乱）：momentum方法（SGD基础上引入动量概念，相当于顺梯度方向加速）\n",
    "\n",
    "AdaGrad:梯度更新时/累计平方梯度的平方根，实际操作时，存在过早过量降低有效学习率，在凸函数中可以快速收敛\n",
    "\n",
    "RMSProp（Hiton提出)：计算累计梯度方式不一样：https://pytorch.org/docs/stable/optim.html?highlight=rmsprop#torch.optim.RMSprop ， https://www.cs.toronto.edu/~tijmen/csc321/slides/lecture_slides_lec6.pdf ， 有效且实用的方法\n",
    "\n",
    "Adam：https://blog.csdn.net/yinyu19950811/article/details/90476956 ，泛化性能不一定好且可能不收敛\n",
    "\n",
    "## 正则化\n",
    "通常，偏置项（bias）不做正则,只对权证做正则化。\n",
    "\n",
    "### Batch Normalization\n",
    "训练集与测试集满足同样分布，泛化性能也会好，而神经网络隐含层的非线性变化让特征变得相关，需要在层与层之间做标准化\n",
    "### Dropout\n",
    "按一定概率暂时丢弃部分神经元。如果是Batch-SGD,相当于每一个小批量都在训练不同模型。（https://www.jiqizhixin.com/graph/technologies/1c91194a-1732-4fb3-90c9-e0135c69027e 综述了dropout与BN共用问题）"
   ]
  },
  {
   "cell_type": "code",
   "execution_count": 302,
   "metadata": {},
   "outputs": [
    {
     "data": {
      "image/png": "[encoded data removed]",
      "text/plain": [
       "<Figure size 432x288 with 1 Axes>"
      ]
     },
     "metadata": {
      "needs_background": "light"
     },
     "output_type": "display_data"
    },
    {
     "name": "stdout",
     "output_type": "stream",
     "text": [
      "Epoch:  0\n",
      "Epoch:  1\n",
      "Epoch:  2\n",
      "Epoch:  3\n",
      "Epoch:  4\n",
      "Epoch:  5\n",
      "Epoch:  6\n",
      "Epoch:  7\n",
      "Epoch:  8\n",
      "Epoch:  9\n"
     ]
    },
    {
     "data": {
      "image/png": "[encoded data removed]",
      "text/plain": [
       "<Figure size 432x288 with 1 Axes>"
      ]
     },
     "metadata": {
      "needs_background": "light"
     },
     "output_type": "display_data"
    }
   ],
   "source": [
    "# 测试不同优化算法\n",
    "torch.manual_seed(1)  # 确定随机种子，保证结果可重复\n",
    "\n",
    "LR = 0.01\n",
    "BATCH_SIZE = 20\n",
    "EPOCH = 10\n",
    "\n",
    "# 生成数据\n",
    "x = torch.unsqueeze(torch.linspace(-1, 1, 1500), dim=1)\n",
    "y = x.pow(3) + 0.1 * torch.normal(torch.zeros(*x.size()))\n",
    "\n",
    "# 绘制数据分布\n",
    "plt.scatter(x.numpy(), y.numpy())\n",
    "plt.show()\n",
    "\n",
    "# 把数据转换为torch类型\n",
    "torch_dataset = Data.TensorDataset(x, y)\n",
    "loader = Data.DataLoader(dataset=torch_dataset, batch_size=BATCH_SIZE, shuffle=True, num_workers=2, )\n",
    "\n",
    "\n",
    "# 定义模型\n",
    "class Net(torch.nn.Module):\n",
    "    def __init__(self):\n",
    "        super(Net, self).__init__()\n",
    "        self.hidden = torch.nn.Linear(1, 20)  # 隐藏层\n",
    "        self.predict = torch.nn.Linear(20, 1)  # 输出层\n",
    "\n",
    "    def forward(self, x):\n",
    "        # pdb.set_trace()\n",
    "        x = F.relu(self.hidden(x))  # 隐藏层的激活函数\n",
    "        x = self.predict(x)  # 线性输出\n",
    "        return x\n",
    "\n",
    "\n",
    "# 不同的网络模型\n",
    "net_SGD = Net()\n",
    "net_Momentum = Net()\n",
    "net_RMSprop = Net()\n",
    "net_AdaGrad = Net()\n",
    "net_Adam = Net()\n",
    "\n",
    "nets = [net_SGD, net_Momentum, net_AdaGrad, net_RMSprop, net_Adam]\n",
    "# 不同的优化器\n",
    "opt_SGD = torch.optim.SGD(net_SGD.parameters(), lr=LR)\n",
    "opt_Momentum = torch.optim.SGD(net_Momentum.parameters(), lr=LR, momentum=0.8)\n",
    "\n",
    "opt_AdaGrad = torch.optim.Adagrad(net_AdaGrad.parameters(), lr=LR)\n",
    "opt_RMSprop = torch.optim.RMSprop(net_RMSprop.parameters(), lr=LR, alpha=0.9)\n",
    "opt_Adam = torch.optim.Adam(net_Adam.parameters(), lr=LR, betas=(0.9, 0.99))\n",
    "optimizers = [opt_SGD, opt_Momentum, opt_AdaGrad, opt_RMSprop, opt_Adam]\n",
    "\n",
    "loss_func = torch.nn.MSELoss()\n",
    "losses_his = [[], [], [], [], []]  # 记录loss用\n",
    "\n",
    "# 模型训练\n",
    "for epoch in range(EPOCH):\n",
    "    print('Epoch: ', epoch)\n",
    "    for step, (batch_x, batch_y) in enumerate(loader):\n",
    "        b_x = Variable(batch_x)\n",
    "        b_y = Variable(batch_y)\n",
    "        #print(b_x.size(),step)\n",
    "\n",
    "        for net, opt, l_his in zip(nets, optimizers, losses_his):\n",
    "            output = net(b_x)  # 前向算法的结果\n",
    "            loss = loss_func(output, b_y)  # 计算loss\n",
    "            opt.zero_grad()  # 梯度清零\n",
    "            loss.backward()  # 后向算法，计算梯度\n",
    "            opt.step()  # 应用梯度\n",
    "            l_his.append(loss.data.item())  # 记录loss\n",
    "\n",
    "labels = ['SGD', 'Momentum', 'AdaGrad', 'RMSprop', 'Adam']\n",
    "for i, l_his in enumerate(losses_his):\n",
    "    plt.plot(l_his, label=labels[i])\n",
    "plt.legend(loc='best')\n",
    "plt.xlabel('Steps')\n",
    "plt.ylabel('Loss')\n",
    "plt.ylim((0, 0.2))\n",
    "plt.show()"
   ]
  },
  {
   "cell_type": "code",
   "execution_count": 305,
   "metadata": {
    "scrolled": false
   },
   "outputs": [
    {
     "name": "stdout",
     "output_type": "stream",
     "text": [
      "Net(\n",
      "  (fc1): Linear(in_features=784, out_features=500, bias=True)\n",
      "  (relu): ReLU()\n",
      "  (fc2): Linear(in_features=500, out_features=10, bias=True)\n",
      ")\n",
      "Epoch [1/5], Step [100/600], Loss: 0.3793\n",
      "Epoch [1/5], Step [200/600], Loss: 0.1680\n",
      "Epoch [1/5], Step [300/600], Loss: 0.2315\n",
      "Epoch [1/5], Step [400/600], Loss: 0.2143\n",
      "Epoch [1/5], Step [500/600], Loss: 0.2044\n",
      "Epoch [1/5], Step [600/600], Loss: 0.1387\n",
      "Epoch [2/5], Step [100/600], Loss: 0.1129\n",
      "Epoch [2/5], Step [200/600], Loss: 0.0445\n",
      "Epoch [2/5], Step [300/600], Loss: 0.1440\n",
      "Epoch [2/5], Step [400/600], Loss: 0.0942\n",
      "Epoch [2/5], Step [500/600], Loss: 0.1185\n",
      "Epoch [2/5], Step [600/600], Loss: 0.0455\n",
      "Epoch [3/5], Step [100/600], Loss: 0.0329\n",
      "Epoch [3/5], Step [200/600], Loss: 0.0378\n",
      "Epoch [3/5], Step [300/600], Loss: 0.0441\n",
      "Epoch [3/5], Step [400/600], Loss: 0.0858\n",
      "Epoch [3/5], Step [500/600], Loss: 0.0445\n",
      "Epoch [3/5], Step [600/600], Loss: 0.0863\n",
      "Epoch [4/5], Step [100/600], Loss: 0.0432\n",
      "Epoch [4/5], Step [200/600], Loss: 0.1043\n",
      "Epoch [4/5], Step [300/600], Loss: 0.0366\n",
      "Epoch [4/5], Step [400/600], Loss: 0.0892\n",
      "Epoch [4/5], Step [500/600], Loss: 0.0285\n",
      "Epoch [4/5], Step [600/600], Loss: 0.1415\n",
      "Epoch [5/5], Step [100/600], Loss: 0.0252\n",
      "Epoch [5/5], Step [200/600], Loss: 0.0182\n",
      "Epoch [5/5], Step [300/600], Loss: 0.0054\n",
      "Epoch [5/5], Step [400/600], Loss: 0.0404\n",
      "Epoch [5/5], Step [500/600], Loss: 0.0170\n",
      "Epoch [5/5], Step [600/600], Loss: 0.0706\n",
      "Accuracy of the network on the 10000 test images: 97 %\n"
     ]
    }
   ],
   "source": [
    "# MNIST\n",
    "# Hyper Parameters   配置参数\n",
    "torch.manual_seed(1)  # 设置随机数种子，确保结果可重复\n",
    "input_size = 784  #\n",
    "hidden_size = 500\n",
    "num_classes = 10\n",
    "num_epochs = 5  # 训练次数\n",
    "batch_size = 100  # 批处理大小\n",
    "learning_rate = 0.001  # 学习率\n",
    "\n",
    "# MNIST Dataset  下载训练集 MNIST 手写数字训练集\n",
    "train_dataset = dsets.MNIST(root='./data',  # 数据保持的位置\n",
    "                            train=True,  # 训练集\n",
    "                            transform=transforms.ToTensor(),  # 一个取值范围是[0,255]的PIL.Image\n",
    "                            # 转化为取值范围是[0,1.0]的torch.FloadTensor\n",
    "                            download=True)  # 下载数据\n",
    "\n",
    "test_dataset = dsets.MNIST(root='./data',\n",
    "                           train=False,  # 测试集\n",
    "                           transform=transforms.ToTensor())\n",
    "\n",
    "# Data Loader (Input Pipeline)\n",
    "# 数据的批处理，尺寸大小为batch_size,\n",
    "# 在训练集中，shuffle 必须设置为True, 表示次序是随机的\n",
    "train_loader = torch.utils.data.DataLoader(dataset=train_dataset,\n",
    "                                           batch_size=batch_size,\n",
    "                                           shuffle=True)\n",
    "\n",
    "test_loader = torch.utils.data.DataLoader(dataset=test_dataset,\n",
    "                                          batch_size=batch_size,\n",
    "                                          shuffle=False)\n",
    "\n",
    "\n",
    "# Neural Network Model (1 hidden layer)  定义神经网络模型\n",
    "class Net(nn.Module):\n",
    "    def __init__(self, input_size, hidden_size, num_classes):\n",
    "        super(Net, self).__init__()\n",
    "        self.fc1 = nn.Linear(input_size, hidden_size)\n",
    "        self.relu = nn.ReLU()\n",
    "        self.fc2 = nn.Linear(hidden_size, num_classes)\n",
    "\n",
    "    def forward(self, x):\n",
    "        out = self.fc1(x)\n",
    "        out = self.relu(out)\n",
    "        out = self.fc2(out)\n",
    "        return out\n",
    "\n",
    "\n",
    "net = Net(input_size, hidden_size, num_classes)\n",
    "# 打印模型\n",
    "print(net)\n",
    "\n",
    "# Loss and Optimizer  定义loss和optimizer\n",
    "criterion = nn.CrossEntropyLoss()\n",
    "optimizer = torch.optim.Adam(net.parameters(), lr=learning_rate)\n",
    "\n",
    "# Train the Model   开始训练\n",
    "for epoch in range(num_epochs):\n",
    "    for i, (images, labels) in enumerate(train_loader):  # 批处理\n",
    "        # Convert torch tensor to Variable\n",
    "        #print(images.size())\n",
    "        images = Variable(images.view(-1, 28 * 28))\n",
    "        labels = Variable(labels)\n",
    "\n",
    "        # Forward + Backward + Optimize\n",
    "        optimizer.zero_grad()  # zero the gradient buffer  #梯度清零，以免影响其他batch\n",
    "        outputs = net(images)  # 前向传播\n",
    "\n",
    "        # import pdb\n",
    "        # pdb.set_trace()\n",
    "        loss = criterion(outputs, labels)  # loss \n",
    "        loss.backward()  # 后向传播，计算梯度\n",
    "        optimizer.step()  # 梯度更新\n",
    "\n",
    "        if (i + 1) % 100 == 0:\n",
    "            print('Epoch [%d/%d], Step [%d/%d], Loss: %.4f'\n",
    "                  % (epoch + 1, num_epochs, i + 1, len(train_dataset) // batch_size, loss.data.item()))\n",
    "\n",
    "# Test the Model\n",
    "correct = 0\n",
    "total = 0\n",
    "for images, labels in test_loader:  # test set 批处理\n",
    "    images = Variable(images.view(-1, 28 * 28))\n",
    "    outputs = net(images)\n",
    "    _, predicted = torch.max(outputs.data, 1)  # 预测结果\n",
    "    total += labels.size(0)  # 正确结果\n",
    "    correct += (predicted == labels).sum()  # 正确结果总数\n",
    "\n",
    "print('Accuracy of the network on the 10000 test images: %d %%' % (100 * correct / total))\n",
    "\n",
    "# Save the Model\n",
    "torch.save(net.state_dict(), 'mnist_dnn_model.pkl')"
   ]
  },
  {
   "cell_type": "code",
   "execution_count": null,
   "metadata": {},
   "outputs": [],
   "source": []
  },
  {
   "cell_type": "markdown",
   "metadata": {},
   "source": [
    "# CNN\n",
    "## 卷积\n",
    "1）卷积概念：参考[如何通俗易懂地解释卷积](https://www.zhihu.com/question/22298352/answer/228543288)\n",
    "\n",
    "2）权值共享：图片的底层特征是与特征在图片中的位置无关的，每个卷积核共享参数给隐藏层神经元，可以有多个卷积核提取不同特征\n",
    "\n",
    "在pytorch中，卷积核深度必须与输入数据一致，如输入数据3 * 32 * 32,则卷积核必须是3 * a * b,通常，a=b=3或者5；同时需要指定卷积层输出数量，以及它们的排列方式、滑动步长和边界填充。\n",
    "\n",
    "卷积核输出空间计算：floor((W - F + 2P)/S + 1),其中W为输入数据如5×5，W=5，F为卷积核大小，3×3，F=3，P表示边界填充0的数量，S为步长\n",
    "\n",
    "## 池化层\n",
    "图片具有局部不变性，通过下采样也不会丢失信息。一般有2种方式，max pooling，mean pooling\n",
    "\n",
    "## 经典模型\n",
    "LeNet-5，AlexNet，VGGNet（泛化性好，可用作迁移学习@TODO）"
   ]
  },
  {
   "cell_type": "code",
   "execution_count": null,
   "metadata": {
    "scrolled": false
   },
   "outputs": [],
   "source": []
  },
  {
   "cell_type": "code",
   "execution_count": 319,
   "metadata": {},
   "outputs": [
    {
     "name": "stdout",
     "output_type": "stream",
     "text": [
      "Cnn(\n",
      "  (conv): Sequential(\n",
      "    (0): Conv2d(1, 6, kernel_size=(3, 3), stride=(1, 1), padding=(1, 1))\n",
      "    (1): ReLU(inplace=True)\n",
      "    (2): MaxPool2d(kernel_size=2, stride=2, padding=0, dilation=1, ceil_mode=False)\n",
      "    (3): Conv2d(6, 16, kernel_size=(5, 5), stride=(1, 1))\n",
      "    (4): ReLU(inplace=True)\n",
      "    (5): MaxPool2d(kernel_size=2, stride=2, padding=0, dilation=1, ceil_mode=False)\n",
      "  )\n",
      "  (fc): Sequential(\n",
      "    (0): Linear(in_features=400, out_features=120, bias=True)\n",
      "    (1): Linear(in_features=120, out_features=84, bias=True)\n",
      "    (2): Linear(in_features=84, out_features=10, bias=True)\n",
      "  )\n",
      ")\n",
      "epoch 1\n",
      "**********\n",
      "Train Finish 1 epoch, Loss: 2.285355, Acc: 0.247600\n",
      "epoch 2\n",
      "**********\n",
      "Train Finish 2 epoch, Loss: 1.359288, Acc: 0.639500\n",
      "epoch 3\n",
      "**********\n",
      "Train Finish 3 epoch, Loss: 0.409777, Acc: 0.878650\n",
      "epoch 4\n",
      "**********\n",
      "Train Finish 4 epoch, Loss: 0.294699, Acc: 0.911100\n",
      "epoch 5\n",
      "**********\n",
      "Train Finish 5 epoch, Loss: 0.233624, Acc: 0.929100\n",
      "epoch 6\n",
      "**********\n",
      "Train Finish 6 epoch, Loss: 0.188604, Acc: 0.944117\n",
      "epoch 7\n",
      "**********\n",
      "Train Finish 7 epoch, Loss: 0.159103, Acc: 0.952533\n",
      "epoch 8\n",
      "**********\n",
      "Train Finish 8 epoch, Loss: 0.139369, Acc: 0.958183\n",
      "epoch 9\n",
      "**********\n",
      "Train Finish 9 epoch, Loss: 0.126024, Acc: 0.962083\n",
      "epoch 10\n",
      "**********\n",
      "Train Finish 10 epoch, Loss: 0.116253, Acc: 0.965700\n"
     ]
    },
    {
     "name": "stderr",
     "output_type": "stream",
     "text": [
      "/home/hdw/anaconda3/lib/python3.7/site-packages/ipykernel_launcher.py:100: UserWarning: volatile was removed and now has no effect. Use `with torch.no_grad():` instead.\n",
      "/home/hdw/anaconda3/lib/python3.7/site-packages/ipykernel_launcher.py:101: UserWarning: volatile was removed and now has no effect. Use `with torch.no_grad():` instead.\n"
     ]
    },
    {
     "name": "stdout",
     "output_type": "stream",
     "text": [
      "Test Loss: 0.098699, Acc: 0.970500\n"
     ]
    }
   ],
   "source": [
    "# 配置参数\n",
    "torch.manual_seed(\n",
    "    1)  # 设置随机数种子，确保结果可重复\n",
    "batch_size = 128  # 批处理大小\n",
    "learning_rate = 1e-2  # 学习率\n",
    "num_epoches = 10  # 训练次数\n",
    "\n",
    "# 下载训练集 MNIST 手写数字训练集\n",
    "train_dataset = datasets.MNIST(\n",
    "    root='./data',  # 数据保持的位置\n",
    "    train=True,  # 训练集\n",
    "    transform=transforms.ToTensor(),  # 一个取值范围是[0,255]的PIL.Image\n",
    "    # 转化为取值范围是[0,1.0]的torch.FloadTensor\n",
    "    download=True)  # 下载数据\n",
    "\n",
    "test_dataset = datasets.MNIST(\n",
    "    root='./data',\n",
    "    train=False,  # 测试集\n",
    "    transform=transforms.ToTensor())\n",
    "\n",
    "# 数据的批处理，尺寸大小为batch_size,\n",
    "# 在训练集中，shuffle 必须设置为True, 表示次序是随机的\n",
    "train_loader = DataLoader(train_dataset, batch_size=batch_size, shuffle=True)\n",
    "test_loader = DataLoader(test_dataset, batch_size=batch_size, shuffle=False)\n",
    "\n",
    "\n",
    "# 定义卷积神经网络模型\n",
    "class Cnn(nn.Module):\n",
    "    def __init__(self, in_dim, n_class):  # 28x28x1\n",
    "        super(Cnn, self).__init__()\n",
    "        self.conv = nn.Sequential(\n",
    "            # floor((W - F + 2P)/S + 1) = 26\n",
    "            nn.Conv2d(in_dim, 6, 3, stride=1, padding=1),  # 28 x28\n",
    "            nn.ReLU(True),\n",
    "            nn.MaxPool2d(2, 2),  # 14 x 14\n",
    "            # 同上，只是输入变为14\n",
    "            nn.Conv2d(6, 16, 5, stride=1, padding=0),  # 16 * 10 * 10\n",
    "            nn.ReLU(True)\n",
    "            nn.MaxPool2d(2, 2)\n",
    "        )  # 16 × 5 × 5\n",
    "        self.fc = nn.Sequential(\n",
    "            nn.Linear(400, 120),  # 400 = 5 * 5 * 16\n",
    "            nn.Linear(120, 84),\n",
    "            nn.Linear(84, n_class))\n",
    "\n",
    "    def forward(self, x):\n",
    "        out = self.conv(x)\n",
    "        out = out.view(out.size(0), 400)  # 400 = 5 * 5 * 16, \n",
    "        out = self.fc(out)\n",
    "        return out\n",
    "\n",
    "\n",
    "# 打印模型\n",
    "model = Cnn(1, 10)  # 图片大小是28x28, 10\n",
    "\n",
    "# 打印模型\n",
    "print(model)\n",
    "\n",
    "# 定义loss和optimizer\n",
    "criterion = nn.CrossEntropyLoss()\n",
    "optimizer = torch.optim.SGD(model.parameters(), lr=learning_rate)\n",
    "\n",
    "# 开始训练\n",
    "for epoch in range(num_epoches):\n",
    "    print('epoch {}'.format(epoch + 1))\n",
    "    print('*' * 10)\n",
    "    running_loss = 0.0\n",
    "    running_acc = 0.0\n",
    "    for i, data in enumerate(train_loader, 1):  # 批处理\n",
    "        img, label = data\n",
    "        img = Variable(img)\n",
    "        label = Variable(label)\n",
    "        # 前向传播 \n",
    "        out = model(img)\n",
    "        loss = criterion(out, label)  # loss\n",
    "        running_loss += loss.data.item() * label.size(0)  # total loss , 由于loss 是batch 取均值的，需要把batch size 乘回去\n",
    "        _, pred = torch.max(out, 1)  # 预测结果\n",
    "        num_correct = (pred == label).sum()  # 正确结果的num\n",
    "        # accuracy = (pred == label).float().mean() #正确率\n",
    "        \n",
    "        running_acc += num_correct.data.item()  # 正确结果的总数\n",
    "        # 后向传播\n",
    "        optimizer.zero_grad()  # 梯度清零，以免影响其他batch\n",
    "        loss.backward()  # 后向传播，计算梯度\n",
    "        optimizer.step()  # 梯度更新\n",
    "\n",
    "        # if i % 300 == 0:\n",
    "        #    print('[{}/{}] Loss: {:.6f}, Acc: {:.6f}'.format(\n",
    "        #        epoch + 1, num_epoches, running_loss / (batch_size * i),\n",
    "        #        running_acc / (batch_size * i)))\n",
    "    # 打印一个循环后，训练集合上的loss 和 正确率\n",
    "    print('Train Finish {} epoch, Loss: {:.6f}, Acc: {:.6f}'.format(\n",
    "        epoch + 1, running_loss / (len(train_dataset)), running_acc / (len(\n",
    "            train_dataset))))\n",
    "\n",
    "# 模型测试， 由于训练和测试 BatchNorm, Dropout配置不同，需要说明是否模型测试\n",
    "model.eval()\n",
    "eval_loss = 0\n",
    "eval_acc = 0\n",
    "for data in test_loader:  # test set 批处理\n",
    "    img, label = data\n",
    "\n",
    "    img = Variable(img, volatile=True)  # volatile 确定你是否不调用.backward(), 测试中不需要\n",
    "    label = Variable(label, volatile=True)\n",
    "    out = model(img)  # 前向算法 \n",
    "    loss = criterion(out, label)  # 计算 loss\n",
    "    eval_loss += loss.data.item() * label.size(0)  # total loss\n",
    "    _, pred = torch.max(out, 1)  # 预测结果\n",
    "    num_correct = (pred == label).sum()  # 正确结果\n",
    "    eval_acc += num_correct.data.item()  # 正确结果总数\n",
    "\n",
    "print('Test Loss: {:.6f}, Acc: {:.6f}'.format(eval_loss / (len(\n",
    "    test_dataset)), eval_acc * 1.0 / (len(test_dataset))))\n",
    "\n",
    "# 保存模型\n",
    "torch.save(model.state_dict(), './cnn.pth')"
   ]
  },
  {
   "cell_type": "markdown",
   "metadata": {},
   "source": [
    "# 自编码器\n",
    "是一种利用反向传播算法使得输出值等于输入值的神经网络，它先将输入压缩成潜在空间表征，然后通过这种表征来重构输出。"
   ]
  },
  {
   "cell_type": "code",
   "execution_count": 321,
   "metadata": {
    "scrolled": true
   },
   "outputs": [
    {
     "name": "stdout",
     "output_type": "stream",
     "text": [
      "Downloading http://yann.lecun.com/exdb/mnist/train-images-idx3-ubyte.gz to ./MNIST/raw/train-images-idx3-ubyte.gz\n"
     ]
    },
    {
     "data": {
      "application/vnd.jupyter.widget-view+json": {
       "model_id": "08ce80270d3747d281d52b5321179c13",
       "version_major": 2,
       "version_minor": 0
      },
      "text/plain": [
       "HBox(children=(IntProgress(value=1, bar_style='info', max=1), HTML(value='')))"
      ]
     },
     "metadata": {},
     "output_type": "display_data"
    },
    {
     "name": "stdout",
     "output_type": "stream",
     "text": [
      "Extracting ./MNIST/raw/train-images-idx3-ubyte.gz to ./MNIST/raw\n",
      "Downloading http://yann.lecun.com/exdb/mnist/train-labels-idx1-ubyte.gz to ./MNIST/raw/train-labels-idx1-ubyte.gz\n"
     ]
    },
    {
     "data": {
      "application/vnd.jupyter.widget-view+json": {
       "model_id": "a39776116a3a448c828757710d6abf2d",
       "version_major": 2,
       "version_minor": 0
      },
      "text/plain": [
       "HBox(children=(IntProgress(value=1, bar_style='info', max=1), HTML(value='')))"
      ]
     },
     "metadata": {},
     "output_type": "display_data"
    },
    {
     "name": "stdout",
     "output_type": "stream",
     "text": [
      "Extracting ./MNIST/raw/train-labels-idx1-ubyte.gz to ./MNIST/raw\n",
      "Downloading http://yann.lecun.com/exdb/mnist/t10k-images-idx3-ubyte.gz to ./MNIST/raw/t10k-images-idx3-ubyte.gz\n",
      "\n"
     ]
    },
    {
     "data": {
      "application/vnd.jupyter.widget-view+json": {
       "model_id": "7dfb4c72cf42453ab934b8e3eade870a",
       "version_major": 2,
       "version_minor": 0
      },
      "text/plain": [
       "HBox(children=(IntProgress(value=1, bar_style='info', max=1), HTML(value='')))"
      ]
     },
     "metadata": {},
     "output_type": "display_data"
    },
    {
     "name": "stdout",
     "output_type": "stream",
     "text": [
      "Extracting ./MNIST/raw/t10k-images-idx3-ubyte.gz to ./MNIST/raw\n",
      "Downloading http://yann.lecun.com/exdb/mnist/t10k-labels-idx1-ubyte.gz to ./MNIST/raw/t10k-labels-idx1-ubyte.gz\n"
     ]
    },
    {
     "data": {
      "application/vnd.jupyter.widget-view+json": {
       "model_id": "81623774fbf14db4a619d2347c044904",
       "version_major": 2,
       "version_minor": 0
      },
      "text/plain": [
       "HBox(children=(IntProgress(value=1, bar_style='info', max=1), HTML(value='')))"
      ]
     },
     "metadata": {},
     "output_type": "display_data"
    },
    {
     "name": "stdout",
     "output_type": "stream",
     "text": [
      "Extracting ./MNIST/raw/t10k-labels-idx1-ubyte.gz to ./MNIST/raw\n",
      "Processing...\n",
      "Done!\n",
      "\n",
      "epoch [1/200], loss:1.0558\n",
      "epoch [2/200], loss:0.8605\n",
      "epoch [3/200], loss:0.6947\n",
      "epoch [4/200], loss:0.5424\n",
      "epoch [5/200], loss:0.4251\n",
      "epoch [6/200], loss:0.3420\n",
      "epoch [7/200], loss:0.2646\n",
      "epoch [8/200], loss:0.2196\n",
      "epoch [9/200], loss:0.1822\n",
      "epoch [10/200], loss:0.1578\n",
      "epoch [11/200], loss:0.1396\n",
      "epoch [12/200], loss:0.1261\n",
      "epoch [13/200], loss:0.1199\n",
      "epoch [14/200], loss:0.1073\n",
      "epoch [15/200], loss:0.1055\n",
      "epoch [16/200], loss:0.0972\n",
      "epoch [17/200], loss:0.0908\n",
      "epoch [18/200], loss:0.0948\n",
      "epoch [19/200], loss:0.0896\n",
      "epoch [20/200], loss:0.0809\n",
      "epoch [21/200], loss:0.0820\n",
      "epoch [22/200], loss:0.0857\n",
      "epoch [23/200], loss:0.0804\n",
      "epoch [24/200], loss:0.0758\n",
      "epoch [25/200], loss:0.0782\n",
      "epoch [26/200], loss:0.0733\n",
      "epoch [27/200], loss:0.0737\n",
      "epoch [28/200], loss:0.0712\n",
      "epoch [29/200], loss:0.0698\n",
      "epoch [30/200], loss:0.0653\n",
      "epoch [31/200], loss:0.0635\n",
      "epoch [32/200], loss:0.0609\n",
      "epoch [33/200], loss:0.0618\n",
      "epoch [34/200], loss:0.0622\n",
      "epoch [35/200], loss:0.0604\n",
      "epoch [36/200], loss:0.0588\n",
      "epoch [37/200], loss:0.0593\n",
      "epoch [38/200], loss:0.0580\n",
      "epoch [39/200], loss:0.0633\n",
      "epoch [40/200], loss:0.0564\n",
      "epoch [41/200], loss:0.0567\n",
      "epoch [42/200], loss:0.0547\n",
      "epoch [43/200], loss:0.0516\n",
      "epoch [44/200], loss:0.0533\n",
      "epoch [45/200], loss:0.0485\n",
      "epoch [46/200], loss:0.0470\n",
      "epoch [47/200], loss:0.0493\n",
      "epoch [48/200], loss:0.0502\n",
      "epoch [49/200], loss:0.0492\n",
      "epoch [50/200], loss:0.0466\n",
      "epoch [51/200], loss:0.0476\n",
      "epoch [52/200], loss:0.0426\n",
      "epoch [53/200], loss:0.0435\n",
      "epoch [54/200], loss:0.0448\n",
      "epoch [55/200], loss:0.0452\n",
      "epoch [56/200], loss:0.0450\n",
      "epoch [57/200], loss:0.0442\n",
      "epoch [58/200], loss:0.0413\n",
      "epoch [59/200], loss:0.0409\n",
      "epoch [60/200], loss:0.0396\n",
      "epoch [61/200], loss:0.0436\n",
      "epoch [62/200], loss:0.0380\n",
      "epoch [63/200], loss:0.0398\n",
      "epoch [64/200], loss:0.0384\n",
      "epoch [65/200], loss:0.0398\n",
      "epoch [66/200], loss:0.0384\n",
      "epoch [67/200], loss:0.0381\n",
      "epoch [68/200], loss:0.0403\n",
      "epoch [69/200], loss:0.0389\n",
      "epoch [70/200], loss:0.0376\n",
      "epoch [71/200], loss:0.0365\n",
      "epoch [72/200], loss:0.0362\n",
      "epoch [73/200], loss:0.0358\n",
      "epoch [74/200], loss:0.0365\n",
      "epoch [75/200], loss:0.0339\n",
      "epoch [76/200], loss:0.0357\n",
      "epoch [77/200], loss:0.0341\n",
      "epoch [78/200], loss:0.0324\n",
      "epoch [79/200], loss:0.0325\n",
      "epoch [80/200], loss:0.0319\n",
      "epoch [81/200], loss:0.0306\n",
      "epoch [82/200], loss:0.0320\n",
      "epoch [83/200], loss:0.0321\n",
      "epoch [84/200], loss:0.0329\n",
      "epoch [85/200], loss:0.0311\n",
      "epoch [86/200], loss:0.0314\n",
      "epoch [87/200], loss:0.0321\n",
      "epoch [88/200], loss:0.0298\n",
      "epoch [89/200], loss:0.0317\n",
      "epoch [90/200], loss:0.0308\n",
      "epoch [91/200], loss:0.0293\n",
      "epoch [92/200], loss:0.0287\n",
      "epoch [93/200], loss:0.0289\n",
      "epoch [94/200], loss:0.0284\n",
      "epoch [95/200], loss:0.0290\n",
      "epoch [96/200], loss:0.0273\n",
      "epoch [97/200], loss:0.0287\n",
      "epoch [98/200], loss:0.0307\n",
      "epoch [99/200], loss:0.0286\n",
      "epoch [100/200], loss:0.0273\n",
      "epoch [101/200], loss:0.0270\n",
      "epoch [102/200], loss:0.0264\n",
      "epoch [103/200], loss:0.0260\n",
      "epoch [104/200], loss:0.0267\n",
      "epoch [105/200], loss:0.0265\n",
      "epoch [106/200], loss:0.0256\n",
      "epoch [107/200], loss:0.0272\n",
      "epoch [108/200], loss:0.0268\n",
      "epoch [109/200], loss:0.0253\n",
      "epoch [110/200], loss:0.0259\n",
      "epoch [111/200], loss:0.0275\n",
      "epoch [112/200], loss:0.0252\n",
      "epoch [113/200], loss:0.0253\n",
      "epoch [114/200], loss:0.0258\n",
      "epoch [115/200], loss:0.0241\n",
      "epoch [116/200], loss:0.0257\n",
      "epoch [117/200], loss:0.0258\n",
      "epoch [118/200], loss:0.0235\n",
      "epoch [119/200], loss:0.0249\n",
      "epoch [120/200], loss:0.0249\n",
      "epoch [121/200], loss:0.0249\n",
      "epoch [122/200], loss:0.0249\n",
      "epoch [123/200], loss:0.0217\n",
      "epoch [124/200], loss:0.0249\n",
      "epoch [125/200], loss:0.0242\n",
      "epoch [126/200], loss:0.0236\n",
      "epoch [127/200], loss:0.0244\n",
      "epoch [128/200], loss:0.0231\n",
      "epoch [129/200], loss:0.0238\n",
      "epoch [130/200], loss:0.0228\n",
      "epoch [131/200], loss:0.0223\n",
      "epoch [132/200], loss:0.0226\n",
      "epoch [133/200], loss:0.0228\n",
      "epoch [134/200], loss:0.0225\n",
      "epoch [135/200], loss:0.0232\n",
      "epoch [136/200], loss:0.0232\n",
      "epoch [137/200], loss:0.0246\n",
      "epoch [138/200], loss:0.0239\n",
      "epoch [139/200], loss:0.0239\n",
      "epoch [140/200], loss:0.0225\n",
      "epoch [141/200], loss:0.0233\n",
      "epoch [142/200], loss:0.0218\n",
      "epoch [143/200], loss:0.0227\n",
      "epoch [144/200], loss:0.0229\n",
      "epoch [145/200], loss:0.0218\n",
      "epoch [146/200], loss:0.0217\n",
      "epoch [147/200], loss:0.0216\n",
      "epoch [148/200], loss:0.0221\n",
      "epoch [149/200], loss:0.0202\n",
      "epoch [150/200], loss:0.0209\n",
      "epoch [151/200], loss:0.0213\n",
      "epoch [152/200], loss:0.0217\n",
      "epoch [153/200], loss:0.0201\n",
      "epoch [154/200], loss:0.0211\n",
      "epoch [155/200], loss:0.0210\n",
      "epoch [156/200], loss:0.0209\n",
      "epoch [157/200], loss:0.0207\n",
      "epoch [158/200], loss:0.0195\n",
      "epoch [159/200], loss:0.0198\n",
      "epoch [160/200], loss:0.0203\n",
      "epoch [161/200], loss:0.0193\n",
      "epoch [162/200], loss:0.0191\n",
      "epoch [163/200], loss:0.0188\n",
      "epoch [164/200], loss:0.0192\n",
      "epoch [165/200], loss:0.0209\n",
      "epoch [166/200], loss:0.0196\n",
      "epoch [167/200], loss:0.0186\n",
      "epoch [168/200], loss:0.0194\n",
      "epoch [169/200], loss:0.0190\n",
      "epoch [170/200], loss:0.0196\n",
      "epoch [171/200], loss:0.0196\n",
      "epoch [172/200], loss:0.0185\n",
      "epoch [173/200], loss:0.0202\n",
      "epoch [174/200], loss:0.0190\n",
      "epoch [175/200], loss:0.0197\n",
      "epoch [176/200], loss:0.0196\n",
      "epoch [177/200], loss:0.0189\n",
      "epoch [178/200], loss:0.0191\n",
      "epoch [179/200], loss:0.0189\n",
      "epoch [180/200], loss:0.0193\n",
      "epoch [181/200], loss:0.0183\n",
      "epoch [182/200], loss:0.0181\n",
      "epoch [183/200], loss:0.0177\n",
      "epoch [184/200], loss:0.0183\n",
      "epoch [185/200], loss:0.0187\n",
      "epoch [186/200], loss:0.0191\n",
      "epoch [187/200], loss:0.0199\n",
      "epoch [188/200], loss:0.0183\n",
      "epoch [189/200], loss:0.0185\n",
      "epoch [190/200], loss:0.0175\n",
      "epoch [191/200], loss:0.0188\n",
      "epoch [192/200], loss:0.0173\n",
      "epoch [193/200], loss:0.0180\n",
      "epoch [194/200], loss:0.0190\n",
      "epoch [195/200], loss:0.0184\n",
      "epoch [196/200], loss:0.0184\n",
      "epoch [197/200], loss:0.0180\n",
      "epoch [198/200], loss:0.0195\n",
      "epoch [199/200], loss:0.0174\n",
      "epoch [200/200], loss:0.0179\n"
     ]
    },
    {
     "data": {
      "image/png": "[encoded data removed]",
      "text/plain": [
       "<Figure size 432x288 with 3 Axes>"
      ]
     },
     "metadata": {
      "needs_background": "light"
     },
     "output_type": "display_data"
    },
    {
     "name": "stdout",
     "output_type": "stream",
     "text": [
      "tensor(2)\n"
     ]
    }
   ],
   "source": [
    "# 配置参数\n",
    "torch.manual_seed(1) #设置随机数种子，确保结果可重复\n",
    "n_epoch = 200 #训练次数\n",
    "batch_size = 100 #批处理大小\n",
    "learning_rate = 0.0002 #学习率\n",
    "\n",
    "#下载训练集 MNIST 手写数字训练集\n",
    "mnist_train = dsets.MNIST(\"./\", train=True, transform=transforms.ToTensor(), target_transform=None, download=True)\n",
    "train_loader = torch.utils.data.DataLoader(dataset=mnist_train,batch_size=batch_size,shuffle=True)\n",
    "\n",
    "# Encoder 模型设置\n",
    "class Encoder(nn.Module):\n",
    "    def __init__(self):\n",
    "        super(Encoder,self).__init__()\n",
    "        self.layer1 = nn.Sequential(\n",
    "                        nn.Conv2d(1,32,3,padding=1),   # batch x 32 x 28 x 28\n",
    "                        nn.ReLU(),\n",
    "                        nn.BatchNorm2d(32),\n",
    "                        nn.Conv2d(32,32,3,padding=1),   # batch x 32 x 28 x 28\n",
    "                        nn.ReLU(),\n",
    "                        nn.BatchNorm2d(32),\n",
    "                        nn.Conv2d(32,64,3,padding=1),  # batch x 64 x 28 x 28\n",
    "                        nn.ReLU(),\n",
    "                        nn.BatchNorm2d(64),\n",
    "                        nn.Conv2d(64,64,3,padding=1),  # batch x 64 x 28 x 28\n",
    "                        nn.ReLU(),\n",
    "                        nn.BatchNorm2d(64),\n",
    "                        nn.MaxPool2d(2,2)   # batch x 64 x 14 x 14\n",
    "        )\n",
    "        self.layer2 = nn.Sequential(\n",
    "                        nn.Conv2d(64,128,3,padding=1),  # batch x 128 x 14 x 14\n",
    "                        nn.ReLU(),\n",
    "                        nn.BatchNorm2d(128),\n",
    "                        nn.Conv2d(128,128,3,padding=1),  # batch x 128 x 14 x 14\n",
    "                        nn.ReLU(),\n",
    "                        nn.BatchNorm2d(128),\n",
    "                        nn.MaxPool2d(2,2),\n",
    "                        nn.Conv2d(128,256,3,padding=1),  # batch x 256 x 7 x 7\n",
    "                        nn.ReLU()\n",
    "        )\n",
    "        \n",
    "\n",
    "\n",
    "# Encoder 模型设置\n",
    "class Encoder(nn.Module):\n",
    "    def __init__(self):\n",
    "        super(Encoder,self).__init__()\n",
    "        self.layer1 = nn.Sequential(\n",
    "                        nn.Conv2d(1,32,3,padding=1),   # batch x 32 x 28 x 28\n",
    "                        nn.ReLU(),\n",
    "                        nn.BatchNorm2d(32),\n",
    "                        nn.Conv2d(32,32,3,padding=1),   # batch x 32 x 28 x 28\n",
    "                        nn.ReLU(),\n",
    "                        nn.BatchNorm2d(32),\n",
    "                        nn.Conv2d(32,64,3,padding=1),  # batch x 64 x 28 x 28\n",
    "                        nn.ReLU(),\n",
    "                        nn.BatchNorm2d(64),\n",
    "                        nn.Conv2d(64,64,3,padding=1),  # batch x 64 x 28 x 28\n",
    "                        nn.ReLU(),\n",
    "                        nn.BatchNorm2d(64),\n",
    "                        nn.MaxPool2d(2,2)   # batch x 64 x 14 x 14\n",
    "        )\n",
    "        self.layer2 = nn.Sequential(\n",
    "                        nn.Conv2d(64,128,3,padding=1),  # batch x 128 x 14 x 14\n",
    "                        nn.ReLU(),\n",
    "                        nn.BatchNorm2d(128),\n",
    "                        nn.Conv2d(128,128,3,padding=1),  # batch x 128 x 14 x 14\n",
    "                        nn.ReLU(),\n",
    "                        nn.BatchNorm2d(128),\n",
    "                        nn.MaxPool2d(2,2),\n",
    "                        nn.Conv2d(128,256,3,padding=1),  # batch x 256 x 7 x 7\n",
    "                        nn.ReLU()\n",
    "        )\n",
    "                \n",
    "    def forward(self,x):\n",
    "        out = self.layer1(x)\n",
    "        out = self.layer2(out)\n",
    "        out = out.view(batch_size, -1)\n",
    "        return out\n",
    "    \n",
    "#encoder = Encoder().cuda()\n",
    "encoder = Encoder()\n",
    "# decoder模型设置\n",
    "\n",
    "class Decoder(nn.Module):\n",
    "    def __init__(self):\n",
    "        super(Decoder,self).__init__()\n",
    "        self.layer1 = nn.Sequential(\n",
    "                        nn.ConvTranspose2d(256,128,3,2,1,1), # batch x 128 x 14 x 14\n",
    "                        nn.ReLU(),\n",
    "                        nn.BatchNorm2d(128),\n",
    "                        nn.ConvTranspose2d(128,128,3,1,1),   # batch x 128 x 14 x 14\n",
    "                        nn.ReLU(),\n",
    "                        nn.BatchNorm2d(128),\n",
    "                        nn.ConvTranspose2d(128,64,3,1,1),    # batch x 64 x 14 x 14\n",
    "                        nn.ReLU(),\n",
    "                        nn.BatchNorm2d(64),\n",
    "                        nn.ConvTranspose2d(64,64,3,1,1),     # batch x 64 x 14 x 14\n",
    "                        nn.ReLU(),\n",
    "                        nn.BatchNorm2d(64)\n",
    "        )\n",
    "        self.layer2 = nn.Sequential(\n",
    "                        nn.ConvTranspose2d(64,32,3,1,1),     # batch x 32 x 14 x 14\n",
    "                        nn.ReLU(),\n",
    "                        nn.BatchNorm2d(32),\n",
    "                        nn.ConvTranspose2d(32,32,3,1,1),     # batch x 32 x 14 x 14\n",
    "                        nn.ReLU(),\n",
    "                        nn.BatchNorm2d(32),\n",
    "                        nn.ConvTranspose2d(32,1,3,2,1,1),    # batch x 1 x 28 x 28\n",
    "                        nn.ReLU()\n",
    "        )\n",
    "        \n",
    "    def forward(self,x):\n",
    "        out = x.view(batch_size,256,7,7)\n",
    "        out = self.layer1(out)\n",
    "        out = self.layer2(out)\n",
    "        return out\n",
    "        \n",
    "        \n",
    "#decoder = Decoder().cuda()\n",
    "decoder = Decoder()\n",
    "\n",
    "parameters = list(encoder.parameters())+ list(decoder.parameters())\n",
    "loss_func = nn.MSELoss()\n",
    "optimizer = torch.optim.Adam(parameters, lr=learning_rate)\n",
    "\n",
    "# 噪声\n",
    "noise = torch.rand(batch_size,1,28,28)\n",
    "for i in range(n_epoch):\n",
    "    for image,label in train_loader:\n",
    "        image_n = torch.mul(image+0.25, 0.1 * noise)\n",
    "        #image = Variable(image).cuda()\n",
    "        image = Variable(image)\n",
    "        #image_n = Variable(image_n).cuda()\n",
    "        image_n = Variable(image_n)\n",
    "        optimizer.zero_grad()\n",
    "        output = encoder(image_n)\n",
    "        output = decoder(output)\n",
    "        loss = loss_func(output,image)\n",
    "        loss.backward()\n",
    "        optimizer.step()\n",
    "        break\n",
    "    print('epoch [{}/{}], loss:{:.4f}'\n",
    "          .format(i + 1, n_epoch, loss.data.item()))\n",
    "          \n",
    "          \n",
    "\n",
    "img = image[0].cpu()\n",
    "input_img = image_n[0].cpu()\n",
    "output_img = output[0].cpu()\n",
    "origin = img.data.numpy()\n",
    "inp = input_img.data.numpy()\n",
    "out = output_img.data.numpy()\n",
    "plt.figure('denoising autodecoder')\n",
    "plt.subplot(131)\n",
    "plt.imshow(origin[0],cmap='gray')\n",
    "plt.subplot(132)\n",
    "plt.imshow(inp[0],cmap='gray')\n",
    "plt.subplot(133)\n",
    "plt.imshow(out[0],cmap=\"gray\")\n",
    "plt.show()\n",
    "print(label[0])"
   ]
  },
  {
   "cell_type": "code",
   "execution_count": 368,
   "metadata": {},
   "outputs": [
    {
     "name": "stdout",
     "output_type": "stream",
     "text": [
      "['正文', '第一回', '宴', '桃园', '豪杰', '三', '结义', '斩', '黄巾', '英雄', '首', '立功', '滚滚', '长江', '东', '逝水', '浪花', '淘尽', '英雄', '是非成败', '转头', '空', '青山', '依旧', '在', '几度', '夕阳红', '白发', '渔樵', '江渚上', '惯', '看', '秋月春风', '一壶', '浊酒', '喜相逢', '古今', '多少', '事', '都', '付', '笑谈', '中', '调寄', '话', '说', '天下', '大势', '分久必合', '合久必分', '周末', '七', '国', '分争', '并入', '于', '秦', '及', '秦灭', '之后', '楚', '汉', '分争', '又', '并入', '于汉', '汉朝', '自', '高祖', '斩', '白蛇', '而', '起义', '一统天下', '后来', '光武', '中兴', '传至', '献帝', '遂', '分为', '三国', '推其致', '乱', '之', '由', '殆', '始于', '桓', '灵', '二帝', '桓帝', '禁锢', '善类', '崇信', '宦官', '及桓帝', '崩', '灵帝', '即位', '大将军', '窦武', '太傅陈', '蕃', '共', '相', '辅佐', '时有', '宦官', '曹节', '等', '弄权', '窦武', '陈蕃', '谋', '诛', '之', '机事不密', '反为', '所害', '中', '涓', '自此', '愈横', '建宁', '二年', '四月', '望', '日', '帝御', '温德殿', '方', '升座', '殿角', '狂风', '骤起', '只见', '一条', '大', '青蛇', '从', '梁上', '飞', '将', '下来', '蟠于', '椅上', '帝惊', '倒', '左右', '急救', '入宫', '百官', '俱奔避', '须臾', '蛇', '不见', '了', '忽然', '大雷', '大雨', '加以', '冰雹', '落到', '半夜', '方止', '坏', '却', '房屋', '无数', '建宁', '四年', '二月', '洛阳', '地震', '；', '又', '海水', '泛溢', '沿海居民', '尽', '被', '大浪', '卷入', '海', '中', '光', '和', '元年', '雌鸡化雄', '六月', '朔', '黑', '气', '十余丈', '飞入', '温德殿', '中', '秋', '七月', '有虹', '现于', '玉堂', '；', '五原', '山岸', '尽', '皆', '崩裂', '种种', '不祥', '非止', '一端', '帝下', '诏', '问', '群臣', '以', '灾异', '之', '由', '议', '郎蔡邕', '上', '疏', '以为', '蜺', '堕', '鸡化', '乃妇', '寺', '干政之', '所致', '言', '颇', '切直', '帝览奏', '叹息', '因起', '更衣', '曹节', '在', '后', '窃视', '悉', '宣告', '左右', '；', '遂', '以', '他', '事', '陷邕', '于', '罪', '放归', '田里', '后张', '让', '赵忠', '封谞', '段', '珪', '曹节', '侯览', '蹇', '硕', '程旷', '夏恽', '郭胜十人', '朋比为奸', '号', '为', '十常侍', '帝尊', '信张', '让', '呼为', '阿父', '朝政', '日非', '以致', '天下人', '心思', '乱', '盗贼', '蜂起', '时', '巨鹿郡', '有', '兄弟', '三人', '一名', '张角', '一名', '张宝', '一名', '张梁', '那', '张角本', '是', '个', '不', '第', '秀才', '因入', '山', '采药', '遇一', '老人', '碧眼', '童颜', '手执', '藜', '杖', '唤角', '至', '一洞', '中', '以', '天书', '三卷', '授', '之', '曰', '此名', '汝得', '之', '当代', '天', '宣化', '普', '救世', '人', '；', '若萌', '异心', '必获', '恶报', '角拜', '问', '姓名', '老人', '曰', '吾', '乃', '南华', '老仙', '也', '言', '讫', '化阵', '清风', '而', '去', '角得', '此书', '晓夜', '攻习', '能', '呼风唤雨', '号', '为', '太平', '道人', '中平', '元年', '正月', '内', '疫气', '流行', '张角', '散施', '符水', '为', '人', '治病', '自称', '大', '贤良', '师', '角有', '徒弟', '五百余', '人', '云游四方', '皆', '能书符', '念咒', '次后', '徒众', '日多', '角乃立', '三十六方', '大方', '万余', '人', '小', '方', '六七千', '各', '立渠帅', '称为', '将军', '；', '讹言', '苍天', '已死', '黄天', '当立', '；', '岁', '在', '甲子', '天下', '大吉', '令人', '各以', '白土', '书', '甲子', '二字于', '家中', '大门', '上', '青', '幽', '徐', '冀', '荆', '扬', '兖', '豫八州', '之', '人', '家家', '侍奉', '大', '贤良', '师', '张角', '名字', '角遣', '其党', '马元义', '暗', '赍', '金帛', '结交', '中', '涓', '封谞', '以为', '内应', '角', '与', '二弟', '商议', '曰', '至', '难得', '者', '民心', '也', '今', '民心', '已顺', '若', '不', '乘势', '取', '天下', '诚为', '可惜', '遂', '一面', '私造', '黄旗', '约期', '举', '事', '；', '一面', '使', '弟子', '唐周', '驰', '书报', '封谞', '唐周', '乃径', '赴', '省', '中', '告变', '帝召', '大将军', '何进', '调兵', '擒', '马元义', '斩', '之', '；', '次收', '封谞', '等', '一干人', '下狱', '张角', '闻知', '事露', '星夜', '举兵', '自称', '天公', '将军', '张宝称', '地公', '将军', '张梁', '称', '人公', '将军', '申言', '于众', '曰', '今汉运', '将', '终', '大圣', '人出', '汝', '等', '皆宜', '顺天', '从', '正', '以乐', '太平', '四方', '百姓', '裹', '黄巾', '从', '张角', '反者', '四五十万', '贼势', '浩大', '官军', '望风而靡', '何进', '奏帝', '火速', '降', '诏', '令', '各处', '备御', '讨贼', '立功', '一面', '遣', '中郎将', '卢植', '皇甫嵩', '朱', '儁', '各引', '精兵', '分', '三路', '讨之', '且说', '张角', '一军', '前犯', '幽州', '界分', '幽州', '太守', '刘焉', '乃', '江夏', '竟陵', '人氏', '汉鲁恭', '王', '之后', '也', '当时', '闻得', '贼兵', '将', '至', '召', '校尉', '邹靖', '计议', '靖', '曰', '贼兵', '众', '我兵', '寡', '明公宜', '作速', '招军', '应敌', '刘焉然', '其', '说', '随即', '出榜', '招募', '义兵', '榜文', '行到', '涿县', '引出', '涿县', '中', '一个', '英雄', '那人', '不', '甚', '好', '读书', '；', '性', '宽', '和', '寡', '言语', '喜怒不形', '于色', '；', '素有', '大志', '专好', '结交', '天下', '豪杰', '；', '生', '得', '身长', '七尺', '五寸', '两', '耳垂', '肩', '双手', '过膝', '目能', '自', '顾其耳', '面如冠玉', '唇', '若', '涂脂', '；', '中山', '靖', '王刘胜', '之后', '汉景帝', '阁下', '玄孙', '姓', '刘名备', '字', '玄德', '昔', '刘胜之子', '刘贞', '汉武时', '封', '涿鹿', '亭', '侯', '后坐', '酎', '金失侯', '因此', '遗', '这', '一枝', '在', '涿县', '玄德', '祖刘雄', '父刘弘', '弘曾举', '孝廉', '亦', '尝作吏', '早丧', '玄德', '幼孤', '事母至孝', '；', '家贫', '贩', '屦', '织', '席为业', '家住', '本县', '楼桑村', '其家', '之', '东南', '有', '一大', '桑树', '高', '五丈', '余', '遥望', '之', '童童', '如', '车盖', '相者', '云', '此家', '必出', '贵人', '玄德', '幼时', '与', '乡', '中小', '儿戏', '于树下', '曰', '我', '为', '天子', '当乘此', '车盖', '叔父', '刘元', '起奇', '其言', '曰', '此儿', '非常', '人', '也', '因见', '玄德', '家贫', '常资', '给', '之', '年', '十五岁', '母使', '游学', '尝', '师事', '郑玄', '卢植', '与', '公孙瓒', '等', '为友', '及', '刘焉', '发榜', '招军', '时', '玄德', '年', '已', '二十八岁', '矣', '当日', '见', '了', '榜文', '慨然', '长叹', '随后', '一人', '厉声', '言', '曰', '大丈夫', '不', '与', '国家', '出力', '何故', '长叹', '玄德回', '视其人', '身长', '八尺', '豹头环眼', '燕颔虎须', '声', '若巨雷', '势如', '奔马', '玄德见', '他', '形貌', '异常', '问其', '姓名', '其人', '曰', '某', '姓张', '名飞', '字翼德', '世居', '涿郡', '颇', '有', '庄田', '卖酒', '屠猪', '专好', '结交', '天下', '豪杰', '恰才', '见', '公看', '榜', '而', '叹', '故此', '相问', '玄德曰', '我本', '汉室', '宗亲', '姓', '刘', '名备', '今闻', '黄巾', '倡乱', '有志', '欲', '破贼', '安民', '恨力', '不能', '故', '长叹', '耳', '飞', '曰', '吾', '颇', '有', '资财', '当', '招募', '乡勇', '与', '公同举', '大事', '如何', '玄德甚', '喜', '遂', '与', '同入', '村店', '中', '饮酒', '正饮间', '见', '一', '大汉', '推', '着', '一辆', '车子', '到', '店门', '首歇', '了', '入店', '坐下', '便唤', '酒保', '快', '斟酒', '来', '吃', '我待', '赶入', '城去', '投军', '玄德', '看其人', '身长', '九尺', '髯', '长', '二尺', '；', '面如', '重枣', '唇', '若', '涂脂', '；', '丹凤眼', '卧蚕眉', '相貌堂堂', '威风凛凛', '玄德', '就', '邀', '他', '同', '坐', '叩其', '姓名', '其人', '曰', '吾', '姓', '关名', '羽', '字', '长生', '后', '改', '云长', '河东', '解', '良人', '也', '因本', '处势', '豪', '倚势凌人', '被', '吾', '杀', '了', '逃难', '江湖', '五六年', '矣', '今闻', '此处', '招军', '破贼', '特', '来', '应募', '玄德遂', '以己', '志告', '之', '云长', '大喜', '同', '到', '张飞', '庄上', '共议', '大事', '飞', '曰', '吾', '庄后', '有', '一', '桃园', '花开', '正盛', '；', '明日', '当', '于', '园中', '祭告', '天地', '我三人', '结为', '兄弟', '协力同心', '然后', '可图', '大事', '玄德', '云长', '齐声', '应', '曰', '如此', '甚', '好', '次日', '于', '桃园', '中', '备下', '乌牛', '白马', '祭礼', '等', '项', '三人', '焚香', '再拜', '而', '说', '誓', '曰', '念', '刘备', '关羽', '张飞', '虽然', '异姓', '既', '结为', '兄弟', '则', '同心协力', '救困扶危', '；', '上报', '国家', '下安', '黎庶', '不', '求', '同年同月', '同日生', '只愿', '同年', '同月同日', '死', '皇天后土', '实鉴', '此心', '背义忘恩', '天人共戮', '誓毕', '拜', '玄德', '为兄', '关羽', '次之', '张飞', '为弟', '祭', '罢', '天地', '复', '宰牛', '设酒', '聚乡', '中', '勇士', '得', '三百余', '人', '就', '桃园', '中', '痛饮', '一醉', '来', '日', '收拾', '军器', '但', '恨', '无', '马匹', '可乘', '正', '思虑', '间', '人报', '有', '两个', '客人', '引一', '伙伴', '当', '赶', '一群', '马', '投', '庄上来', '玄德曰', '此', '天佑', '我', '也', '三人', '出庄', '迎接', '原来', '二客', '乃', '中山', '大商', '一名', '张世平', '一名', '苏双', '每年', '往北', '贩马', '近因', '寇发', '而', '回', '玄德请', '二人', '到', '庄', '置酒', '管待', '诉说', '欲', '讨贼', '安民', '之意', '二客', '大喜', '愿', '将', '良马', '五十匹', '相', '送', '；', '又', '赠', '金银', '五百两', '镔铁', '一千斤', '以资', '器用', '玄德谢', '别二客', '便命', '良匠', '打造', '双股', '剑', '云长', '造', '青龙', '偃月', '刀', '又名', '冷艳', '锯', '重', '八十二斤', '张飞', '造丈', '八点', '钢矛', '各置', '全身', '铠甲', '共聚', '乡勇', '五百余', '人', '来见', '邹靖', '邹靖引', '见', '太守', '刘焉', '三人', '参见', '毕', '各通', '姓名', '玄德', '说起', '宗派', '刘焉', '大喜', '遂', '认', '玄德', '为', '侄', '不', '数日', '人报', '黄巾', '贼', '将', '程远志', '统兵', '五万', '来犯', '涿郡', '刘焉令', '邹靖引', '玄德', '等', '三人', '统兵', '五百', '前去', '破敌', '玄德', '等', '欣然', '领军', '前进', '直至', '大兴', '山下', '与', '贼', '相见', '贼', '众', '皆', '披发', '以', '黄巾', '抹额', '当下', '两军', '相对', '玄德', '出马', '左有', '云长', '右有翼德', '扬鞭', '大骂', '反国', '逆贼', '何不', '早降', '程远志', '大怒', '遣', '副将', '邓茂', '出战', '张飞', '挺', '丈八蛇矛', '直出', '手起', '处', '刺中', '邓茂', '心窝', '翻身', '落马', '程远志', '见', '折', '了', '邓茂', '拍', '马舞刀', '直取', '张飞', '云长', '舞动', '大刀', '纵马', '飞迎', '程远志', '见', '了', '早', '吃', '一惊', '措手不及', '被', '云长', '刀起', '处', '挥为', '两段', '后人', '有', '诗赞', '二人', '曰', '英雄', '露颖', '在', '今朝', '一试', '矛兮', '一试', '刀', '初出', '便', '将', '威力', '展', '三分', '好', '把', '姓名', '标', '众贼', '见', '程远志', '被', '斩', '皆', '倒戈', '而', '走', '玄德', '挥军', '追赶', '投降', '者', '不计其数', '大胜', '而', '回', '刘焉', '亲自', '迎接', '赏劳', '军士', '次日', '接', '得', '青州', '太守', '龚景牒', '文', '言', '黄巾', '贼', '围城', '将陷', '乞赐', '救援', '刘焉', '与', '玄德', '商议', '玄德曰', '备愿', '往', '救', '之', '刘焉令', '邹靖', '将', '兵', '五千', '同', '玄德', '关', '张', '投', '青州', '来', '贼', '众见', '救军', '至', '分', '兵', '混战', '玄德兵', '寡', '不胜', '退', '三十里', '下寨', '玄德谓', '关', '张', '曰', '贼', '众', '我', '寡', '；', '必出', '奇兵', '方可', '取胜', '乃分', '关公', '引', '一千', '军', '伏山', '左', '张飞引', '一千', '军', '伏山', '右', '鸣金', '为', '号', '齐', '出', '接应', '次日', '玄德', '与', '邹靖引', '军', '鼓噪', '而进', '贼', '众', '迎战', '玄德引', '军便', '退', '贼', '众', '乘势', '追赶', '方过', '山岭', '玄德军', '中', '一齐', '鸣金', '左右两', '军齐出', '玄德', '摩军', '回身', '复杀', '三路', '夹攻', '贼', '众大溃', '直赶', '至', '青州', '城下', '太守', '龚景亦率', '民兵', '出', '城', '助战', '贼势', '大败', '剿戮', '极', '多', '遂解', '青州', '之围', '后人', '有', '诗赞', '玄德曰', '运筹决算', '有', '神功', '二虎', '还', '须逊', '一龙', '初出', '便', '能', '垂', '伟绩', '自应', '分鼎', '在', '孤穷', '龚景', '犒军', '毕', '邹靖', '欲', '回', '玄德曰', '近闻', '中郎将', '卢植', '与', '贼', '首张', '角战于', '广宗', '备昔', '曾', '师事', '卢植', '欲', '往助', '之', '于是', '邹靖引', '军自回', '玄德', '与关', '张引', '本部', '五百', '人', '投', '广宗', '来', '至', '卢植', '军中', '入帐', '施礼', '具道', '来意', '卢植', '大喜', '留在', '帐前', '听调', '时', '张角', '贼', '众', '十五万', '植兵', '五万', '相拒', '于', '广宗', '未见', '胜负', '植谓', '玄德曰', '我', '今围', '贼', '在', '此', '贼弟', '张梁', '张宝', '在', '颍川', '与', '皇甫嵩', '朱', '儁', '对垒', '汝可引', '本部', '人马', '我', '更助', '汝', '一千', '官军', '前去', '颍川', '打探', '消息', '约期', '剿捕', '玄德领', '命', '引军', '星夜', '投', '颍川', '来', '时', '皇甫嵩', '朱', '儁', '领军', '拒贼', '贼战', '不利', '退入', '长社', '依草', '结营', '嵩', '与', '儁', '计', '曰', '贼', '依草', '结营', '当', '用', '火攻', '之', '遂', '令', '军士', '每人', '束草', '一把', '暗地', '埋伏', '其夜', '大风', '忽起', '二', '更', '以后', '一齐', '纵火', '嵩', '与', '儁', '各', '引兵', '攻击', '贼', '寨', '火焰', '张天', '贼', '众', '惊慌', '马', '不及', '鞍', '人', '不及', '甲', '四散', '奔走', '杀到', '天明', '张梁', '张宝引', '败残', '军士', '夺路', '而', '走', '忽见', '一彪', '军马', '尽打', '红旗', '当头', '来到', '截住', '去路', '为首', '闪出', '一', '将', '身长', '七尺', '细眼长', '髯', '官拜', '骑', '都尉', '沛', '国谯郡', '人', '也', '姓', '曹名', '操字', '孟德', '操父', '曹嵩', '本姓', '夏侯氏', '因为', '中常', '侍', '曹腾', '之', '养子', '故冒姓', '曹', '曹嵩', '生操', '小字', '阿瞒', '一名', '吉利', '操', '幼时', '好', '游猎', '喜', '歌舞', '有', '权谋', '多', '机变', '操有', '叔父', '见操', '游荡', '无度', '尝怒', '之', '言于', '曹嵩', '嵩责操', '操忽心生', '一计', '见', '叔父', '来', '诈倒', '于', '地', '作', '中风', '之状', '叔父', '惊告嵩', '嵩急视', '之', '操故', '无恙', '嵩', '曰', '叔言', '汝', '中风', '今已', '愈乎', '操', '曰', '儿', '自来', '无', '此病', '；', '因失', '爱于', '叔父', '故见', '罔', '耳', '嵩信', '其言', '后', '叔父', '但言', '操过', '嵩', '并', '不', '听', '因此', '操得', '恣意', '放荡', '时人', '有桥', '玄者', '谓', '操', '曰', '天下', '将', '乱', '非', '命世之才', '不能', '济', '能安之者', '其', '在', '君乎', '南阳', '何', '顒', '见', '操', '言', '汉室', '将亡', '安', '天下', '者', '必', '此人', '也', '汝南', '许劭', '有', '知人', '之名', '操往', '见', '之', '问', '曰', '我', '何如', '人', '劭', '不答', '又', '问', '劭', '曰', '子', '治世', '之能', '臣', '乱世', '之', '奸雄', '也', '操', '闻言', '大喜', '年', '二十', '举', '孝廉', '为郎', '除', '洛阳', '北部', '尉', '初', '到任', '即设', '五色', '棒', '十余条', '于', '县', '之', '四门', '有', '犯禁', '者', '不避', '豪贵', '皆', '责', '之', '中常', '侍', '蹇', '硕之叔', '提刀', '夜行', '操', '巡夜', '拿', '住', '就棒责', '之', '由', '是', '内外', '莫敢', '犯者', '威名', '颇', '震', '后', '为', '顿', '丘令', '因', '黄巾', '起', '拜为', '骑', '都尉', '引', '马步军', '五千', '前来', '颍川', '助战', '正值', '张梁', '张宝', '败走', '曹操', '拦住', '大杀', '一阵', '斩首', '万余', '级', '夺得', '旗幡', '金鼓', '马匹', '极', '多', '张梁', '张宝', '死战', '得', '脱', '操见', '过', '皇甫嵩', '朱', '儁', '随即', '引兵', '追袭', '张梁', '张宝', '去', '了', '却说', '玄德引', '关', '张来', '颍川', '听得', '喊', '杀', '之声', '又', '望见', '火光烛天', '急', '引兵', '来时', '贼', '已败', '散', '玄德见', '皇甫嵩', '朱', '儁', '具道', '卢植之意', '嵩', '曰', '张梁', '张宝势', '穷力乏', '必投', '广宗', '去', '依', '张角', '玄德', '可即', '星夜', '往助', '玄德领', '命', '遂', '引兵', '复回', '到', '得', '半路', '只见', '一簇', '军马', '护送', '一辆', '槛车', '车中', '之囚', '乃', '卢植', '也', '玄德大', '惊', '滚鞍', '下马', '问其', '缘故', '植曰', '我围', '张角', '将次', '可破', '；', '因角用', '妖术', '未能', '即胜', '朝廷', '差', '黄门', '左丰', '前来', '体探', '问', '我', '索取', '贿赂', '我答', '曰', '军粮', '尚缺', '安有', '余钱', '奉承', '天使', '左丰', '挟恨', '回奏', '朝廷', '说', '我', '高垒', '不', '战', '惰慢', '军心', '；', '因此', '朝廷', '震怒', '遣', '中郎将', '董卓', '来代', '将', '我', '兵', '取', '我', '回京', '问罪', '张飞', '听罢', '大怒', '要', '斩', '护送', '军人', '以救', '卢植', '玄德', '急止', '之', '曰', '朝廷', '自有公论', '汝', '岂可', '造次', '军士', '簇拥', '卢植去', '了', '关公', '曰', '卢中郎', '已', '被', '逮', '别人', '领兵', '我', '等', '去', '无', '所', '依', '不如', '且', '回', '涿', '郡', '玄德', '从', '其言', '遂', '引军', '北行', '行无', '二日', '忽闻', '山后', '喊声', '大', '震', '玄德引', '关', '张纵', '马上', '高冈', '望', '之', '见汉军', '大败', '后面', '漫山塞野', '黄巾', '盖地', '而', '来', '旗上', '大书', '天公', '将军', '玄德曰', '此', '张角', '也', '可', '速战', '三人飞', '马引军', '而出', '张角正', '杀败', '董卓', '乘势', '赴', '来', '忽遇', '三人', '冲杀', '角军', '大乱', '败走', '五十余里', '三人救', '了', '董卓', '回寨', '卓问', '三人', '现居', '何职', '玄德曰', '白身', '卓', '甚轻', '之', '不为', '礼', '玄德', '出', '张飞', '大怒', '曰', '我', '等', '亲赴', '血战', '救', '了', '这', '厮', '他', '却', '如此', '无礼', '若', '不', '杀', '之', '难消', '我气', '便', '要', '提刀', '入帐', '来', '杀', '董卓', '正是', '人情', '势利', '古犹今', '谁识', '英雄', '是', '白身', '安得', '快', '人', '如翼德', '尽', '诛', '世上', '负心人', '毕竟', '董卓', '性命', '如何', '且', '听', '下文', '分解', '正文', '第二回', '张翼德', '怒', '鞭督邮', '何国舅', '谋', '诛', '宦', '竖', '且说', '董卓', '字仲颖', '陇西', '临洮', '人', '也', '官拜', '河东', '太守', '自来', '骄傲', '当日', '怠慢', '了', '玄德', '张飞性', '发', '便', '欲', '杀', '之', '玄德', '与', '关公', '急止', '之', '曰', '；', '他', '是', '朝廷', '命官', '岂可', '擅杀', '飞', '曰', '若', '不', '杀', '这', '厮', '反要', '在', '他', '部下', '听令', '其实', '不甘', '二兄要', '便', '住', '在', '此', '我', '自投', '别处', '去', '也', '玄德曰', '我三人义', '同生死', '岂可', '相', '离', '不若', '都', '投', '别处', '去', '便', '了', '飞', '曰', '若', '如此', '稍', '解吾恨', '于是', '三人', '连夜', '引军来', '投朱', '儁', '儁', '待', '之', '甚厚', '合兵', '一处', '进讨', '张宝', '是', '时', '曹操', '自', '跟', '皇甫嵩', '讨张', '梁', '大战', '于', '曲阳', '这里', '朱', '儁', '进攻', '张宝', '张宝引', '贼', '众', '八九万', '屯于', '山后', '儁', '令', '玄德', '为', '其', '先锋', '与', '贼', '对敌', '张宝遣', '副将', '高升', '出马', '搦', '战', '玄德', '使', '张飞', '击', '之', '飞纵', '马挺矛', '与', '升', '交战', '不数合', '刺升', '落马', '玄德', '麾军', '直冲', '过去', '张宝', '就', '马上', '披发', '仗', '剑', '作起', '妖法', '只见', '风雷', '大作', '一股', '黑', '气', '从天而降', '黑气', '中似', '有', '无限', '人马', '杀来', '玄德', '连忙', '回军', '军中', '大乱', '败阵', '而', '归', '与', '朱', '儁', '计议', '儁', '曰', '彼用', '妖术', '我来', '日', '可', '宰猪', '羊', '狗血', '令', '军士', '伏于山', '头', '；', '候贼', '赶来', '从', '高坡', '上泼', '之', '其法', '可解', '玄德听', '令', '拨', '关公', '张飞', '各引军', '一千', '伏于山', '后', '高冈', '之上', '盛猪', '羊', '狗血', '并', '秽物', '准备', '次日', '张宝', '摇旗', '擂鼓', '引军', '搦', '战', '玄德', '出迎', '交锋', '之际', '张宝', '作法', '风雷', '大作', '飞砂走石', '黑', '气', '漫天', '滚滚', '人马', '自天', '而', '下', '玄德', '拨马', '便', '走', '张宝', '驱兵', '赶来', '将', '过', '山头', '关', '张伏', '军放起', '号炮', '秽物', '齐泼', '但', '见', '空中', '纸人', '草马', '纷纷', '坠地', '；', '风雷', '顿息', '砂石', '不飞', '张宝', '见解', '了', '法', '急欲', '退军', '左', '关公', '右', '张飞', '两军', '都', '出', '背后', '玄德', '朱', '儁', '一齐', '赶上', '贼兵', '大败', '玄德', '望见', '地公', '将军', '旗号', '飞马', '赶来', '张宝', '落荒而走', '玄德', '发箭', '中其', '左臂', '张宝带', '箭', '逃脱', '走入', '阳城', '坚守', '不', '出', '朱', '儁', '引兵', '围住', '阳城', '攻打', '一面', '差', '人', '打探', '皇甫嵩', '消息', '探子', '回报', '具说', '皇甫嵩', '大', '获胜', '捷', '朝廷', '以', '董卓', '屡败', '命嵩代', '之', '嵩到', '时', '张角', '已', '死', '；', '张梁统', '其众', '与', '我军', '相拒', '被', '皇甫嵩', '连胜', '七阵', '斩张', '梁于', '曲阳', '发张角', '之', '棺', '戮', '尸', '枭首', '送往', '京师', '余众', '俱降', '朝廷', '加', '皇甫嵩', '为', '车骑', '将军', '领', '冀州', '牧', '皇甫嵩', '又', '表奏', '卢植', '有功', '无罪', '朝廷', '复卢植', '原官', '曹操', '亦', '以', '有功', '除', '济南', '相', '即日', '将', '班师', '赴任', '朱', '儁', '听说', '催促', '军马', '悉力', '攻打', '阳城', '贼势', '危急', '贼', '将', '严政', '刺杀', '张宝', '献首', '投降', '朱', '儁', '遂平', '数郡', '上表', '献捷', '时', '又', '黄巾', '余党', '三人', '赵弘', '韩忠', '孙仲', '聚众', '数万', '望风', '烧劫', '称', '与', '张角', '报仇', '朝廷', '命', '朱', '儁', '即', '以', '得胜', '之师', '讨', '之', '儁', '奉', '诏', '率军', '前进', '时贼', '据', '宛城', '儁', '引兵', '攻', '之', '赵弘遣', '韩忠', '出战', '儁', '遣', '玄德', '关', '张', '攻城', '西南角', '韩忠', '尽率', '精锐', '之众', '来', '西南角', '抵敌', '朱', '儁', '自纵', '铁骑', '二千', '径取', '东北角', '贼', '恐失城', '急弃', '西南面', '回', '玄德', '从', '背后', '掩杀', '贼', '众', '大败', '奔入', '宛城', '朱', '儁', '分兵', '四面', '围定', '城中', '断粮', '韩忠', '使', '人', '出城', '投降', '儁', '不许', '玄德曰', '昔', '高祖', '之得', '天下', '盖为', '能', '招降', '纳顺', '；', '公何', '拒', '韩忠耶', '儁', '曰', '彼一时', '此一时', '也', '昔', '秦项', '之际', '天下大乱', '民', '无定', '主', '故', '招降', '赏附', '以', '劝', '来', '耳', '今', '海内', '一统', '惟', '黄巾', '造反', '；', '若容', '其降', '无以', '劝善', '使贼', '得利', '恣意', '劫掠', '失利', '便', '投降', '此长寇', '之志', '非', '良策', '也', '玄德曰', '不容', '寇降', '是', '矣', '今', '四面', '围如', '铁桶', '贼', '乞降', '不得', '必然', '死战', '万人', '一心', '尚', '不可', '当', '况', '城中', '有', '数万', '死命', '之人乎', '不若', '撤去', '东南', '独攻', '西北', '贼', '必弃', '城', '而', '走', '无心恋战', '可即', '擒', '也', '儁', '然', '之', '随撤', '东南', '二面', '军马', '一齐', '攻打', '西北', '韩忠果', '引军弃', '城', '而', '奔', '儁', '与', '玄德', '关', '张率', '三军', '掩杀', '射死', '韩忠', '余', '皆', '四散', '奔走', '正', '追赶', '间', '赵弘', '孙仲引', '贼', '众到', '与', '儁', '交战', '儁', '见', '弘势', '大', '引军', '暂退', '弘', '乘势', '复夺', '宛城', '儁', '离', '十里', '下寨', '方欲', '攻打', '忽见', '正东', '一彪', '人马', '到来', '为首', '一将', '生得', '广额', '阔面', '虎体熊腰', '；', '吴郡富', '春人', '也', '姓', '孙', '名坚', '字', '文台', '乃', '孙武子', '之后', '年', '十七岁', '时', '与', '父至', '钱塘', '见', '海贼', '十余', '人', '劫取', '商人', '财物', '于', '岸上', '分赃', '坚谓', '父', '曰', '此贼', '可', '擒', '也', '遂', '奋力', '提刀', '上岸', '扬声大', '叫', '东西', '指挥', '如唤', '人状', '贼', '以为', '官兵', '至', '尽弃', '财物', '奔走', '坚', '赶上', '杀', '一贼', '由', '是', '郡县', '知名', '荐', '为', '校尉', '后会', '稽', '妖', '贼', '许昌', '造反', '自称', '阳明', '皇帝', '聚众', '数万', '；', '坚与', '郡', '司马', '招募', '勇士', '千余', '人', '会合', '州郡', '破', '之', '斩', '许昌', '并', '其子', '许韶', '刺史', '臧旻', '上表', '奏', '其功', '除', '坚为', '盐', '渎', '丞', '又', '除', '盱眙', '丞', '下', '邳', '丞', '今见', '黄巾', '寇起', '聚集', '乡中', '少年', '及', '诸', '商旅', '并', '淮', '泗', '精兵', '一千五百余', '人', '前来', '接应', '朱', '儁', '大喜', '便令坚', '攻打', '南门', '玄德打', '北门', '朱', '儁', '打', '西门', '留', '东门', '与', '贼', '走', '孙坚', '首先', '登城', '斩贼', '二十余', '人', '贼', '众', '奔溃', '赵弘', '飞马', '突槊', '直取', '孙坚', '坚从', '城上', '飞身', '夺弘', '槊', '刺弘', '下马', '；', '却', '骑弘马', '飞身', '往来', '杀贼', '孙仲引', '贼', '突出', '北门', '正迎', '玄德', '无心恋战', '只待', '奔逃', '玄德', '张', '弓一箭', '正中', '孙仲', '翻身', '落马', '朱', '儁', '大军', '随后', '掩杀', '斩首', '数万', '级', '降者', '不可胜计', '南阳', '一路', '十数', '郡皆平', '儁', '班师回', '京', '诏', '封为', '车骑', '将军', '河南', '尹', '儁', '表奏', '孙坚', '刘备', '等功', '坚有', '人情', '除别', '郡', '司马', '上任', '去', '了', '惟', '玄德听', '候日久', '不得', '除授', '三人', '郁郁不乐', '上街', '闲行', '正值', '郎中', '张钧车', '到', '玄德见', '之', '自陈', '功绩', '钧', '大惊', '随入', '朝见', '帝', '曰', '昔', '黄巾', '造反', '其原', '皆', '由', '十常侍', '卖官鬻爵', '非亲', '不用', '非仇', '不', '诛', '以致', '天下大乱', '今宜', '斩十常侍', '悬首', '南郊', '遣使', '者', '布告', '天下', '有功者', '重加', '赏赐', '则', '四海', '自', '清平', '也', '十常', '侍奏帝', '曰', '张钧', '欺主', '帝令', '武士', '逐出', '张钧', '十常侍', '共议', '此必破', '黄巾', '有功者', '不得', '除授', '故生', '怨言', '权且', '教省', '家铨', '注微名', '待', '后', '却', '再', '理会', '未晚', '因此', '玄德', '除授', '定州', '中山', '府', '安喜县', '尉', '克日', '赴任', '玄德', '将', '兵散', '回乡', '里', '止带', '亲随', '二十余', '人', '与关', '张来', '安喜县', '中', '到任', '署县', '事', '一月', '与民', '秋毫无犯', '民', '皆', '感化', '到任', '之后', '与关', '张食', '则', '同桌', '寝则', '同床', '如', '玄德', '在', '稠人广坐', '关', '张侍立', '终日', '不倦', '到', '县', '未及', '四月', '朝廷', '降', '诏', '凡有', '军功', '为', '长吏', '者', '当沙汰', '玄德疑', '在', '遣', '中', '适督', '邮行部', '至', '县', '玄德', '出', '郭', '迎接', '见督邮', '施礼', '督邮', '坐于', '马上', '惟微', '以', '鞭', '指', '回答', '关', '张二公', '俱怒', '及', '到', '馆驿', '督邮', '南面', '高坐', '玄德', '侍立阶', '下', '良久', '督邮问', '曰', '刘', '县尉', '是', '何', '出身', '玄德曰', '备乃', '中山', '靖王', '之后', '；', '自', '涿', '郡', '剿戮', '黄巾', '大小', '三十余', '战', '颇', '有', '微功', '因得', '除', '今职', '督邮大', '喝', '曰', '汝', '诈称', '皇亲', '虚报', '功绩', '目今', '朝廷', '降', '诏', '正要', '沙汰', '这', '等', '滥官污吏', '玄德', '喏喏连声', '而', '退', '归到', '县', '中', '与', '县吏', '商议', '吏', '曰', '督邮作威', '无非', '要', '贿赂', '耳', '玄德曰', '我', '与', '民', '秋毫无犯', '那得', '财物', '与', '他', '次日', '督邮先', '提', '县吏', '去', '勒令', '指称', '县尉', '害民', '玄德', '几番', '自往', '求免', '俱', '被', '门役', '阻住', '不肯', '放参', '却说', '张飞', '饮', '了', '数杯', '闷酒', '乘马', '从', '馆驿', '前过', '见', '五六十个', '老人', '皆', '在', '门前', '痛哭', '飞问', '其', '故', '众', '老人', '答', '曰', '督邮逼勒', '县吏', '欲害', '刘公', '；', '我', '等', '皆', '来', '苦告', '不得', '放入', '反遭', '把门人', '赶打', '张飞', '大怒', '睁', '圆环', '眼', '咬碎', '钢牙', '滚鞍', '下马', '径入', '馆驿', '把门人', '那里', '阻挡', '得', '住', '直奔', '后堂', '见督邮', '正坐', '厅', '上', '将', '县吏', '绑', '倒', '在', '地', '飞大', '喝', '害', '民贼', '认得', '我', '么', '督邮', '未及', '开', '言', '早', '被', '张飞', '揪住', '头发', '扯', '出', '馆驿', '直到', '县前', '马桩', '上', '缚住', '；', '攀下', '柳条', '去督', '邮两腿', '上', '着力', '鞭打', '一连', '打折', '柳条', '十数枝', '玄德正', '纳闷', '间', '听得', '县前', '喧闹', '问', '左右', '答', '曰', '张将军', '绑', '一人', '在', '县', '前', '痛打', '玄德忙', '去观', '之', '见', '绑缚', '者', '乃督邮', '也', '玄德惊', '问其', '故', '飞', '曰', '此等', '害', '民贼', '不', '打死', '等', '甚', '督邮告', '曰', '玄德公', '救', '我', '性命', '玄德终', '是', '仁慈', '的', '人', '急', '喝', '张飞', '住手', '傍边', '转过', '关公', '来', '曰', '兄长', '建', '许多', '大功', '仅得', '县尉', '今反', '被督邮', '侮辱', '吾', '思', '枳', '棘', '丛中', '非栖', '鸾凤', '之', '所', '；', '不如', '杀督邮', '弃官', '归乡', '别图', '远大', '之计', '玄德乃', '取', '印绶', '挂', '于督', '邮之颈', '责之', '曰', '据汝害民', '本当', '杀', '却', '；', '今姑', '饶汝命', '吾', '缴', '还', '印绶', '从此', '去', '矣', '督邮归告', '定州', '太守', '太守', '申文', '省府', '差', '人', '捕捉', '玄德', '关', '张三人往', '代州', '投刘恢', '恢见', '玄德乃', '汉室', '宗亲', '留匿', '在家', '不题', '却说', '十常侍', '既握', '重权', '互相', '商议', '但', '有', '不', '从己', '者', '诛', '之', '赵忠', '张让', '差人', '问破', '黄巾', '将士', '索金帛', '不', '从者', '奏', '罢职', '皇甫嵩', '朱', '儁', '皆', '不肯', '与', '赵忠', '等', '俱', '奏', '罢', '其官', '帝', '又', '封', '赵忠', '等', '为', '车骑', '将军', '张让', '等', '十三', '人', '皆', '封列侯', '朝政', '愈坏', '人民', '嗟怨', '于是', '长沙', '贼', '区星', '作乱', '；', '渔阳', '张举', '张纯', '反', '举称', '天子', '纯称', '大将军', '表章', '雪片', '告急', '十常侍', '皆', '藏匿', '不奏', '一日', '帝在', '后园', '与', '十常侍', '饮宴', '谏议', '大夫', '刘陶', '径到', '帝前', '大', '恸', '帝问', '其', '故', '陶', '曰', '天下', '危在旦夕', '陛下', '尚自', '与', '阉宦', '共', '饮', '耶', '帝', '曰', '国家', '承平', '有何', '危急', '陶', '曰', '四方', '盗贼', '并', '起', '侵掠', '州郡', '其祸', '皆', '由十常', '侍卖官', '害民', '欺君罔上', '朝廷', '正人', '皆', '去', '祸', '在', '目前', '矣', '十常侍', '皆', '免冠', '跪伏', '于帝', '前', '曰', '大臣', '不相容', '臣', '等', '不能', '活矣', '愿', '乞', '性命', '归', '田里', '尽', '将', '家产', '以助', '军资', '言', '罢', '痛哭', '帝怒谓', '陶', '曰', '汝家', '亦', '有', '近侍', '之', '人', '何独', '不容', '朕', '耶', '呼', '武士', '推出', '斩', '之', '刘陶大呼', '臣', '死', '不惜', '可怜', '汉室', '天下', '四百余年', '到', '此', '一旦', '休', '矣', '武士', '拥陶出', '方欲', '行刑', '一', '大臣', '喝住', '曰', '勿', '得', '下手', '待', '我', '谏', '去', '众视', '之', '乃', '司徒', '陈耽', '径入', '宫中', '来谏帝', '曰', '刘', '谏议', '得', '何罪', '而', '受', '诛', '帝', '曰', '毁谤', '近臣', '冒渎', '朕', '躬', '耽', '曰', '天下', '人民', '欲', '食十', '常侍之', '肉', '陛下', '敬之如', '父母', '身无', '寸功', '皆', '封列侯', '；', '况封谞', '等', '结连', '黄巾', '欲', '为', '内乱', '陛下', '今', '不', '自省', '社稷', '立见', '崩摧', '矣', '帝', '曰', '封谞', '作乱', '其', '事', '不明', '十常', '侍中', '岂', '无', '一二', '忠臣', '陈耽', '以头', '撞', '阶而谏', '帝怒', '命', '牵出', '与', '刘陶', '皆', '下狱', '是夜', '十常', '侍即', '于', '狱中', '谋杀', '之', '；', '假帝', '诏', '以', '孙坚', '为', '长沙', '太守', '讨', '区星', '不', '五十', '日', '报捷', '江夏', '平', '诏封', '坚为', '乌程侯', '封', '刘虞为', '幽州', '牧', '领兵', '往渔阳征', '张举', '张纯', '代州', '刘恢以', '书荐', '玄德见', '虞', '虞', '大喜', '令', '玄德', '为', '都尉', '引兵', '直抵', '贼巢', '与', '贼', '大战', '数日', '挫动', '锐气', '张纯', '专一', '凶暴', '士卒', '心变', '帐下', '头目', '刺杀', '张纯', '将头', '纳献', '率众', '来降', '张举', '见', '势败', '亦', '自缢', '死', '渔阳', '尽平', '刘虞表奏', '刘备', '大功', '朝廷', '赦免', '鞭督', '邮之罪', '除下密', '丞', '迁', '高堂', '尉', '公孙瓒', '又表', '陈', '玄德前', '功', '荐', '为', '别部', '司马', '守', '平原', '县令', '玄德', '在', '平原', '颇', '有', '钱粮', '军马', '重整', '旧日', '气象', '刘虞平寇', '有功', '封太尉', '中平', '六年', '夏', '四月', '灵帝', '病笃', '召', '大将军', '何', '进入', '宫', '商议', '后事', '那何', '进', '起身', '屠家', '；', '因妹入', '宫为', '贵人', '生', '皇子', '辩', '遂', '立为', '皇后', '进由', '是', '得权', '重任', '帝', '又', '宠幸', '王美人', '生', '皇子', '协', '何后', '嫉妒', '鸩', '杀', '王美人', '皇子', '协养', '于', '董太后', '宫中', '董太后', '乃灵帝', '之母', '解渎', '亭', '侯', '刘苌之妻', '也', '初', '因桓帝', '无子', '迎立', '解渎', '亭', '侯之子', '是', '为', '灵帝', '灵帝入', '继', '大统', '遂', '迎', '养母', '氏于', '宫中', '尊', '为', '太后', '董太后', '尝', '劝', '帝立', '皇子', '协为', '太子', '帝', '亦', '偏爱', '协', '欲立', '之', '当时', '病笃', '中常', '侍', '蹇', '硕奏', '曰', '若欲立协', '必先', '诛', '何进', '以绝后患', '帝然', '其', '说', '因宣', '进入', '宫', '进至', '宫门', '司马', '潘隐谓', '进', '曰', '不可', '入宫', '蹇', '硕欲', '谋杀', '公', '进大惊', '急归', '私宅', '召诸', '大臣', '欲', '尽', '诛', '宦官', '座', '上', '一人', '挺身', '出', '曰', '宦官', '之势', '起自冲', '质之时', '；', '朝廷', '滋蔓', '极广', '安能', '尽', '诛', '倘机', '不密', '必有', '灭族', '之祸', '请细详', '之', '进视', '之', '乃典军', '校尉', '曹操', '也', '进', '叱', '曰', '汝', '小辈', '安知', '朝廷', '大事', '正', '踌躇', '间', '潘隐至', '言', '帝已', '崩', '今赛', '硕', '与', '十常侍', '商议', '秘不', '发丧', '矫诏', '宣', '何国舅', '入宫', '欲绝', '后患', '册立', '皇子', '协为帝', '说', '未了', '使命', '至', '宣进', '速入', '以', '定', '后事', '操', '曰', '今日', '之计', '先宜', '正君位', '然后', '图贼', '进', '曰', '谁', '敢', '与', '吾', '正君', '讨贼', '一人', '挺身', '出', '曰', '愿借', '精兵', '五千', '斩', '关入', '内', '册', '立新君', '尽', '诛', '阉', '竖', '扫清', '朝廷', '以安', '天下', '进视', '之', '乃', '司徒', '袁逢', '之子', '袁隗', '之', '侄', '名绍', '字', '本初', '现为', '司隶校', '尉', '何进', '大喜', '遂', '点', '御林军', '五千', '绍', '全身', '披挂', '何进', '引何', '顒', '荀', '攸', '郑泰', '等', '大臣', '三十余', '员', '相继', '而入', '就', '灵帝', '柩', '前', '扶', '立太子', '辩即', '皇帝', '位', '百官', '呼拜', '已', '毕', '袁绍', '入宫', '收', '蹇', '硕', '硕慌', '走入', '御园', '花阴下', '为', '中常', '侍', '郭胜', '所', '杀', '硕所领', '禁军', '尽', '皆', '投顺', '绍', '谓何', '进', '曰', '中官', '结党', '今日', '可', '乘势', '尽', '诛', '之', '张让', '等', '知事', '急', '慌入', '告何', '后', '曰', '始初', '设谋', '陷害', '大将军', '者', '止赛', '硕一人', '并', '不', '干臣', '等', '事', '今', '大将军', '听', '袁绍之', '言', '欲', '尽', '诛', '臣', '等', '乞', '娘娘', '怜悯', '何太后', '曰', '汝', '等', '勿', '忧', '我', '当保', '汝', '传旨', '宣何', '进入', '太后', '密谓', '曰', '我', '与', '汝', '出身', '寒微', '非张', '让', '等', '焉能', '享此', '富贵', '今', '蹇', '硕不仁', '既', '已', '伏诛', '汝何', '听信', '人', '言', '欲', '尽', '诛', '宦官', '耶', '何进', '听罢', '出谓', '众官', '曰', '蹇', '硕设', '谋害', '我', '可族灭', '其家', '其余', '不必', '妄加', '残害', '袁绍', '曰', '若', '不', '斩草除根', '必为', '丧身', '之', '本', '进', '曰', '吾', '意', '已决', '汝勿多', '言', '众官', '皆', '退', '次日', '太后', '命何', '进', '参录', '尚书', '事', '其余', '皆', '封', '官职', '董太后', '宣张', '让', '等', '入宫', '商议', '曰', '何进之', '妹', '始初', '我', '抬举', '他', '今日', '他', '孩儿', '即', '皇帝', '位', '内外', '臣僚', '皆', '其', '心腹', '威权', '太重', '我', '将', '如何', '让', '奏', '曰', '娘娘', '可', '临朝', '垂帘听政', '；', '封', '皇子', '协为', '王', '；', '加', '国舅', '董', '重大', '官', '掌握', '军权', '；', '重用', '臣', '等', '大事', '可图', '矣', '董太后', '大喜', '次日', '设朝', '董太后', '降旨', '封', '皇子', '协为', '陈留王', '董重', '为', '骠骑', '将军', '张让', '等', '共预', '朝政', '何太后', '见', '董太后', '专权', '于', '宫中', '设一宴', '请', '董太后', '赴席', '酒至', '半酣', '何太后', '起身', '捧杯', '再拜', '曰', '我', '等', '皆', '妇人', '也', '参预', '朝政', '非其', '所宜', '昔吕后', '因握', '重权', '宗族', '千口', '皆', '被', '戮', '今', '我', '等', '宜', '深居', '九重', '；', '朝廷', '大事', '任', '大臣', '元老', '自行', '商议', '此', '国家', '之幸', '也', '愿', '垂', '听', '焉', '董后', '大怒', '曰', '汝', '鸩', '死', '王美人', '设心', '嫉妒', '今', '倚汝子', '为', '君', '与汝兄', '何进之', '势', '辄', '敢', '乱言', '吾', '敕', '骠骑', '断汝兄首', '如反', '掌耳', '何后', '亦', '怒', '曰', '吾', '以', '好言相劝', '何反怒', '耶', '董后', '曰', '汝家', '屠沽', '小辈', '有何', '见识', '两宫', '互相', '争竞', '张让', '等', '各', '劝', '归宫', '何后', '连夜', '召何', '进入', '宫', '告', '以前', '事', '何', '进出', '召三', '公共', '议', '来', '早', '设朝', '使廷臣', '奏', '董太后', '原系', '藩', '妃', '不宜', '久居', '宫中', '合', '仍', '迁于', '河间', '安置', '限日', '下', '即', '出', '国门', '一面', '遣人起', '送', '董后', '；', '一面', '点', '禁军', '围', '骠骑', '将军', '董重府', '宅', '追索', '印绶', '董重', '知事', '急', '自刎', '于', '后堂', '家人', '举哀', '军士', '方散', '张让', '段', '珪', '见', '董后', '一枝', '已', '废', '遂', '皆', '以金珠', '玩', '好', '结构', '何进弟', '何苗', '并', '其母', '舞阳', '君', '令', '早晚', '入', '何太后', '处', '善言', '遮蔽', '因此', '十常侍', '又', '得', '近幸', '六月', '何进', '暗使', '人', '鸩', '杀', '董后', '于', '河间', '驿庭', '举柩', '回京', '葬于', '文陵', '进', '托病', '不', '出', '司隶校', '尉袁绍', '入见', '进', '曰', '张让', '段', '珪', '等', '流言', '于外', '言公鸩杀', '董后', '欲谋', '大事', '乘', '此时', '不', '诛', '阉宦', '后', '必为', '大祸', '昔窦', '武欲', '诛', '内', '竖', '机谋', '不密', '反受', '其殃', '今公', '兄弟', '部曲', '将', '吏', '皆', '英俊', '之士', '；', '若', '使', '尽力', '事', '在', '掌握', '此天', '赞之时', '不可', '失', '也', '进', '曰', '且容', '商议', '左右', '密报', '张让', '让', '等', '转告', '何苗', '又', '多', '送', '贿赂', '苗入', '奏', '何后', '云', '大将军', '辅佐', '新君', '不行', '仁慈', '专务', '杀伐', '今', '无端', '又', '欲', '杀', '十常侍', '此取', '乱', '之', '道', '也', '后纳', '其言', '少顷', '何', '进入', '白后', '欲', '诛', '中', '涓', '何后', '曰', '中官', '统领', '禁省', '汉家', '故事', '先帝', '新弃', '天下', '尔', '欲', '诛杀', '旧臣', '非重', '宗庙', '也', '进本', '是', '没', '决断', '之', '人', '听太后', '言', '唯唯', '而出', '袁绍', '迎问', '曰', '大事', '若何', '进', '曰', '太后', '不允', '如之奈何', '绍', '曰', '可召', '四方', '英雄', '之士', '勒兵', '来京', '尽', '诛', '阉', '竖', '此时', '事急', '不容', '太后', '不', '从', '进', '曰', '此', '计大妙', '便发', '檄', '至', '各镇', '召赴', '京师', '主薄', '陈琳', '曰', '不可', '俗云', '掩目', '而', '捕', '燕雀', '是', '自欺', '也', '微物', '尚', '不', '可欺', '以', '得志', '况', '国家', '大事', '乎', '今', '将军', '仗', '皇威', '掌兵', '要', '龙骧虎步', '高下在心', '若', '欲', '诛', '宦官', '如鼓', '洪炉燎毛', '发耳', '但', '当速发', '雷霆', '行权', '立断', '则', '天人顺', '之', '却', '反外', '檄', '大臣', '临犯京', '阙', '英雄', '聚会', '各怀', '一心', '所谓', '倒持干戈', '授人以柄', '功必', '不成', '反生', '乱', '矣', '何进', '笑', '曰', '此', '懦夫', '之见', '也', '傍边', '一人', '鼓掌', '大笑', '曰', '此事', '易如反掌', '何必', '多议', '视', '之', '乃', '曹操', '也', '正是', '欲', '除君侧', '宵', '人乱', '须', '听', '朝', '中', '智士', '谋', '不知', '曹操', '说出', '甚话', '来', '且', '听', '下文', '分解', '正文', '第三回', '议温明', '董卓', '叱丁原', '馈金珠', '李肃', '说', '吕布', '且说', '曹操', '当日', '对何', '进', '曰', '宦官', '之祸', '古今', '皆', '有', '；', '但世主', '不当', '假之权', '宠', '使', '至于', '此', '若', '欲', '治罪', '当除', '元恶', '但付', '一', '狱吏', '足矣', '何必', '纷纷', '召外', '兵乎', '欲', '尽', '诛', '之', '事必', '宣露', '吾料', '其', '必败', '也', '何进', '怒', '曰', '孟德亦怀', '私意', '耶', '操退', '曰', '乱', '天下', '者', '必进', '也', '进乃暗', '差', '使命', '赍', '密诏', '星夜', '往', '各镇', '去', '却说', '前', '将军', '鳌', '乡侯', '西凉', '刺史', '董卓', '先为', '破', '黄巾', '无功', '朝议', '将治', '其罪', '因', '贿赂', '十常侍', '幸免', '；', '后', '又', '结托', '朝贵', '遂', '任', '显官', '统', '西州', '大军', '二十万', '常有', '不臣之心', '是', '时', '得', '诏', '大喜', '点起', '军马', '陆续', '便行', '；', '使', '其婿', '中郎将', '牛辅', '；', '守住', '陕西', '自己', '却', '带', '李', '傕', '郭汜', '张济', '樊稠', '等', '提兵望', '洛阳', '进发', '卓婿', '谋士', '李儒', '曰', '今', '虽', '奉', '诏', '中间', '多有', '暗味', '何不', '差', '人', '上表', '名正言顺', '大事', '可图', '卓大喜', '遂', '上表', '其略', '曰', '窃闻', '天下', '所以', '乱', '逆', '不止', '者', '皆', '由', '黄门', '常侍', '张', '让', '等', '侮慢', '天常', '之', '故', '臣闻', '扬汤止沸', '不如', '去', '薪', '；', '溃', '痈', '虽痛', '胜于', '养毒', '臣敢', '鸣', '钟鼓', '入', '洛阳', '请', '除', '让', '等', '社稷', '幸甚', '天下', '幸甚', '何进', '得表', '出示', '大臣', '侍御史', '郑泰谏', '曰', '董卓', '乃', '豺狼', '也', '引入', '京城', '必食', '人', '矣', '进', '曰', '汝', '多疑', '不足', '谋', '大事', '卢植', '亦', '谏', '曰', '植素', '知', '董卓', '为', '人', '面善', '心狠', '；', '一入', '禁庭', '必生', '祸患', '不如', '止', '之', '勿', '来', '免致', '生乱', '进不听', '郑泰', '卢植', '皆', '弃官', '而', '去', '朝廷', '大臣', '去', '者', '大半', '进使', '人迎', '董卓', '于', '渑池', '卓', '按兵不动', '张让', '等', '知外', '兵', '到', '共议', '曰', '此', '何进之', '谋', '也', '；', '我', '等', '不', '先下手', '皆', '灭族', '矣', '乃', '先伏', '刀斧手', '五十', '人于', '长乐宫', '嘉德', '门内', '入告', '何太后', '曰', '今', '大将军', '矫诏召', '外兵', '至', '京师', '欲', '灭臣', '等', '望', '娘娘', '垂怜', '赐', '救', '太后', '曰', '汝', '等', '可诣', '大将军', '府', '谢罪', '让', '曰', '若到', '相府', '骨肉', '齑粉', '矣', '望', '娘娘', '宣', '大将军', '入宫', '谕止', '之', '如其', '不', '从', '臣', '等', '只', '就', '娘娘', '前', '请', '死', '太后', '乃降', '诏', '宣进', '进得', '诏', '便行', '主簿', '陈琳', '谏', '曰', '太后', '此', '诏', '必是', '十', '常侍之', '谋', '切不可', '去', '去', '必有', '祸', '进', '曰', '太后', '诏', '我', '有何', '祸事', '袁绍', '曰', '今谋', '已', '泄', '事', '已露', '将军', '尚欲入', '宫耶', '曹操', '曰', '先召十常', '侍出', '然后', '可入', '进笑', '曰', '此', '小儿', '之见', '也', '吾', '掌', '天下', '之权', '十常', '侍敢', '待', '如何', '绍', '曰', '公必', '欲', '去', '我', '等', '引', '甲士', '护', '从', '以防不测', '于是', '袁绍', '曹操', '各选', '精兵', '五百', '命', '袁绍之', '弟', '袁术领', '之', '袁术', '全身', '披挂', '引兵', '布列', '青琐', '门外', '绍', '与', '操带', '剑', '护送', '何进', '至', '长乐宫', '前', '黄门', '传', '懿旨', '云', '太后', '特宣', '大将军', '余人', '不许', '辄', '入', '将', '袁绍', '曹操', '等', '都', '阻住', '宫', '门外', '何进', '昂然直入', '至嘉德殿', '门', '张让', '段', '珪', '迎出', '左右', '围住', '进大惊', '让', '厉声', '责进', '曰', '董后', '何罪', '妄以', '鸩', '死', '国母', '丧葬', '托疾不出', '汝本', '屠沽', '小辈', '我等荐', '之', '天子', '以致', '荣贵', '；', '不思', '报效', '欲', '相', '谋害', '汝言', '我', '等', '甚浊', '其清者', '是', '谁', '进慌急', '欲', '寻', '出路', '宫门', '尽闭', '伏甲', '齐出', '将', '何进', '砍', '为', '两段', '后人', '有', '诗', '叹', '之', '曰', '；', '汉室', '倾危', '天数', '终', '无谋何', '进作', '三公', '几番', '不', '听', '忠臣', '谏', '难免', '宫中', '受', '剑锋', '让', '等', '既', '杀', '何进', '袁绍', '久', '不见', '进出', '乃于', '宫', '门外', '大叫', '曰', '请', '将军', '上车', '让', '等', '将', '何进', '首级', '从', '墙上', '掷', '出', '宣谕', '曰', '何进', '谋反', '已', '伏诛', '矣', '其余', '胁从', '尽', '皆', '赦宥', '袁绍', '厉声', '大叫', '阉官', '谋杀', '大臣', '诛', '恶党者', '前来', '助战', '何进', '部将', '吴匡', '便于', '青琐', '门外', '放', '起火', '来', '袁术引', '兵', '突入', '宫庭', '但见', '阉官', '不论', '大小', '尽皆杀', '之', '袁绍', '曹操', '斩', '关入', '内', '赵忠', '程旷', '夏恽', '郭胜', '四个', '被', '赶至翠花', '楼前', '剁', '为', '肉', '泥', '宫中', '火焰', '冲天', '张让', '段', '珪', '曹节', '侯览', '将', '太后', '及', '太子', '并', '陈留王', '劫去', '内省', '从后', '道', '走', '北宫', '时卢植', '弃官', '未', '去', '见', '宫中', '事变', '擐', '甲持戈', '立于', '阁下', '遥见', '段', '珪', '拥逼何', '后', '过来', '植大呼', '曰', '段', '珪', '逆贼', '安敢', '劫', '太后', '段', '珪', '回身', '便', '走', '太后', '从', '窗中', '跳出', '植', '急救', '得', '免', '吴匡', '杀入', '内庭', '见', '何苗', '亦', '提剑出', '匡大呼', '曰', '何苗同', '谋害', '兄', '当共杀', '之', '众人', '俱', '曰', '愿', '斩谋兄', '之', '贼', '苗欲', '走', '四面', '围定', '砍', '为', '齑粉', '绍复令', '军士', '分头来', '杀十常侍', '家属', '不', '分', '大小', '尽', '皆', '诛', '绝', '多有', '无须', '者', '误', '被', '杀死', '曹操', '一面', '救灭', '宫中', '之火', '请', '何太后', '权摄', '大事', '遣兵', '追袭', '张', '让', '等', '寻觅', '少帝', '且说', '张让', '段', '珪', '劫', '拥', '少帝', '及', '陈留王', '冒烟', '突火', '连夜', '奔走', '至北', '邙山', '约', '二', '更', '时分', '后面', '喊声', '大举', '人马', '赶至', '；', '当前', '河南', '中部', '掾', '吏', '闵贡', '大呼', '逆贼', '休走', '张让', '见', '事', '急', '遂', '投河', '而', '死', '帝', '与', '陈留王', '未知', '虚实', '不敢', '高声', '伏于', '河边', '乱草', '之内', '军马', '四散', '去', '赶', '不知', '帝', '之', '所在', '帝', '与', '王伏', '至', '四', '更', '露水', '又', '下', '腹中', '饥馁', '相挤', '而', '哭', '；', '又', '怕人', '知觉', '吞声', '草莽', '之中', '陈留王', '曰', '此间', '不可', '久恋', '须别', '寻', '活路', '于是', '二人', '以衣', '相结', '爬', '上', '岸边', '满地', '荆棘', '黑暗', '之中', '不见', '行路', '正', '无奈何', '忽有', '流萤', '千百成', '群', '光芒', '照耀', '只', '在', '帝前', '飞转', '陈留王', '曰', '此天助', '我', '兄弟', '也', '遂', '随', '萤火', '而行', '渐渐', '见路', '行至', '五更', '足痛', '不能', '行', '山冈', '边见', '一', '草堆', '帝', '与', '王卧于', '草堆', '之畔', '草堆', '前面', '是', '一所', '庄院', '庄主', '是夜', '梦', '两', '红日', '坠于', '庄后', '惊觉', '披衣', '出户', '四下', '观望', '见', '庄后', '草堆', '上', '红光', '冲天', '慌忙', '往视', '却是', '二人', '卧于', '草畔', '庄主', '问', '曰', '二', '少年', '谁家', '之子', '帝', '不敢', '应', '陈留王', '指帝', '曰', '此', '是', '当今', '皇帝', '遭十', '常侍之', '乱', '逃难', '到', '此', '吾', '乃', '皇弟', '陈留王', '也', '庄主', '大惊', '再拜', '曰', '臣', '先朝', '司徒', '崔烈', '之弟', '崔毅', '也', '因见', '十常', '侍卖官', '嫉贤', '故隐于', '此', '遂', '扶帝', '入庄', '跪进', '酒食', '却说', '闵贡', '赶上', '段', '珪', '拿', '住', '问', '天子', '何在', '珪', '言', '已', '在', '半路', '相失', '不知', '何往', '贡遂', '杀', '段', '珪', '悬头', '于', '马项', '下', '分', '兵', '四散', '寻觅', '；', '自己', '却', '独乘', '一马', '随路', '追寻', '偶至', '崔毅庄', '毅见', '首级', '问', '之', '贡说', '详细', '崔毅引', '贡见帝', '君臣', '痛哭', '贡曰', '国', '不可', '一日', '无君', '请', '陛下', '还', '都', '崔毅庄', '上止', '有', '瘦马', '一匹', '备与帝', '乘', '贡与', '陈留王', '共乘', '一马', '离庄', '而行', '不到', '三里', '司徒王允', '太尉杨', '彪', '左军', '校尉', '淳于琼', '右', '军', '校尉', '赵萌', '后', '军', '校尉', '鲍信', '中', '军校', '尉袁绍', '一行', '人', '众', '数百', '人马', '接着', '车驾', '君臣', '皆', '哭', '先使', '人', '将', '段', '珪', '首级', '往', '京师', '号令', '另换', '好马', '与', '帝及', '陈留王', '骑坐', '簇帝', '还京', '先是', '洛阳', '小儿', '谣', '曰', '帝非帝', '王非王', '千乘万骑', '走北', '邙', '至此', '果应', '其', '谶', '车驾', '行', '不到', '数里', '忽见', '旌旗蔽日', '尘土', '遮天', '一枝', '人马', '到来', '百官', '失色', '帝亦大惊', '袁绍', '骤马出', '问', '何人', '绣', '旗', '影里', '一将', '飞出', '厉声', '问', '天子', '何在', '帝', '战栗', '不能', '言', '陈留王', '勒马', '向前', '叱', '曰', '来者', '何人', '卓', '曰', '西凉', '刺史', '董卓', '也', '陈留王', '曰', '汝来', '保驾', '耶', '汝来', '劫', '驾', '耶', '卓应', '曰', '特', '来', '保驾', '陈留王', '曰', '既来', '保驾', '天子', '在', '此', '何不', '下马', '卓大惊', '慌忙', '下马', '拜于', '道', '左', '陈留王', '以言', '抚慰', '董卓', '自初', '至终', '并', '无', '失语', '卓暗', '奇', '之', '已', '怀废立', '之意', '是', '日', '还', '宫', '见', '何太后', '俱', '各', '痛哭', '检点', '宫中', '不见', '了', '传国', '玉玺', '董卓', '屯兵', '城外', '每日', '带', '铁甲', '马军入', '城', '横行', '街市', '百姓', '惶惶不安', '卓', '出入', '宫庭', '略无忌惮', '后', '军', '校尉', '鲍信', '来', '见', '袁绍', '言', '董卓', '必有', '异心', '可速', '除', '之', '绍', '曰', '朝廷', '新', '定', '未', '可轻动', '鲍信', '见', '王允', '亦', '言', '其事', '允', '曰', '且容', '商议', '信自引', '本部', '军兵', '投', '泰山', '去', '了', '董卓', '招诱', '何进', '兄弟', '部下', '之兵', '尽归', '掌握', '私谓', '李儒', '曰', '吾', '欲', '废帝', '立', '陈留王', '何如', '李儒', '曰', '今', '朝廷', '无', '主', '不', '就', '此时', '行事', '迟则', '有变', '矣', '来', '日于', '温明', '园中', '召集', '百官', '谕以', '废立', '；', '有', '不', '从者', '斩', '之', '则', '威权', '之', '行', '正在', '今日', '卓喜', '次日', '大排', '筵会', '遍请', '公卿', '公卿皆', '惧', '董卓', '谁', '敢', '不到', '卓待', '百官', '到', '了', '然后', '徐徐', '到', '园门', '下马', '带剑', '入席', '酒行', '数巡', '卓教', '停酒', '止乐', '乃', '厉声', '曰', '吾', '有', '一言', '众官', '静听', '众', '皆', '侧耳', '卓', '曰', '天子', '为', '万民', '之主', '无', '威仪', '不', '可以', '奉', '宗庙社稷', '今上', '懦弱', '不', '若', '陈留王', '聪明', '好学', '可承', '大位', '吾', '欲', '废帝', '立', '陈留王', '诸', '大臣', '以为', '何如', '诸官', '听罢', '不敢', '出', '声']\n"
     ]
    }
   ],
   "source": [
    "import re\n",
    "\n",
    "# 过滤不了\\\\ \\ 中文（）还有————\n",
    "r1 = u'[a-zA-Z0-9’!\"#$%&\\'()*+,-./:;<=>?@，。?★、…【】《》？“”‘’！[\\\\]^_`{|}~]+'#用户也可以在此进行自定义过滤字符 \n",
    "# 者中规则也过滤不完全\n",
    "r2 = \"[\\s+\\.\\!\\/_,$%^*(+\\\"\\']+|[+——！，。？、~@#￥%……&*（）]+\"\n",
    "# \\\\\\可以过滤掉反向单杠和双杠，/可以过滤掉正向单杠和双杠，第一个中括号里放的是英文符号，第二个中括号里放的是中文符号，第二个中括号前不能少|，否则过滤不完全\n",
    "r3 =  \"[.!//_,$&%^*()<>+\\\"'?@#-|:~{}]+|[——！\\\\\\\\，。=？、：“”‘’《》【】￥……（）]+\" \n",
    "# 去掉括号和括号内的所有内容\n",
    "r4 =  \"\\\\【.*?】+|\\\\《.*?》+|\\\\#.*?#+|[.!/_,$&%^*()<>+\"\"'?@|:~{}#]+|[——！\\\\\\，。=？、：“”‘’￥……（）《》【】]\"\n",
    "\n",
    "test_sentence = []\n",
    "with open(\"三国演义_cut.txt\") as fp:\n",
    "    i = 0\n",
    "    for line in fp.readlines():\n",
    "        if i > 100:\n",
    "            break\n",
    "        line = line.strip()\n",
    "        cleanr = re.compile(r4)\n",
    "        line = re.sub(r4,'',line)\n",
    "        line = line.replace('  ', ' ')\n",
    "        toks = line.split(\" \")\n",
    "        for tok in toks:\n",
    "            if tok == '' or tok == '\\ufeff' or tok == '\\u3000':\n",
    "                continue\n",
    "            else:\n",
    "                test_sentence.append(tok)\n",
    "        i += 1\n",
    "        \n",
    "print(test_sentence)"
   ]
  },
  {
   "cell_type": "code",
   "execution_count": null,
   "metadata": {},
   "outputs": [],
   "source": []
  },
  {
   "cell_type": "code",
   "execution_count": 378,
   "metadata": {
    "scrolled": true
   },
   "outputs": [
    {
     "name": "stderr",
     "output_type": "stream",
     "text": [
      "/home/hdw/anaconda3/lib/python3.7/site-packages/ipykernel_launcher.py:55: UserWarning: Implicit dimension choice for log_softmax has been deprecated. Change the call to include dim=X as an argument.\n"
     ]
    },
    {
     "name": "stdout",
     "output_type": "stream",
     "text": [
      " epoch[0] - loss: 51509.125000\n",
      " epoch[1] - loss: 50869.054688\n",
      " epoch[2] - loss: 50236.718750\n",
      " epoch[3] - loss: 49639.898438\n",
      " epoch[4] - loss: 49105.019531\n",
      " epoch[5] - loss: 48610.695312\n",
      " epoch[6] - loss: 48157.171875\n",
      " epoch[7] - loss: 47744.054688\n",
      " epoch[8] - loss: 47363.781250\n",
      " epoch[9] - loss: 47009.031250\n",
      " epoch[10] - loss: 46674.066406\n",
      " epoch[11] - loss: 46353.925781\n",
      " epoch[12] - loss: 46043.464844\n",
      " epoch[13] - loss: 45738.414062\n",
      " epoch[14] - loss: 45434.460938\n",
      " epoch[15] - loss: 45128.375000\n",
      " epoch[16] - loss: 44817.347656\n",
      " epoch[17] - loss: 44499.414062\n",
      " epoch[18] - loss: 44172.179688\n",
      " epoch[19] - loss: 43834.394531\n",
      " epoch[20] - loss: 43484.363281\n",
      " epoch[21] - loss: 43121.363281\n",
      " epoch[22] - loss: 42743.855469\n",
      " epoch[23] - loss: 42350.535156\n",
      " epoch[24] - loss: 41940.449219\n",
      " epoch[25] - loss: 41512.355469\n",
      " epoch[26] - loss: 41065.519531\n",
      " epoch[27] - loss: 40598.679688\n",
      " epoch[28] - loss: 40111.261719\n",
      " epoch[29] - loss: 39602.234375\n"
     ]
    }
   ],
   "source": [
    "\n",
    "# 参数设置\n",
    "torch.manual_seed(1)\n",
    "CONTEXT_SIZE = 2\n",
    "EMBEDDING_DIM = 10\n",
    "N_EPHCNS = 30\n",
    "\n",
    "# 语料\n",
    "test_sentence = \"\"\"Word embeddings are dense vectors of real numbers, \n",
    "one per word in your vocabulary. In NLP, it is almost always the case \n",
    "that your features are words! But how should you represent a word in a\n",
    "computer? You could store its ascii character representation, but that\n",
    "only tells you what the word is, it doesn’t say much about what it means \n",
    "(you might be able to derive its part of speech from its affixes, or properties \n",
    "from its capitalization, but not much). Even more, in what sense could you combine \n",
    "these representations?\"\"\".split()\n",
    "\n",
    "test_sentence = []\n",
    "with open(\"三国演义_cut.txt\") as fp:\n",
    "    i = 0\n",
    "    for line in fp.readlines():\n",
    "        if i > 100:\n",
    "            break\n",
    "        line = line.strip()\n",
    "        cleanr = re.compile(r4)\n",
    "        line = re.sub(r4,'',line)\n",
    "        line = line.replace('  ', ' ')\n",
    "        toks = line.split(\" \")\n",
    "        for tok in toks:\n",
    "            if tok == '' or tok == '\\ufeff' or tok == '\\u3000':\n",
    "                continue\n",
    "            else:\n",
    "                test_sentence.append(tok)\n",
    "        i += 1\n",
    "# 三元模型语料准备\n",
    "trigrams = [([test_sentence[i], test_sentence[i + 1]], test_sentence[i + 2])\n",
    "            for i in range(len(test_sentence) - 2)]\n",
    "\n",
    "vocab = set(test_sentence)\n",
    "word_to_ix = {word: i for i, word in enumerate(vocab)}\n",
    "idx_to_word = {word_to_ix[word]: word for word in word_to_ix}\n",
    "\n",
    "\n",
    "# 语言模型\n",
    "class NGramLanguageModeler(nn.Module):\n",
    "    def __init__(self, vocab_size, embedding_dim, context_size):\n",
    "        super(NGramLanguageModeler, self).__init__()\n",
    "        self.embeddings = nn.Embedding(vocab_size, embedding_dim)\n",
    "        self.linear1 = nn.Linear(context_size * embedding_dim, 128)\n",
    "        self.linear2 = nn.Linear(128, vocab_size)\n",
    "\n",
    "    def forward(self, inputs):\n",
    "        embeds = self.embeddings(inputs).view((1, -1))\n",
    "        out = F.relu(self.linear1(embeds))\n",
    "        out = self.linear2(out)\n",
    "        log_probs = F.log_softmax(out)\n",
    "        return log_probs\n",
    "\n",
    "\n",
    "# loss 函数和优化器\n",
    "loss_function = nn.NLLLoss()\n",
    "model = NGramLanguageModeler(len(vocab), EMBEDDING_DIM, CONTEXT_SIZE)\n",
    "optimizer = torch.optim.SGD(model.parameters(), lr=0.001)\n",
    "\n",
    "# 训练语言模型\n",
    "for epoch in range(N_EPHCNS):\n",
    "    total_loss = torch.Tensor([0])\n",
    "    for context, target in trigrams:\n",
    "        # Step 1. 准备数据\n",
    "        context_idxs = [word_to_ix[w] for w in context]\n",
    "        context_var = torch.autograd.Variable(torch.LongTensor(context_idxs))\n",
    "\n",
    "        # Step 2 梯度初始化\n",
    "        model.zero_grad()\n",
    "\n",
    "        # Step 3. 前向算法\n",
    "        log_probs = model(context_var)\n",
    "\n",
    "        # Step 4. 计算loss\n",
    "        loss = loss_function(log_probs, torch.autograd.Variable(\n",
    "            torch.LongTensor([word_to_ix[target]])))\n",
    "\n",
    "        # Step 5. 后向算法和更新梯度\n",
    "        loss.backward()\n",
    "        optimizer.step()\n",
    "\n",
    "        # step 6. loss\n",
    "        total_loss += loss.data\n",
    "    # 打印 loss\n",
    "    print('\\r epoch[{}] - loss: {:.6f}'.format(epoch, total_loss[0]))\n",
    "\n"
   ]
  },
  {
   "cell_type": "code",
   "execution_count": 377,
   "metadata": {},
   "outputs": [
    {
     "name": "stdout",
     "output_type": "stream",
     "text": [
      "['宴', '桃园'] 豪杰\n",
      "tensor([[-8.6219, -8.2365, -8.5792,  ..., -8.0465, -8.7091, -8.2856]],\n",
      "       grad_fn=<LogSoftmaxBackward>)\n",
      "tensor([2635]) {0: '目能', 1: '乡侯', 2: '同日生', 3: '帐下', 4: '山冈', 5: '投军', 6: '极广', 7: '殆', 8: '锯', 9: '无恙', 10: '何人', 11: '故此', 12: '为弟', 13: '不避', 14: '少年', 15: '活路', 16: '详细', 17: '硕之叔', 18: '调寄', 19: '厮', 20: '曲阳', 21: '可解', 22: '我来', 23: '尽皆杀', 24: '命何', 25: '知觉', 26: '同', 27: '之众', 28: '耶', 29: '植素', 30: '撞', 31: '张宝引', 32: '皇子', 33: '伙伴', 34: '簇拥', 35: '众官', 36: '渑池', 37: '言语', 38: '八十二斤', 39: '便', 40: '几番', 41: '董卓', 42: '悬首', 43: '滥官污吏', 44: '无君', 45: '此心', 46: '数郡', 47: '崔毅', 48: '涿县', 49: '大浪', 50: '迁于', 51: '败残', 52: '理会', 53: '助战', 54: '玄德打', 55: '良马', 56: '剑', 57: '硕欲', 58: '今上', 59: '部曲', 60: '王伏', 61: '奋力', 62: '适督', 63: '私谓', 64: '备与帝', 65: '之人乎', 66: '此儿', 67: '势如', 68: '袁术领', 69: '人报', 70: '必为', 71: '盱眙', 72: '破', 73: '改', 74: '于', 75: '良久', 76: '乌程侯', 77: '角遣', 78: '旗上', 79: '袁隗', 80: '伏甲', 81: '一', 82: '今朝', 83: '无须', 84: '骑', 85: '念', 86: '宗亲', 87: '乞', 88: '火速', 89: '漫天', 90: '商旅', 91: '当立', 92: '所以', 93: '二客', 94: '赶来', 95: '乃督邮', 96: '甲持戈', 97: '攻击', 98: '禁庭', 99: '围住', 100: '过膝', 101: '计议', 102: '操得', 103: '大排', 104: '光芒', 105: '诛杀', 106: '嵩责操', 107: '何独', 108: '自应', 109: '救世', 110: '死', 111: '二十余', 112: '惊', 113: '近侍', 114: '荀', 115: '去路', 116: '省府', 117: '每人', 118: '鸣', 119: '意', 120: '睁', 121: '投河', 122: '相失', 123: '首张', 124: '必弃', 125: '徒众', 126: '来见', 127: '如鼓', 128: '三公', 129: '皇亲', 130: '卓暗', 131: '断粮', 132: '大胜', 133: '为兄', 134: '享此', 135: '对何', 136: '遭十', 137: '势败', 138: '器用', 139: '悉力', 140: '朝议', 141: '泰山', 142: '降旨', 143: '出身', 144: '大势', 145: '背义忘恩', 146: '提兵望', 147: '淳于琼', 148: '双股', 149: '吴郡富', 150: '珪', 151: '如翼德', 152: '举哀', 153: '扬鞭', 154: '遣', 155: '此时', 156: '造丈', 157: '打折', 158: '直抵', 159: '孙仲引', 160: '者', 161: '时有', 162: '陈', 163: '只待', 164: '围', 165: '毕', 166: '召三', 167: '崇信', 168: '上任', 169: '标', 170: '刺弘', 171: '人公', 172: '无谋何', 173: '左右', 174: '萤火', 175: '不为', 176: '其余', 177: '儿', 178: '如此', 179: '始于', 180: '遂平', 181: '钟鼓', 182: '忽见', 183: '一龙', 184: '五千', 185: '催促', 186: '钱粮', 187: '出榜', 188: '厅', 189: '家产', 190: '宣露', 191: '破贼', 192: '何故', 193: '国家', 194: '到来', 195: '及', 196: '置酒', 197: '不臣之心', 198: '事变', 199: '专好', 200: '当代', 201: '军士', 202: '起奇', 203: '便唤', 204: '点', 205: '着力', 206: '逆贼', 207: '孟德', 208: '打探', 209: '燕颔虎须', 210: '所', 211: '不论', 212: '着', 213: '救军', 214: '但', 215: '张引', 216: '稠人广坐', 217: '笑', 218: '垂', 219: '王非王', 220: '敢', 221: '狗血', 222: '投', 223: '专一', 224: '荐', 225: '谕以', 226: '对敌', 227: '昔窦', 228: '邙山', 229: '早', 230: '恰才', 231: '正是', 232: '公卿皆', 233: '不许', 234: '刀', 235: '行刑', 236: '张', 237: '天', 238: '惊慌', 239: '张角正', 240: '张将军', 241: '解吾恨', 242: '人', 243: '须臾', 244: '中部', 245: '各镇', 246: '表章', 247: '南郊', 248: '齐出', 249: '浩大', 250: '上止', 251: '扶', 252: '可轻动', 253: '行到', 254: '引何', 255: '住', 256: '寇降', 257: '贡遂', 258: '愈乎', 259: '使贼', 260: '高冈', 261: '视', 262: '亭', 263: '天子', 264: '梦', 265: '伏于', 266: '当乘此', 267: '仅得', 268: '望见', 269: '其众', 270: '毁谤', 271: '非常', 272: '摇旗', 273: '过来', 274: '帝及', 275: '善言', 276: '蕃', 277: '虚报', 278: '前进', 279: '潘隐谓', 280: '一齐', 281: '新君', 282: '崩', 283: '机事不密', 284: '冲天', 285: '何反怒', 286: '微功', 287: '蟠于', 288: '何苗', 289: '封谞', 290: '泥', 291: '拥逼何', 292: '植', 293: '掌兵', 294: '正中', 295: '冷艳', 296: '阿父', 297: '沛', 298: '乞降', 299: '刘苌之妻', 300: '遣人起', 301: '邹靖引', 302: '无以', 303: '汝勿多', 304: '举兵', 305: '共预', 306: '二年', 307: '一彪', 308: '家住', 309: '大', 310: '梁上', 311: '辩即', 312: '引出', 313: '据汝害民', 314: '遮天', 315: '北宫', 316: '攻', 317: '杀', 318: '大功', 319: '立', 320: '笑谈', 321: '如何', 322: '进至', 323: '得表', 324: '求', 325: '册', 326: '城下', 327: '小儿', 328: '诈称', 329: '为友', 330: '吕布', 331: '家铨', 332: '大风', 333: '协为帝', 334: '追寻', 335: '而入', 336: '行无', 337: '皇帝', 338: '花开', 339: '火光烛天', 340: '方散', 341: '奔马', 342: '汝南', 343: '硕一人', 344: '相貌堂堂', 345: '大雨', 346: '铁骑', 347: '涿', 348: '遥望', 349: '愈横', 350: '赐', 351: '虎体熊腰', 352: '由十常', 353: '二人', 354: '爱于', 355: '现居', 356: '宛城', 357: '文', 358: '今闻', 359: '初出', 360: '钧', 361: '马上', 362: '知人', 363: '危在旦夕', 364: '飞迎', 365: '海内', 366: '点起', 367: '传至', 368: '设朝', 369: '议', 370: '甚', 371: '到', 372: '卢植去', 373: '即日', 374: '藜', 375: '劫掠', 376: '人于', 377: '自有公论', 378: '阉', 379: '化阵', 380: '作速', 381: '袁术', 382: '回答', 383: '主薄', 384: '甚话', 385: '阿瞒', 386: '故见', 387: '径入', 388: '毅见', 389: '一试', 390: '逝水', 391: '进本', 392: '问', 393: '先锋', 394: '张宝遣', 395: '妖法', 396: '取', 397: '何进弟', 398: '奉承', 399: '非重', 400: '泄', 401: '张梁统', 402: '气', 403: '摩军', 404: '剁', 405: '结党', 406: '哭', 407: '风雷', 408: '我待', 409: '闵贡', 410: '一连', 411: '奏帝', 412: '断汝兄首', 413: '乱世', 414: '夕阳红', 415: '赶至', 416: '掾', 417: '采药', 418: '崔毅引', 419: '废帝', 420: '字', 421: '一洞', 422: '贼', 423: '君', 424: '战栗', 425: '应募', 426: '放参', 427: '七尺', 428: '原系', 429: '威权', 430: '刘', 431: '法', 432: '召赴', 433: '施礼', 434: '藩', 435: '天人共戮', 436: '扬汤止沸', 437: '人乱', 438: '第一回', 439: '素有', 440: '易如反掌', 441: '故冒姓', 442: '印绶', 443: '偃月', 444: '西北', 445: '消息', 446: '劝', 447: '拿', 448: '思虑', 449: '得', 450: '但付', 451: '一枝', 452: '先下手', 453: '天公', 454: '丧身', 455: '兵', 456: '原官', 457: '关名', 458: '当', 459: '重枣', 460: '嵩到', 461: '暗地', 462: '裹', 463: '麾军', 464: '中小', 465: '可', 466: '分兵', 467: '不当', 468: '已决', 469: '此一时', 470: '久恋', 471: '接', 472: '认', 473: '手起', 474: '得权', 475: '何必', 476: '来时', 477: '食十', 478: '震怒', 479: '难消', 480: '一人', 481: '后来', 482: '直奔', 483: '书', 484: '夏恽', 485: '远大', 486: '巡夜', 487: '迁', 488: '普', 489: '主簿', 490: '无数', 491: '来降', 492: '玩', 493: '而', 494: '一处', 495: '部将', 496: '青琐', 497: '抬举', 498: '荆', 499: '蹇', 500: '连夜', 501: '安有', 502: '告急', 503: '此事', 504: '拒贼', 505: '即设', 506: '束草', 507: '起义', 508: '从此', 509: '折', 510: '叱', 511: '听太后', 512: '带剑', 513: '可即', 514: '别处', 515: '赍', 516: '独攻', 517: '斩首', 518: '许韶', 519: '近因', 520: '忠臣', 521: '君臣', 522: '玄德引', 523: '极', 524: '必进', 525: '便行', 526: '投刘恢', 527: '尽平', 528: '督邮', 529: '已死', 530: '此书', 531: '众人', 532: '乃妇', 533: '广宗', 534: '建宁', 535: '母使', 536: '官职', 537: '若萌', 538: '多少', 539: '首歇', 540: '病笃', 541: '进使', 542: '彼一时', 543: '去', 544: '方可', 545: '家家', 546: '以绝后患', 547: '汝来', 548: '家中', 549: '谋害', 550: '刘恢以', 551: '兄弟', 552: '追赶', 553: '弟子', 554: '万民', 555: '甲士', 556: '玄德终', 557: '孩儿', 558: '掌', 559: '喊', 560: '王允', 561: '不可胜计', 562: '滚鞍', 563: '荆棘', 564: '司徒王允', 565: '卷入', 566: '饥馁', 567: '蜂起', 568: '呼', 569: '可惜', 570: '刘陶大呼', 571: '太后', 572: '将', 573: '门役', 574: '豹头环眼', 575: '人民', 576: '夺得', 577: '墙上', 578: '天书', 579: '安敢', 580: '聚会', 581: '见操', 582: '形貌', 583: '早丧', 584: '督邮问', 585: '张济', 586: '盗贼', 587: '于众', 588: '孙', 589: '并', 590: '回京', 591: '举称', 592: '荣贵', 593: '免冠', 594: '害民', 595: '锐气', 596: '结义', 597: '急归', 598: '之祸', 599: '十余', 600: '散', 601: '权且', 602: '幸甚', 603: '宣张', 604: '弟', 605: '好学', 606: '张角本', 607: '匡大呼', 608: '本初', 609: '多', 610: '天数', 611: '西南面', 612: '屡败', 613: '不用', 614: '天常', 615: '射死', 616: '空', 617: '号', 618: '答', 619: '以防不测', 620: '因为', 621: '祸患', 622: '斩张', 623: '是夜', 624: '帝亦大惊', 625: '督邮作威', 626: '拨马', 627: '劫取', 628: '共乘', 629: '军粮', 630: '一端', 631: '使', 632: '事', 633: '授', 634: '前过', 635: '宫庭', 636: '卓喜', 637: '乃', 638: '去观', 639: '遣使', 640: '进不听', 641: '率军', 642: '绍复令', 643: '乡勇', 644: '迎立', 645: '其人', 646: '愿', 647: '时贼', 648: '洪炉燎毛', 649: '世居', 650: '小辈', 651: '白土', 652: '旗号', 653: '反遭', 654: '住手', 655: '进出', 656: '级', 657: '古犹今', 658: '大祸', 659: '踌躇', 660: '天明', 661: '大杀', 662: '之火', 663: '当日', 664: '幽', 665: '推出', 666: '中官', 667: '相者', 668: '涿郡', 669: '第二回', 670: '定', 671: '始初', 672: '谏议', 673: '侮慢', 674: '时分', 675: '暗', 676: '册立', 677: '斩草除根', 678: '当除', 679: '进作', 680: '未见', 681: '黄巾', 682: '一入', 683: '往视', 684: '谋', 685: '二月', 686: '托病', 687: '游学', 688: '卓教', 689: '言', 690: '招军', 691: '闷酒', 692: '谁', 693: '寻觅', 694: '济南', 695: '半酣', 696: '非亲', 697: '统', 698: '一千', 699: '二尺', 700: '门', 701: '崔毅庄', 702: '之士', 703: '区星', 704: '无', 705: '被', 706: '此天', 707: '黄门', 708: '内', 709: '斩', 710: '童颜', 711: '剑锋', 712: '私宅', 713: '筵会', 714: '财物', 715: '因入', 716: '刘公', 717: '除别', 718: '反者', 719: '马匹', 720: '后张', 721: '王刘胜', 722: '展', 723: '两段', 724: '天下人', 725: '尘土', 726: '寝则', 727: '寡', 728: '师事', 729: '废', 730: '今姑', 731: '甚浊', 732: '走北', 733: '上报', 734: '往来', 735: '挥为', 736: '刘虞为', 737: '张飞', 738: '四月', 739: '商人', 740: '梁', 741: '后患', 742: '葬于', 743: '一言', 744: '因', 745: '椅上', 746: '张宝带', 747: '界分', 748: '报捷', 749: '侍敢', 750: '相挤', 751: '张飞引', 752: '一将', 753: '与汝兄', 754: '尽', 755: '屠猪', 756: '赶上', 757: '陆续', 758: '后面', 759: '归乡', 760: '且容', 761: '未', 762: '迎战', 763: '千百成', 764: '多疑', 765: '岂', 766: '封太尉', 767: '众到', 768: '犒军', 769: '留', 770: '止', 771: '个', 772: '庄上来', 773: '第', 774: '种种', 775: '各以', 776: '听调', 777: '现于', 778: '白身', 779: '何苗同', 780: '入庄', 781: '操见', 782: '流萤', 783: '所谓', 784: '结交', 785: '泗', 786: '奇', 787: '死命', 788: '喜怒不形', 789: '操字', 790: '右有翼德', 791: '地公', 792: '飞砂走石', 793: '不相容', 794: '不及', 795: '威力', 796: '纷纷', 797: '依', 798: '落到', 799: '忽遇', 800: '乃于', 801: '其', 802: '再拜', 803: '切直', 804: '父刘弘', 805: '决断', 806: '袁术引', 807: '数巡', 808: '玉玺', 809: '假之权', 810: '五更', 811: '聚集', 812: '求免', 813: '索取', 814: '砂石', 815: '次之', 816: '顺天', 817: '于督', 818: '愈坏', 819: '闻得', 820: '海贼', 821: '奔溃', 822: '守', 823: '长乐宫', 824: '必然', 825: '北门', 826: '军心', 827: '重加', 828: '另换', 829: '乱', 830: '即位', 831: '张宝', 832: '张让', 833: '牵出', 834: '传国', 835: '一匹', 836: '皆宜', 837: '立渠帅', 838: '异常', 839: '槛车', 840: '提', 841: '讨贼', 842: '免致', 843: '俱', 844: '驱兵', 845: '公何', 846: '赶', 847: '功', 848: '回报', 849: '甚轻', 850: '万人', 851: '诸', 852: '帝召', 853: '四海', 854: '民兵', 855: '饮', 856: '必生', 857: '命', 858: '道人', 859: '玄德甚', 860: '鼓掌', 861: '花阴下', 862: '新', 863: '复', 864: '镔铁', 865: '处', 866: '帝立', 867: '说出', 868: '军马', 869: '归宫', 870: '车驾', 871: '谏', 872: '空中', 873: '门内', 874: '懦夫', 875: '侍', 876: '朝廷', 877: '十', 878: '除下密', 879: '城上', 880: '舞动', 881: '败阵', 882: '一旦', 883: '国门', 884: '当速发', 885: '汝家', 886: '懿旨', 887: '误', 888: '正在', 889: '陈耽', 890: '反受', 891: '贡说', 892: '必出', 893: '以资', 894: '绍', 895: '郡', 896: '告变', 897: '竟陵', 898: '孤穷', 899: '尽归', 900: '追索', 901: '久', 902: '县', 903: '河东', 904: '符水', 905: '樊稠', 906: '关', 907: '；', 908: '残害', 909: '发箭', 910: '各处', 911: '中常', 912: '仍', 913: '四百余年', 914: '罪', 915: '余众', 916: '牛辅', 917: '颇', 918: '门前', 919: '之子', 920: '颍川', 921: '昂然直入', 922: '尉', 923: '一阵', 924: '四下', 925: '此等', 926: '洛阳', 927: '左臂', 928: '协为', 929: '已露', 930: '一醉', 931: '赴任', 932: '气象', 933: '亲赴', 934: '自陈', 935: '以己', 936: '如唤', 937: '日', 938: '寒微', 939: '回', 940: '清平', 941: '建', 942: '起身', 943: '公共', 944: '侯览', 945: '赦免', 946: '入见', 947: '羽', 948: '朝政', 949: '得胜', 950: '帝', 951: '乃灵帝', 952: '外兵', 953: '惟微', 954: '谢罪', 955: '榜文', 956: '谓', 957: '本当', 958: '书荐', 959: '何进之', 960: '掷', 961: '刘焉然', 962: '无限', 963: '角有', 964: '数万', 965: '二面', 966: '红旗', 967: '忽闻', 968: '各选', 969: '一路', 970: '兵散', 971: '重用', 972: '恢见', 973: '督邮大', 974: '张来', 975: '生得', 976: '十余丈', 977: '饮宴', 978: '背后', 979: '回乡', 980: '父母', 981: '余', 982: '入告', 983: '其事', 984: '他', 985: '焉能', 986: '小', 987: '车骑', 988: '操忽心生', 989: '赞之时', 990: '无定', 991: '宴', 992: '庄上', 993: '贼战', 994: '失', 995: '不可', 996: '鳌', 997: '围城', 998: '良匠', 999: '归到', 1000: '青州', 1001: '檄', 1002: '兵乎', 1003: '宰牛', 1004: '时', 1005: '高堂', 1006: '乌牛', 1007: '为', 1008: '自己', 1009: '解渎', 1010: '赴', 1011: '有何', 1012: '顾其耳', 1013: '升座', 1014: '余人', 1015: '护', 1016: '尚', 1017: '先帝', 1018: '必食', 1019: '今反', 1020: '休走', 1021: '号令', 1022: '约期', 1023: '县尉', 1024: '首', 1025: '上岸', 1026: '矫诏召', 1027: '靖王', 1028: '酒食', 1029: '交锋', 1030: '馆驿', 1031: '于汉', 1032: '校尉', 1033: '来代', 1034: '之权', 1035: '命官', 1036: '望风而靡', 1037: '突出', 1038: '阶而谏', 1039: '矛兮', 1040: '于外', 1041: '不利', 1042: '飞入', 1043: '宦', 1044: '于色', 1045: '反为', 1046: '张宝势', 1047: '欣然', 1048: '非其', 1049: '大笑', 1050: '如其', 1051: '汝本', 1052: '行', 1053: '实鉴', 1054: '回身', 1055: '弃官', 1056: '取胜', 1057: '戮', 1058: '丘令', 1059: '城去', 1060: '往', 1061: '玄德领', 1062: '捧杯', 1063: '须别', 1064: '安置', 1065: '入', 1066: '心窝', 1067: '大举', 1068: '太傅陈', 1069: '里', 1070: '正月', 1071: '及桓帝', 1072: '金帛', 1073: '推', 1074: '据', 1075: '今围', 1076: '定州', 1077: '东北角', 1078: '在家', 1079: '卓大喜', 1080: '左', 1081: '汉室', 1082: '同年同月', 1083: '那得', 1084: '传旨', 1085: '没', 1086: '尚缺', 1087: '良策', 1088: '异心', 1089: '惶惶不安', 1090: '心思', 1091: '旗', 1092: '跟', 1093: '高坡', 1094: '时人', 1095: '就棒责', 1096: '江渚上', 1097: '座', 1098: '妖', 1099: '二日', 1100: '十常侍', 1101: '重大', 1102: '宦官', 1103: '分久必合', 1104: '难得', 1105: '今已', 1106: '起火', 1107: '绑缚', 1108: '行权', 1109: '专务', 1110: '三里', 1111: '大战', 1112: '柩', 1113: '痛哭', 1114: '跪伏', 1115: '天佑', 1116: '汝可引', 1117: '滚滚', 1118: '之上', 1119: '进视', 1120: '发', 1121: '灭臣', 1122: '止乐', 1123: '张食', 1124: '耳垂', 1125: '临洮', 1126: '乘马', 1127: '屦', 1128: '召外', 1129: '捕捉', 1130: '作乱', 1131: '叱丁原', 1132: '幽州', 1133: '喊声', 1134: '耳', 1135: '寇起', 1136: '一计', 1137: '乡中', 1138: '尉袁绍', 1139: '我', 1140: '火焰', 1141: '又表', 1142: '劝善', 1143: '楼桑村', 1144: '方止', 1145: '稍', 1146: '自', 1147: '俱怒', 1148: '数里', 1149: '硕奏', 1150: '泛溢', 1151: '当前', 1152: '江夏', 1153: '须', 1154: '刘虞平寇', 1155: '家属', 1156: '丈八蛇矛', 1157: '专权', 1158: '杀死', 1159: '救援', 1160: '帝怒', 1161: '望', 1162: '备愿', 1163: '玄德疑', 1164: '高坐', 1165: '民贼', 1166: '出入', 1167: '命嵩代', 1168: '可乘', 1169: '悬头', 1170: '郁郁不乐', 1171: '督邮逼勒', 1172: '协养', 1173: '郭汜', 1174: '一个', 1175: '我围', 1176: '晓夜', 1177: '青山', 1178: '嘉德', 1179: '送往', 1180: '当共杀', 1181: '张纯', 1182: '棒', 1183: '等功', 1184: '诚为', 1185: '自此', 1186: '不能', 1187: '三', 1188: '堕', 1189: '郑泰', 1190: '足矣', 1191: '惊觉', 1192: '讨之', 1193: '又', 1194: '盖地', 1195: '第三回', 1196: '文陵', 1197: '可破', 1198: '东西', 1199: '云长', 1200: '窦武', 1201: '反', 1202: '二千', 1203: '直到', 1204: '两宫', 1205: '便于', 1206: '中风', 1207: '皇弟', 1208: '丹凤眼', 1209: '冀州', 1210: '人迎', 1211: '公同举', 1212: '勇士', 1213: '别部', 1214: '之主', 1215: '足痛', 1216: '甚厚', 1217: '名备', 1218: '心狠', 1219: '张飞性', 1220: '一二', 1221: '先为', 1222: '龙骧虎步', 1223: '此家', 1224: '角战于', 1225: '桓帝', 1226: '前', 1227: '卖酒', 1228: '重权', 1229: '殿角', 1230: '牧', 1231: '严政', 1232: '大惊', 1233: '贩', 1234: '差人', 1235: '自初', 1236: '检点', 1237: '头', 1238: '共聚', 1239: '半路', 1240: '纳闷', 1241: '帝在', 1242: '斩十常侍', 1243: '赶至翠花', 1244: '遂', 1245: '造', 1246: '况封谞', 1247: '刀斧手', 1248: '护送', 1249: '宗庙', 1250: '必', 1251: '一军', 1252: '灭族', 1253: '弘曾举', 1254: '高升', 1255: '光', 1256: '勒令', 1257: '来意', 1258: '富贵', 1259: '坏', 1260: '同年', 1261: '贡曰', 1262: '开', 1263: '邮两腿', 1264: '奉', 1265: '坚为', 1266: '以衣', 1267: '乃分', 1268: '昔', 1269: '称', 1270: '四年', 1271: '必是', 1272: '干臣', 1273: '赦宥', 1274: '驰', 1275: '回奏', 1276: '下文', 1277: '间', 1278: '退入', 1279: '于树下', 1280: '阻住', 1281: '忽有', 1282: '军资', 1283: '厉声', 1284: '汝言', 1285: '黄旗', 1286: '暂退', 1287: '之声', 1288: '鞭打', 1289: '刘胜之子', 1290: '忽起', 1291: '尚自', 1292: '官拜', 1293: '羊', 1294: '草畔', 1295: '至终', 1296: '左右两', 1297: '刺史', 1298: '坚从', 1299: '苍天', 1300: '寨', 1301: '城中', 1302: '段', 1303: '急救', 1304: '狱吏', 1305: '六月', 1306: '合久必分', 1307: '于是', 1308: '分', 1309: '聚众', 1310: '自欺', 1311: '拥陶出', 1312: '依旧', 1313: '国舅', 1314: '遗', 1315: '搦', 1316: '给', 1317: '玄德忙', 1318: '不明', 1319: '未了', 1320: '急止', 1321: '数杯', 1322: '转过', 1323: '嫉妒', 1324: '讨', 1325: '贿赂', 1326: '侍奉', 1327: '其功', 1328: '大位', 1329: '岁', 1330: '百姓', 1331: '可怜', 1332: '金银', 1333: '皇天后土', 1334: '七阵', 1335: '平', 1336: '从后', 1337: '曹', 1338: '皆', 1339: '豺狼', 1340: '看其人', 1341: '当沙汰', 1342: '进由', 1343: '其殃', 1344: '骑坐', 1345: '八尺', 1346: '且说', 1347: '至', 1348: '幸免', 1349: '渎', 1350: '玄德正', 1351: '二十', 1352: '无端', 1353: '马桩', 1354: '就', 1355: '同床', 1356: '么', 1357: '言公鸩杀', 1358: '以安', 1359: '五丈', 1360: '闻知', 1361: '降者', 1362: '人马', 1363: '若巨雷', 1364: '皇甫嵩', 1365: '感化', 1366: '何职', 1367: '因宣', 1368: '自称', 1369: '贼势', 1370: '特宣', 1371: '庄院', 1372: '接应', 1373: '河间', 1374: '五十', 1375: '见路', 1376: '方欲', 1377: '阁下', 1378: '坐于', 1379: '走', 1380: '机变', 1381: '中兴', 1382: '既握', 1383: '五百两', 1384: '陷害', 1385: '相问', 1386: '逐出', 1387: '与民', 1388: '军便', 1389: '诗', 1390: '玄德谓', 1391: '全身', 1392: '织', 1393: '不惜', 1394: '终', 1395: '领', 1396: '妹', 1397: '数日', 1398: '宣化', 1399: '尊', 1400: '行事', 1401: '各', 1402: '陈留王', 1403: '头发', 1404: '坐下', 1405: '东南', 1406: '退', 1407: '指挥', 1408: '一马', 1409: '三人救', 1410: '其官', 1411: '擒', 1412: '胜于', 1413: '立为', 1414: '欲', 1415: '谋士', 1416: '刘元', 1417: '请', 1418: '领军', 1419: '按兵不动', 1420: '一干人', 1421: '快', 1422: '角', 1423: '侯之子', 1424: '听信', 1425: '将士', 1426: '所致', 1427: '造反', 1428: '长吏', 1429: '田里', 1430: '进大惊', 1431: '志告', 1432: '大雷', 1433: '金鼓', 1434: '斩贼', 1435: '骑弘马', 1436: '身无', 1437: '终日', 1438: '下来', 1439: '汉朝', 1440: '张侍立', 1441: '卓', 1442: '先使', 1443: '重整', 1444: '之状', 1445: '公孙瓒', 1446: '下', 1447: '与', 1448: '引军来', 1449: '何往', 1450: '内外', 1451: '以头', 1452: '今日', 1453: '倒持干戈', 1454: '虽痛', 1455: '故隐于', 1456: '不密', 1457: '五六十个', 1458: '众视', 1459: '藏匿', 1460: '吏', 1461: '参预', 1462: '青蛇', 1463: '后堂', 1464: '都', 1465: '倡乱', 1466: '自往', 1467: '许多', 1468: '吃', 1469: '送', 1470: '急', 1471: '涓', 1472: '多议', 1473: '靖', 1474: '辅佐', 1475: '窃视', 1476: '今职', 1477: '拦住', 1478: '掌耳', 1479: '必有', 1480: '奇兵', 1481: '勒兵', 1482: '谶', 1483: '班师', 1484: '处势', 1485: '互相', 1486: '老人', 1487: '前面', 1488: '其夜', 1489: '刺升', 1490: '李', 1491: '各置', 1492: '恐失城', 1493: '千余', 1494: '南阳', 1495: '白后', 1496: '青龙', 1497: '前去', 1498: '军齐出', 1499: '刀起', 1500: '姓名', 1501: '现为', 1502: '贡与', 1503: '突槊', 1504: '兖', 1505: '争竞', 1506: '未及', 1507: '痛打', 1508: '鸾凤', 1509: '图贼', 1510: '先朝', 1511: '落马', 1512: '发张角', 1513: '钢牙', 1514: '大书', 1515: '侯', 1516: '高声', 1517: '游荡', 1518: '帝已', 1519: '攀下', 1520: '何在', 1521: '潘隐至', 1522: '左军', 1523: '小字', 1524: '庄后', 1525: '黑暗', 1526: '妖术', 1527: '假帝', 1528: '治世', 1529: '止赛', 1530: '在', 1531: '赏劳', 1532: '无礼', 1533: '召集', 1534: '关羽', 1535: '进慌急', 1536: '还京', 1537: '地', 1538: '犯者', 1539: '灾异', 1540: '出马', 1541: '挺身', 1542: '去督', 1543: '汉景帝', 1544: '刘贞', 1545: '关公', 1546: '马引军', 1547: '赶打', 1548: '结构', 1549: '房屋', 1550: '飞马', 1551: '别二客', 1552: '十五万', 1553: '贼巢', 1554: '辄', 1555: '可承', 1556: '馈金珠', 1557: '邮之罪', 1558: '公必', 1559: '吾', 1560: '督邮先', 1561: '入店', 1562: '仁慈', 1563: '重', 1564: '其略', 1565: '袁逢', 1566: '无功', 1567: '怒', 1568: '散施', 1569: '手执', 1570: '读书', 1571: '家人', 1572: '侍御史', 1573: '玄德兵', 1574: '跳出', 1575: '国', 1576: '正要', 1577: '还', 1578: '复杀', 1579: '俱降', 1580: '腹中', 1581: '员', 1582: '铁甲', 1583: '中其', 1584: '豪', 1585: '宣进', 1586: '宣谕', 1587: '咬碎', 1588: '苏双', 1589: '聚乡', 1590: '侍卖官', 1591: '自刎', 1592: '干政之', 1593: '自缢', 1594: '商议', 1595: '帝然', 1596: '索金帛', 1597: '明公宜', 1598: '帝览奏', 1599: '尽打', 1600: '河边', 1601: '献捷', 1602: '唯唯', 1603: '因妹入', 1604: '燕雀', 1605: '便命', 1606: '平原', 1607: '死战', 1608: '青', 1609: '凶暴', 1610: '所宜', 1611: '布告', 1612: '内庭', 1613: '听令', 1614: '其法', 1615: '秦项', 1616: '重任', 1617: '二十万', 1618: '二字于', 1619: '提剑出', 1620: '目今', 1621: '召诸', 1622: '时卢植', 1623: '深居', 1624: '缘故', 1625: '结连', 1626: '狂风', 1627: '正坐', 1628: '汝得', 1629: '归', 1630: '可图', 1631: '迎', 1632: '太子', 1633: '分争', 1634: '伏于山', 1635: '长沙', 1636: '军自回', 1637: '如之奈何', 1638: '统兵', 1639: '先召十常', 1640: '砍', 1641: '非', 1642: '那何', 1643: '各引', 1644: '设酒', 1645: '彼用', 1646: '武欲', 1647: '虽然', 1648: '次后', 1649: '除', 1650: '今见', 1651: '复卢植', 1652: '当今', 1653: '屯于', 1654: '众', 1655: '知外', 1656: '作', 1657: '神功', 1658: '五色', 1659: '纳顺', 1660: '已顺', 1661: '妄以', 1662: '游猎', 1663: '可诣', 1664: '扯', 1665: '能', 1666: '乱草', 1667: '玉堂', 1668: '园门', 1669: '子', 1670: '余党', 1671: '投降', 1672: '雪片', 1673: '公', 1674: '朕', 1675: '结托', 1676: '若何', 1677: '一把', 1678: '仗', 1679: '张伏', 1680: '孙坚', 1681: '董后', 1682: '龚景牒', 1683: '迎接', 1684: '未知', 1685: '相结', 1686: '同桌', 1687: '更衣', 1688: '流行', 1689: '大统', 1690: '奔', 1691: '偏爱', 1692: '吴匡', 1693: '等', 1694: '督邮告', 1695: '诸官', 1696: '随后', 1697: '复回', 1698: '不如', 1699: '叩其', 1700: '因桓帝', 1701: '京城', 1702: '董', 1703: '人情', 1704: '箭', 1705: '彪', 1706: '尚书', 1707: '闻言', 1708: '其清者', 1709: '夺路', 1710: '因得', 1711: '唐周', 1712: '事急', 1713: '常有', 1714: '玄德回', 1715: '报仇', 1716: '骤马出', 1717: '横行', 1718: '叹', 1719: '将头', 1720: '引军', 1721: '方过', 1722: '皇后', 1723: '下手', 1724: '曹嵩', 1725: '若欲立协', 1726: '这', 1727: '计', 1728: '铁桶', 1729: '纵火', 1730: '二弟', 1731: '马舞刀', 1732: '秋', 1733: '唤角', 1734: '痛饮', 1735: '即', 1736: '我本', 1737: '飞', 1738: '天下', 1739: '大臣', 1740: '三人飞', 1741: '冒渎', 1742: '玄德前', 1743: '汝何', 1744: '秽物', 1745: '面善', 1746: '其祸', 1747: '主', 1748: '来犯', 1749: '屯兵', 1750: '秀才', 1751: '听', 1752: '黑', 1753: '宰猪', 1754: '事必', 1755: '旗幡', 1756: '娘娘', 1757: '勒马', 1758: '放荡', 1759: '拜为', 1760: '付', 1761: '五六年', 1762: '参录', 1763: '不见', 1764: '淘尽', 1765: '孝廉', 1766: '智士', 1767: '扬声大', 1768: '认得', 1769: '突入', 1770: '大军', 1771: '杀伐', 1772: '叹息', 1773: '无心恋战', 1774: '邮行部', 1775: '张率', 1776: '早晚', 1777: '放入', 1778: '公卿', 1779: '枳', 1780: '朝贵', 1781: '正', 1782: '虞', 1783: '进笑', 1784: '大骂', 1785: '棘', 1786: '赴席', 1787: '二帝', 1788: '尸', 1789: '密诏', 1790: '稽', 1791: '会合', 1792: '舞阳', 1793: '招降', 1794: '以', 1795: '日多', 1796: '劭', 1797: '保驾', 1798: '随撤', 1799: '马项', 1800: '杀贼', 1801: '功绩', 1802: '不止', 1803: '私造', 1804: '贡见帝', 1805: '急弃', 1806: '视其人', 1807: '行至', 1808: '督邮归告', 1809: '不宜', 1810: '埋伏', 1811: '英雄', 1812: '不甘', 1813: '贤良', 1814: '正人', 1815: '三分', 1816: '献帝', 1817: '坚与', 1818: '即胜', 1819: '失语', 1820: '岸边', 1821: '江湖', 1822: '高下在心', 1823: '行路', 1824: '大兴', 1825: '影里', 1826: '兄', 1827: '王卧于', 1828: '铠甲', 1829: '一壶', 1830: '四方', 1831: '上车', 1832: '敬之如', 1833: '自省', 1834: '剿戮', 1835: '顿息', 1836: '劫', 1837: '是', 1838: '然', 1839: '帝怒谓', 1840: '山', 1841: '植谓', 1842: '韩忠', 1843: '阳城', 1844: '郭胜十人', 1845: '叔父', 1846: '连忙', 1847: '好', 1848: '本部', 1849: '棺', 1850: '本', 1851: '但言', 1852: '程远志', 1853: '故', 1854: '众贼', 1855: '亲随', 1856: '元年', 1857: '天地', 1858: '绝', 1859: '诛', 1860: '嵩', 1861: '忽然', 1862: '走入', 1863: '城', 1864: '窗中', 1865: '屠家', 1866: '以前', 1867: '大乱', 1868: '亲自', 1869: '龚景', 1870: '其原', 1871: '有桥', 1872: '夏', 1873: '当时', 1874: '双手', 1875: '但世主', 1876: '草马', 1877: '封列侯', 1878: '不足', 1879: '其母', 1880: '收', 1881: '必败', 1882: '崩裂', 1883: '得利', 1884: '张翼德', 1885: '人出', 1886: '齑粉', 1887: '何不', 1888: '徒弟', 1889: '五百', 1890: '寇发', 1891: '盐', 1892: '张世平', 1893: '八九万', 1894: '一股', 1895: '一行', 1896: '渔樵', 1897: '高祖', 1898: '雷霆', 1899: '关入', 1900: '众大溃', 1901: '郡皆平', 1902: '事露', 1903: '夜行', 1904: '统领', 1905: '带', 1906: '遥见', 1907: '同生死', 1908: '满地', 1909: '半夜', 1910: '乃降', 1911: '鲍信', 1912: '告', 1913: '韩忠耶', 1914: '放归', 1915: '马元义', 1916: '之意', 1917: '高垒', 1918: '诗赞', 1919: '群臣', 1920: '一辆', 1921: '官军', 1922: '欺君罔上', 1923: '讨张', 1924: '冀', 1925: '尝作吏', 1926: '公看', 1927: '黎庶', 1928: '杀败', 1929: '世上', 1930: '提刀', 1931: '参见', 1932: '孙仲', 1933: '儁', 1934: '白马', 1935: '捷', 1936: '注微名', 1937: '因本', 1938: '嵩信', 1939: '阉官', 1940: '相见', 1941: '惊告嵩', 1942: '安能', 1943: '好言相劝', 1944: '千乘万骑', 1945: '署县', 1946: '乱言', 1947: '告何', 1948: '作起', 1949: '未能', 1950: '瘦马', 1951: '一面', 1952: '千口', 1953: '马', 1954: '刘名备', 1955: '后事', 1956: '灵帝', 1957: '称为', 1958: '宅', 1959: '侄', 1960: '由', 1961: '帝下', 1962: '径取', 1963: '苗入', 1964: '四散', 1965: '同月同日', 1966: '车子', 1967: '以后', 1968: '上表', 1969: '其言', 1970: '密报', 1971: '张宝称', 1972: '此贼', 1973: '豪贵', 1974: '何太后', 1975: '生操', 1976: '一日', 1977: '常侍', 1978: '谋杀', 1979: '请细详', 1980: '道', 1981: '济', 1982: '夏侯氏', 1983: '帝惊', 1984: '玄德军', 1985: '名坚', 1986: '击', 1987: '其降', 1988: '设谋', 1989: '言于', 1990: '候日久', 1991: '心变', 1992: '忧', 1993: '活矣', 1994: '宠', 1995: '这里', 1996: '结营', 1997: '席为业', 1998: '合兵', 1999: '之幸', 2000: '大事', 2001: '可召', 2002: '曹操', 2003: '正东', 2004: '西凉', 2005: '嫉贤', 2006: '愿借', 2007: '但见', 2008: '合', 2009: '官兵', 2010: '位', 2011: '纯称', 2012: '无子', 2013: '可入', 2014: '早降', 2015: '群', 2016: '的', 2017: '欲谋', 2018: '反外', 2019: '杀入', 2020: '硕', 2021: '人氏', 2022: '十七岁', 2023: '令人', 2024: '之得', 2025: '上', 2026: '寺', 2027: '正饮间', 2028: '至北', 2029: '卢植', 2030: '然后', 2031: '董重', 2032: '欺主', 2033: '齐', 2034: '车中', 2035: '蛇', 2036: '不允', 2037: '无度', 2038: '下安', 2039: '桃园', 2040: '十常', 2041: '叔言', 2042: '阙', 2043: '人状', 2044: '引军弃', 2045: '坐', 2046: '尝', 2047: '毕竟', 2048: '张纵', 2049: '备乃', 2050: '缴', 2051: '宫为', 2052: '首级', 2053: '问破', 2054: '丞', 2055: '所害', 2056: '可族灭', 2057: '鸣金', 2058: '村店', 2059: '边见', 2060: '草莽', 2061: '涂脂', 2062: '妃', 2063: '乡', 2064: '驾', 2065: '有志', 2066: '京', 2067: '本姓', 2068: '罢职', 2069: '鼓噪', 2070: '偶至', 2071: '只', 2072: '立新君', 2073: '白发', 2074: '谋反', 2075: '矣', 2076: '园中', 2077: '此', 2078: '亦', 2079: '王美人', 2080: '圆环', 2081: '州郡', 2082: '尽率', 2083: '奏', 2084: '楼前', 2085: '如', 2086: '角乃立', 2087: '见解', 2088: '果应', 2089: '顿', 2090: '因失', 2091: '玄者', 2092: '听罢', 2093: '董太后', 2094: '一条', 2095: '可以', 2096: '傕', 2097: '有虹', 2098: '天人顺', 2099: '其婿', 2100: '肩', 2101: '酒行', 2102: '扫清', 2103: '氏于', 2104: '南门', 2105: '威风凛凛', 2106: '飞大', 2107: '挂', 2108: '嵩急视', 2109: '大夫', 2110: '领兵', 2111: '投顺', 2112: '夹攻', 2113: '疫气', 2114: '下寨', 2115: '听得', 2116: '礼', 2117: '操过', 2118: '惟', 2119: '其党', 2120: '帝令', 2121: '立于', 2122: '相拒', 2123: '内应', 2124: '赏赐', 2125: '父', 2126: '以言', 2127: '来谏帝', 2128: '申言', 2129: '回寨', 2130: '右', 2131: '张梁', 2132: '梁于', 2133: '三国', 2134: '攸', 2135: '出迎', 2136: '东门', 2137: '朋比为奸', 2138: '一群', 2139: '此必破', 2140: '旧臣', 2141: '往助', 2142: '杀到', 2143: '书报', 2144: '随', 2145: '扶帝', 2146: '承平', 2147: '宣', 2148: '浪花', 2149: '桑树', 2150: '七', 2151: '寸功', 2152: '怀废立', 2153: '齐泼', 2154: '今汉运', 2155: '恸', 2156: '升', 2157: '若到', 2158: '出战', 2159: '剿捕', 2160: '部下', 2161: '马步军', 2162: '分解', 2163: '打', 2164: '海水', 2165: '召何', 2166: '号炮', 2167: '清风', 2168: '面如', 2169: '郎中', 2170: '令', 2171: '王', 2172: '马挺矛', 2173: '善类', 2174: '逆', 2175: '拜于', 2176: '誓毕', 2177: '万余', 2178: '漫山塞野', 2179: '非仇', 2180: '俱奔避', 2181: '举', 2182: '责之', 2183: '出示', 2184: '知', 2185: '伏山', 2186: '惧', 2187: '我兵', 2188: '擐', 2189: '卧于', 2190: '大商', 2191: '硕设', 2192: '长', 2193: '禁省', 2194: '辩', 2195: '傍边', 2196: '张举', 2197: '北行', 2198: '来到', 2199: '垂帘听政', 2200: '性命', 2201: '大将军', 2202: '元老', 2203: '呼风唤雨', 2204: '不奏', 2205: '不答', 2206: '陈琳', 2207: '正君', 2208: '皇威', 2209: '抵敌', 2210: '接着', 2211: '召', 2212: '无奈何', 2213: '径到', 2214: '大呼', 2215: '见识', 2216: '弘', 2217: '迎问', 2218: '喜相逢', 2219: '温明', 2220: '两', 2221: '被督邮', 2222: '出户', 2223: '免', 2224: '大圣', 2225: '表奏', 2226: '非张', 2227: '弄权', 2228: '玄德请', 2229: '秋毫无犯', 2230: '操带', 2231: '不到', 2232: '精锐', 2233: '军兵', 2234: '之兵', 2235: '云', 2236: '秋月春风', 2237: '宽', 2238: '立太子', 2239: '救灭', 2240: '留在', 2241: '妇人', 2242: '山岸', 2243: '使廷臣', 2244: '卓婿', 2245: '曹节', 2246: '过', 2247: '渐渐', 2248: '为首', 2249: '庄田', 2250: '掩杀', 2251: '恣意', 2252: '卓待', 2253: '一千斤', 2254: '嗟怨', 2255: '不知', 2256: '有', 2257: '用', 2258: '大小', 2259: '邳', 2260: '槊', 2261: '老仙', 2262: '怕人', 2263: '朱', 2264: '至此', 2265: '作法', 2266: '遂解', 2267: '玄德谢', 2268: '安知', 2269: '不敢', 2270: '角军', 2271: '使命', 2272: '获胜', 2273: '怜悯', 2274: '闪出', 2275: '玄德惊', 2276: '杀十常侍', 2277: '不思', 2278: '伏诛', 2279: '因起', 2280: '大方', 2281: '常资', 2282: '渔阳', 2283: '立见', 2284: '倚势凌人', 2285: '刘焉令', 2286: '冰雹', 2287: '髯', 2288: '设一宴', 2289: '倾危', 2290: '诈倒', 2291: '申文', 2292: '宫门', 2293: '家贫', 2294: '逮', 2295: '钱塘', 2296: '屠沽', 2297: '榜', 2298: '诏', 2299: '臣', 2300: '举柩', 2301: '赶入', 2302: '飞转', 2303: '班师回', 2304: '海', 2305: '迎出', 2306: '元恶', 2307: '五百余', 2308: '呼拜', 2309: '阔面', 2310: '帝尊', 2311: '养子', 2312: '也', 2313: '军', 2314: '克日', 2315: '硕所领', 2316: '必获', 2317: '恶报', 2318: '张天', 2319: '此人', 2320: '十数枝', 2321: '帝非帝', 2322: '事母至孝', 2323: '入帐', 2324: '烧劫', 2325: '之师', 2326: '念咒', 2327: '救', 2328: '我军', 2329: '之见', 2330: '之名', 2331: '帐前', 2332: '纵马', 2333: '英俊', 2334: '蜺', 2335: '速战', 2336: '邙', 2337: '从', 2338: '说', 2339: '疏', 2340: '窃闻', 2341: '矫诏', 2342: '因见', 2343: '如反', 2344: '侍出', 2345: '上泼', 2346: '我气', 2347: '左丰', 2348: '是非成败', 2349: '旌旗蔽日', 2350: '莫敢', 2351: '声', 2352: '三百余', 2353: '东', 2354: '功必', 2355: '我等荐', 2356: '那', 2357: '薪', 2358: '沿海居民', 2359: '养母', 2360: '秘不', 2361: '静听', 2362: '奸雄', 2363: '将陷', 2364: '春人', 2365: '打死', 2366: '之势', 2367: '爬', 2368: '红日', 2369: '披挂', 2370: '便发', 2371: '此名', 2372: '慌入', 2373: '三路', 2374: '文台', 2375: '天使', 2376: '内乱', 2377: '董重府', 2378: '地震', 2379: '巨鹿郡', 2380: '府', 2381: '淮', 2382: '往渔阳征', 2383: '呼为', 2384: '惯', 2385: '酒保', 2386: '更助', 2387: '遇一', 2388: '民', 2389: '长生', 2390: '管待', 2391: '以助', 2392: '报效', 2393: '郑玄', 2394: '之际', 2395: '九重', 2396: '钢矛', 2397: '竖', 2398: '倒', 2399: '次收', 2400: '国谯郡', 2401: '中间', 2402: '一月', 2403: '先伏', 2404: '中似', 2405: '鞭', 2406: '为郎', 2407: '限日', 2408: '云游四方', 2409: '直冲', 2410: '字仲颖', 2411: '暗味', 2412: '引', 2413: '出路', 2414: '调兵', 2415: '卢植之意', 2416: '自投', 2417: '不题', 2418: '祸', 2419: '庄', 2420: '欲绝', 2421: '下狱', 2422: '近幸', 2423: '前犯', 2424: '广额', 2425: '了', 2426: '斟酒', 2427: '飞出', 2428: '别图', 2429: '玄德公', 2430: '露颖', 2431: '此长寇', 2432: '陕西', 2433: '中山', 2434: '大喜', 2435: '许昌', 2436: '计大妙', 2437: '无罪', 2438: '唇', 2439: '将次', 2440: '之畔', 2441: '到任', 2442: '自天', 2443: '信自引', 2444: '大丈夫', 2445: '必投', 2446: '一心', 2447: '上街', 2448: '大吉', 2449: '武士', 2450: '进讨', 2451: '山岭', 2452: '都尉', 2453: '山头', 2454: '先是', 2455: '当头', 2456: '汉鲁恭', 2457: '大汉', 2458: '之母', 2459: '挫动', 2460: '遣兵', 2461: '韩忠果', 2462: '臣僚', 2463: '之', 2464: '卓问', 2465: '奔入', 2466: '孙武子', 2467: '敕', 2468: '门外', 2469: '有功者', 2470: '兄长', 2471: '心腹', 2472: '拍', 2473: '待', 2474: '骤起', 2475: '救困扶危', 2476: '鸩', 2477: '顒', 2478: '张三人往', 2479: '拥', 2480: '宗族', 2481: '若', 2482: '探子', 2483: '攻城', 2484: '本县', 2485: '袁绍', 2486: '发榜', 2487: '逃脱', 2488: '何如', 2489: '可欺', 2490: '却说', 2491: '随即', 2492: '大败', 2493: '天下大乱', 2494: '突火', 2495: '露水', 2496: '见汉军', 2497: '责', 2498: '尔', 2499: '将军', 2500: '纳献', 2501: '进', 2502: '之后', 2503: '卧蚕眉', 2504: '分鼎', 2505: '赵弘遣', 2506: '某', 2507: '收拾', 2508: '布列', 2509: '披衣', 2510: '知名', 2511: '卖官鬻爵', 2512: '一统天下', 2513: '秦灭', 2514: '血战', 2515: '见', 2516: '五寸', 2517: '揪住', 2518: '之囚', 2519: '常侍之', 2520: '既', 2521: '郭胜', 2522: '张角', 2523: '听说', 2524: '何国舅', 2525: '赏附', 2526: '二兄要', 2527: '却是', 2528: '胁从', 2529: '各通', 2530: '故事', 2531: '刘焉', 2532: '正盛', 2533: '古今', 2534: '官', 2535: '协', 2536: '至于', 2537: '名正言顺', 2538: '进攻', 2539: '传', 2540: '曹腾', 2541: '怠慢', 2542: '八点', 2543: '代州', 2544: '帝问', 2545: '何', 2546: '要', 2547: '交战', 2548: '止带', 2549: '绑', 2550: '硕不仁', 2551: '酒至', 2552: '纸人', 2553: '私意', 2554: '头目', 2555: '涿鹿', 2556: '直赶', 2557: '弓一箭', 2558: '分为', 2559: '禁锢', 2560: '破敌', 2561: '自行', 2562: '御园', 2563: '扬', 2564: '随入', 2565: '硕慌', 2566: '乘势', 2567: '以救', 2568: '星夜', 2569: '首先', 2570: '推其致', 2571: '徐', 2572: '细眼长', 2573: '喜', 2574: '程旷', 2575: '县前', 2576: '穷力乏', 2577: '玄德大', 2578: '宫中', 2579: '正文', 2580: '封', 2581: '问其', 2582: '西南角', 2583: '十数', 2584: '慨然', 2585: '却', 2586: '拜', 2587: '命世之才', 2588: '各怀', 2589: '此间', 2590: '宗庙社稷', 2591: '谓何', 2592: '便令坚', 2593: '贩马', 2594: '年', 2595: '挥军', 2596: '生', 2597: '只愿', 2598: '指称', 2599: '饶汝命', 2600: '见督邮', 2601: '驿庭', 2602: '少顷', 2603: '今谋', 2604: '灵', 2605: '贼兵', 2606: '操往', 2607: '解', 2608: '陈蕃', 2609: '知事', 2610: '角拜', 2611: '直至', 2612: '七月', 2613: '碧眼', 2614: '张钧', 2615: '同心协力', 2616: '丧葬', 2617: '邓茂', 2618: '须逊', 2619: '信张', 2620: '朝见', 2621: '临朝', 2622: '近臣', 2623: '而出', 2624: '夺弘', 2625: '不祥', 2626: '把', 2627: '陶', 2628: '掩目', 2629: '且', 2630: '分赃', 2631: '不容', 2632: '四门', 2633: '分头来', 2634: '妄加', 2635: '曰', 2636: '而进', 2637: '操有', 2638: '引兵', 2639: '以金珠', 2640: '植曰', 2641: '尹', 2642: '每年', 2643: '不必', 2644: '之弟', 2645: '龚景亦率', 2646: '溃', 2647: '结为', 2648: '因角用', 2649: '方', 2650: '尽弃', 2651: '帝前', 2652: '名绍', 2653: '则', 2654: '守住', 2655: '应', 2656: '贵人', 2657: '鞭督', 2658: '截住', 2659: '速入', 2660: '副将', 2661: '肉', 2662: '许劭', 2663: '高', 2664: '不数合', 2665: '倘机', 2666: '侮辱', 2667: '出谓', 2668: '和', 2669: '反生', 2670: '擂鼓', 2671: '尽闭', 2672: '耽', 2673: '军中', 2674: '离', 2675: '性', 2676: '冲杀', 2677: '侍中', 2678: '角得', 2679: '备下', 2680: '对垒', 2681: '酎', 2682: '来京', 2683: '观望', 2684: '玄德乃', 2685: '慌忙', 2686: '休', 2687: '不飞', 2688: '抚慰', 2689: '虽', 2690: '歌舞', 2691: '后园', 2692: '封为', 2693: '宵', 2694: '四', 2695: '绣', 2696: '机谋', 2697: '后纳', 2698: '九尺', 2699: '长叹', 2700: '引入', 2701: '坠于', 2702: '捕', 2703: '侍即', 2704: '军功', 2705: '苗欲', 2706: '任', 2707: '过去', 2708: '五十余里', 2709: '候贼', 2710: '拒', 2711: '飞身', 2712: '二虎', 2713: '二', 2714: '赵萌', 2715: '不倦', 2716: '授人以柄', 2717: '罢', 2718: '只见', 2719: '西门', 2720: '军权', 2721: '难免', 2722: '遍请', 2723: '白蛇', 2724: '赠', 2725: '惰慢', 2726: '县令', 2727: '招诱', 2728: '登城', 2729: '省', 2730: '权谋', 2731: '备昔', 2732: '话', 2733: '逃难', 2734: '何进', 2735: '问罪', 2736: '司马', 2737: '落荒而走', 2738: '招募', 2739: '各引军', 2740: '其家', 2741: '发丧', 2742: '来者', 2743: '略无忌惮', 2744: '况', 2745: '打造', 2746: '十余条', 2747: '陛下', 2748: '民心', 2749: '太平', 2750: '不得', 2751: '阉宦', 2752: '依草', 2753: '焉', 2754: '失色', 2755: '降', 2756: '鞍', 2757: '卢中郎', 2758: '托疾不出', 2759: '一千五百余', 2760: '近闻', 2761: '太守', 2762: '周末', 2763: '祖刘雄', 2764: '日于', 2765: '转告', 2766: '运筹决算', 2767: '披发', 2768: '向前', 2769: '已败', 2770: '切不可', 2771: '幼时', 2772: '父至', 2773: '指帝', 2774: '侍立阶', 2775: '不计其数', 2776: '迟则', 2777: '喏喏连声', 2778: '坚', 2779: '柳条', 2780: '权摄', 2781: '滋蔓', 2782: '继', 2783: '帝御', 2784: '国母', 2785: '因握', 2786: '四五十万', 2787: '之计', 2788: '进入', 2789: '饮酒', 2790: '来', 2791: '掌握', 2792: '以致', 2793: '流言', 2794: '将治', 2795: '鸡化', 2796: '精兵', 2797: '身长', 2798: '玄德遂', 2799: '邹靖', 2800: '宫耶', 2801: '有变', 2802: '桓', 2803: '悉', 2804: '乃典军', 2805: '张钧车', 2806: '臧旻', 2807: '长江', 2808: '五原', 2809: '不', 2810: '无非', 2811: '以乐', 2812: '安喜县', 2813: '骄傲', 2814: '骨肉', 2815: '今', 2816: '内省', 2817: '奔逃', 2818: '臣闻', 2819: '下马', 2820: '左有', 2821: '劫去', 2822: '一簇', 2823: '从天而降', 2824: '能安之者', 2825: '后会', 2826: '正迎', 2827: '暗使', 2828: '少帝', 2829: '侍奏帝', 2830: '县吏', 2831: '目前', 2832: '西州', 2833: '孟德亦怀', 2834: '大刀', 2835: '胜负', 2836: '放', 2837: '让', 2838: '资财', 2839: '投朱', 2840: '草堆', 2841: '盖为', 2842: '议温明', 2843: '立断', 2844: '一大', 2845: '恶党者', 2846: '日非', 2847: '斩谋兄', 2848: '儿戏', 2849: '先宜', 2850: '昔吕后', 2851: '百官', 2852: '初', 2853: '邀', 2854: '苦告', 2855: '欲害', 2856: '今赛', 2857: '崔烈', 2858: '今公', 2859: '谣', 2860: '街市', 2861: '车盖', 2862: '乞赐', 2863: '相', 2864: '玄孙', 2865: '京师', 2866: '直取', 2867: '攻打', 2868: '加以', 2869: '所在', 2870: '刺杀', 2871: '坚谓', 2872: '进发', 2873: '其罪', 2874: '操故', 2875: '看', 2876: '乘', 2877: '何罪', 2878: '几度', 2879: '遮蔽', 2880: '不若', 2881: '非栖', 2882: '聪明', 2883: '出庄', 2884: '六年', 2885: '治病', 2886: '除授', 2887: '宣告', 2888: '尚欲入', 2889: '望风', 2890: '光武', 2891: '汉武时', 2892: '停酒', 2893: '字翼德', 2894: '齐声', 2895: '坠地', 2896: '黄天', 2897: '操退', 2898: '已', 2899: '名字', 2900: '袁绍之', 2901: '多有', 2902: '回军', 2903: '五万', 2904: '丛中', 2905: '二十八岁', 2906: '飞纵', 2907: '战', 2908: '拨', 2909: '玄德听', 2910: '不胜', 2911: '率众', 2912: '阻挡', 2913: '一惊', 2914: '项', 2915: '火攻', 2916: '得志', 2917: '旧日', 2918: '失利', 2919: '其子', 2920: '郭', 2921: '缚住', 2922: '显官', 2923: '南华', 2924: '植大呼', 2925: '邮之颈', 2926: '南面', 2927: '安', 2928: '设心', 2929: '把门人', 2930: '大志', 2931: '郎蔡邕', 2932: '弘势', 2933: '两军', 2934: '之中', 2935: '尽力', 2936: '灵帝入', 2937: '随路', 2938: '操', 2939: '因此', 2940: '大叫', 2941: '山后', 2942: '后人', 2943: '退军', 2944: '尝怒', 2945: '相继', 2946: '势', 2947: '山下', 2948: '恨力', 2949: '痈', 2950: '再', 2951: '三军', 2952: '立功', 2953: '十五岁', 2954: '豪杰', 2955: '誓', 2956: '震', 2957: '别人', 2958: '新弃', 2959: '准备', 2960: '张二公', 2961: '入宫', 2962: '三十里', 2963: '自纵', 2964: '反国', 2965: '甲子', 2966: '撤去', 2967: '吞声', 2968: '乃径', 2969: '欲立', 2970: '发耳', 2971: '大半', 2972: '太尉杨', 2973: '不行', 2974: '怨言', 2975: '李儒', 2976: '杖', 2977: '十里', 2978: '玄德见', 2979: '既来', 2980: '杀督邮', 2981: '侵掠', 2982: '复夺', 2983: '密谓', 2984: '后', 2985: '五十匹', 2986: '众见', 2987: '金失侯', 2988: '植兵', 2989: '翻身', 2990: '崩摧', 2991: '宣何', 2992: '败走', 2993: '曹名', 2994: '当下', 2995: '士卒', 2996: '宜', 2997: '自来', 2998: '红光', 2999: '浊酒', 3000: '楚', 3001: '异姓', 3002: '两个', 3003: '中平', 3004: '六七千', 3005: '共', 3006: '勿', 3007: '讹言', 3008: '祭', 3009: '起自冲', 3010: '共议', 3011: '安得', 3012: '刺中', 3013: '抹额', 3014: '鞭督邮', 3015: '军器', 3016: '入席', 3017: '未晚', 3018: '余钱', 3019: '河南', 3020: '秦', 3021: '混战', 3022: '至嘉德殿', 3023: '面如冠玉', 3024: '宫', 3025: '四个', 3026: '君乎', 3027: '能书符', 3028: '焚香', 3029: '刘虞表奏', 3030: '进乃暗', 3031: '眼', 3032: '攻习', 3033: '同入', 3034: '不肯', 3035: '原来', 3036: '之能', 3037: '汉家', 3038: '虚实', 3039: '马军入', 3040: '盛猪', 3041: '将亡', 3042: '相府', 3043: '坚守', 3044: '养毒', 3045: '前来', 3046: '害', 3047: '懦弱', 3048: '姓', 3049: '童童', 3050: '贼弟', 3051: '吾料', 3052: '臣敢', 3053: '诉说', 3054: '姓张', 3055: '良人', 3056: '狱中', 3057: '禁军', 3058: '并入', 3059: '汉', 3060: '明日', 3061: '叫', 3062: '师', 3063: '四面', 3064: '冒烟', 3065: '谁家', 3066: '除君侧', 3067: '李肃', 3068: '朝', 3069: '废立', 3070: '起', 3071: '以为', 3072: '宗派', 3073: '于帝', 3074: '协力同心', 3075: '往北', 3076: '此病', 3077: '备御', 3078: '进得', 3079: '跪进', 3080: '祸事', 3081: '引一', 3082: '讫', 3083: '甲', 3084: '久居', 3085: '有功', 3086: '诏封', 3087: '罔', 3088: '朔', 3089: '不成', 3090: '中', 3091: '我三人义', 3092: '特', 3093: '垂怜', 3094: '簇帝', 3095: '差', 3096: '故生', 3097: '社稷', 3098: '之内', 3099: '思', 3100: '一名', 3101: '独乘', 3102: '约', 3103: '又名', 3104: '北部', 3105: '造次', 3106: '陇西', 3107: '玄德', 3108: '离庄', 3109: '伟绩', 3110: '治罪', 3111: '必先', 3112: '雌鸡化雄', 3113: '喝', 3114: '卓大惊', 3115: '军放起', 3116: '喧闹', 3117: '正值', 3118: '倚汝子', 3119: '司徒', 3120: '与关', 3121: '杀来', 3122: '店门', 3123: '一统', 3124: '三十余', 3125: '乎', 3126: '卓应', 3127: '赵弘', 3128: '坚有', 3129: '次日', 3130: '庄主', 3131: '威仪', 3132: '大怒', 3133: '反要', 3134: '郑泰谏', 3135: '出', 3136: '犯禁', 3137: '赵忠', 3138: '受', 3139: '大作', 3140: '喝住', 3141: '此取', 3142: '大门', 3143: '刘备', 3144: '之围', 3145: '陷邕', 3146: '岸上', 3147: '正君位', 3148: '从己', 3149: '恨', 3150: '从者', 3151: '追袭', 3152: '三人', 3153: '挺', 3154: '豫八州', 3155: '幼孤', 3156: '黑气', 3157: '寻', 3158: '围如', 3159: '应敌', 3160: '留匿', 3161: '城外', 3162: '此处', 3163: '阳明', 3164: '教省', 3165: '三卷', 3166: '长社', 3167: '具道', 3168: '操父', 3169: '汝', 3170: '刘陶', 3171: '负心人', 3172: '威名', 3173: '危急', 3174: '擅杀', 3175: '三十六方', 3176: '脱', 3177: '躬', 3178: '军人', 3179: '之志', 3180: '何后', 3181: '质之时', 3182: '安民', 3183: '责进', 3184: '倒戈', 3185: '加', 3186: '当保', 3187: '谁识', 3188: '我三人', 3189: '那人', 3190: '好马', 3191: '每日', 3192: '具说', 3193: '温德殿', 3194: '非止', 3195: '那里', 3196: '奔走', 3197: '十三', 3198: '挟恨', 3199: '祭告', 3200: '出城', 3201: '出力', 3202: '曾', 3203: '闲行', 3204: '可速', 3205: '今宜', 3206: '俗云', 3207: '临犯京', 3208: '骠骑', 3209: '中郎将', 3210: '围定', 3211: '转头', 3212: '相对', 3213: '急欲', 3214: '说起', 3215: '献首', 3216: '御林军', 3217: '吉利', 3218: '微物', 3219: '祭礼', 3220: '玄德曰', 3221: '数百', 3222: '一所', 3223: '允', 3224: '生乱', 3225: '枭首', 3226: '直出', 3227: '连胜', 3228: '飞问', 3229: '若容', 3230: '名飞', 3231: '太重', 3232: '沙汰', 3233: '司隶校', 3234: '客人', 3235: '措手不及', 3236: '徐徐', 3237: '岂可', 3238: '照耀', 3239: '谕止', 3240: '我答', 3241: '体探', 3242: '义兵', 3243: '郡县', 3244: '侧耳', 3245: '后坐', 3246: '指', 3247: '军校', 3248: '更', 3249: '凡有', 3250: '而行', 3251: '其实', 3252: '宠幸', 3253: '此天助', 3254: '势利', 3255: '一贼'}\n",
      "real word is 豪杰, predict word is 曰\n"
     ]
    },
    {
     "name": "stderr",
     "output_type": "stream",
     "text": [
      "/home/hdw/anaconda3/lib/python3.7/site-packages/ipykernel_launcher.py:55: UserWarning: Implicit dimension choice for log_softmax has been deprecated. Change the call to include dim=X as an argument.\n"
     ]
    }
   ],
   "source": [
    "word, label = trigrams[2]\n",
    "print(word,label)\n",
    "word = torch.autograd.Variable(torch.LongTensor([word_to_ix[i] for i in word]))\n",
    "\n",
    "out = model(word)\n",
    "print(out)\n",
    "_, predict_label = torch.max(out, 1)\n",
    "print(predict_label,idx_to_word)\n",
    "predict_word = idx_to_word[predict_label.data.item()]\n",
    "print('real word is {}, predict word is {}'.format(label, predict_word))"
   ]
  },
  {
   "cell_type": "code",
   "execution_count": null,
   "metadata": {},
   "outputs": [],
   "source": []
  },
  {
   "cell_type": "markdown",
   "metadata": {},
   "source": [
    "# 序列模型\n",
    "带记忆的网络，如LSTM，GRU"
   ]
  },
  {
   "cell_type": "code",
   "execution_count": 381,
   "metadata": {},
   "outputs": [],
   "source": [
    "import logging as logger\n",
    "\n",
    "logger.basicConfig(level=logger.DEBUG,\n",
    "                   format='%(asctime)s %(filename)s[line:%(lineno)d] %(levelname)s %(message)s',\n",
    "                   datefmt='%Y-%m-%d %H:%M:%S -',\n",
    "                   filename='log.log',\n",
    "                   filemode='a')  # or 'w', default 'a'\n",
    "\n",
    "console = logger.StreamHandler()\n",
    "console.setLevel(logger.INFO)\n",
    "formatter = logger.Formatter('%(asctime)s %(name)-6s: %(levelname)-6s %(message)s')\n",
    "console.setFormatter(formatter)\n",
    "logger.getLogger('').addHandler(console)"
   ]
  },
  {
   "cell_type": "code",
   "execution_count": 382,
   "metadata": {},
   "outputs": [],
   "source": [
    "use_cuda = torch.cuda.is_available()\n",
    "\n",
    "SOS_token = 0\n",
    "EOS_token = 1\n",
    "# 中文的时候要设置大一些\n",
    "MAX_LENGTH = 25\n",
    "\n",
    "\n",
    "def unicodeToAscii(s):\n",
    "    '''\n",
    "    Unicode转换成ASCII，http://stackoverflow.com/a/518232/2809427\n",
    "    :param s:\n",
    "    :return:\n",
    "        '''\n",
    "    return ''.join(\n",
    "        c for c in unicodedata.normalize('NFD', s)\n",
    "        if unicodedata.category(c) != 'Mn'\n",
    "    )\n",
    "\n",
    "\n",
    "def normalizeString(s):\n",
    "    '''\n",
    "    转小写，去除非法字符\n",
    "    :param s:\n",
    "    :return:\n",
    "    '''\n",
    "    s = unicodeToAscii(s.lower().strip())\n",
    "    s = re.sub(r\"([.!?])\", r\" \\1\", s)\n",
    "    # 中文不能进行下面的处理\n",
    "    # s = re.sub(r\"[^a-zA-Z.!?]+\", r\" \", s)\n",
    "    return s\n",
    "\n",
    "\n",
    "class Lang:\n",
    "    def __init__(self, name):\n",
    "        '''\n",
    "        添加 need_cut 可根据语种进行不同的分词逻辑处理\n",
    "        :param name: 语种名称\n",
    "        '''\n",
    "        self.name = name\n",
    "        self.need_cut = self.name == 'cmn'\n",
    "        self.word2index = {}\n",
    "        self.word2count = {}\n",
    "        self.index2word = {0: \"SOS\", 1: \"EOS\"}\n",
    "        self.n_words = 2  # 初始化词数为2：SOS & EOS\n",
    "\n",
    "    def addSentence(self, sentence):\n",
    "        '''\n",
    "        从语料中添加句子到 Lang\n",
    "        :param sentence: 语料中的每个句子\n",
    "        '''\n",
    "        if self.need_cut:\n",
    "            sentence = cut(sentence)\n",
    "        for word in sentence.split(' '):\n",
    "            if len(word) > 0:\n",
    "                self.addWord(word)\n",
    "\n",
    "    def addWord(self, word):\n",
    "        '''\n",
    "        向 Lang 中添加每个词，并统计词频，如果是新词修改词表大小\n",
    "        :param word:\n",
    "        '''\n",
    "        if word not in self.word2index:\n",
    "            self.word2index[word] = self.n_words\n",
    "            self.word2count[word] = 1\n",
    "            self.index2word[self.n_words] = word\n",
    "            self.n_words += 1\n",
    "        else:\n",
    "            self.word2count[word] += 1\n",
    "\n",
    "\n",
    "def cut(sentence, use_jieba=False):\n",
    "    '''\n",
    "    对句子分词。\n",
    "    :param sentence: 要分词的句子\n",
    "    :param use_jieba: 是否使用 jieba 进行智能分词，默认按单字切分\n",
    "    :return: 分词结果，空格区分\n",
    "    '''\n",
    "    if use_jieba:\n",
    "        return ' '.join(jieba.cut(sentence))\n",
    "    else:\n",
    "        words = [word for word in sentence]\n",
    "        return ' '.join(words)\n",
    "\n",
    "\n",
    "import jieba.posseg as pseg\n",
    "\n",
    "\n",
    "def tag(sentence):\n",
    "    words = pseg.cut(sentence)\n",
    "    result = ''\n",
    "    for w in words:\n",
    "        result = result + w.word + \"/\" + w.flag +\" \"\n",
    "    return result\n",
    "\n",
    "\n",
    "def readLangs(lang1, lang2, reverse=False):\n",
    "    '''\n",
    "    :param lang1: 源语言\n",
    "    :param lang2: 目标语言\n",
    "    :param reverse: 是否逆向翻译\n",
    "    :return: 源语言实例，目标语言实例，词语对\n",
    "    '''\n",
    "    logger.info(\"Reading lines...\")\n",
    "\n",
    "    # 读取txt文件并分割成行\n",
    "    lines = open('data/%s-%s.txt' % (lang1, lang2), encoding='utf-8'). \\\n",
    "        read().strip().split('\\n')\n",
    "\n",
    "    # 按行处理成 源语言-目标语言对，并做预处理\n",
    "    pairs = [[normalizeString(s) for s in l.split('\\t')] for l in lines]\n",
    "\n",
    "    # Reverse pairs, make Lang instances\n",
    "    if reverse:\n",
    "        pairs = [list(reversed(p)) for p in pairs]\n",
    "        input_lang = Lang(lang2)\n",
    "        output_lang = Lang(lang1)\n",
    "    else:\n",
    "        input_lang = Lang(lang1)\n",
    "        output_lang = Lang(lang2)\n",
    "\n",
    "    return input_lang, output_lang, pairs\n",
    "\n",
    "\n",
    "eng_prefixes = (\n",
    "    \"i am \", \"i m \",\n",
    "    \"he is\", \"he s \",\n",
    "    \"she is\", \"she s\",\n",
    "    \"you are\", \"you re \",\n",
    "    \"we are\", \"we re \",\n",
    "    \"they are\", \"they re \"\n",
    ")\n",
    "\n",
    "\n",
    "def filterPair(p):\n",
    "    '''\n",
    "    按自定义最大长度过滤\n",
    "    '''\n",
    "    return len(p[0].split(' ')) < MAX_LENGTH and \\\n",
    "           len(p[1].split(' ')) < MAX_LENGTH and \\\n",
    "           p[1].startswith(eng_prefixes)\n",
    "\n",
    "\n",
    "def filterPairs(pairs):\n",
    "    return [pair for pair in pairs if filterPair(pair)]\n",
    "\n",
    "\n",
    "def prepareData(lang1, lang2, reverse=False):\n",
    "    input_lang, output_lang, pairs = readLangs(lang1, lang2, reverse)\n",
    "    logger.info(\"Read %s sentence pairs\" % len(pairs))\n",
    "    pairs = filterPairs(pairs)\n",
    "    logger.info(\"Trimmed to %s sentence pairs\" % len(pairs))\n",
    "    logger.info(\"Counting words...\")\n",
    "    for pair in pairs:\n",
    "        input_lang.addSentence(pair[0])\n",
    "        output_lang.addSentence(pair[1])\n",
    "    logger.info(\"Counted words:\")\n",
    "    logger.info('%s, %d' % (input_lang.name, input_lang.n_words))\n",
    "    logger.info('%s, %d' % (output_lang.name, output_lang.n_words))\n",
    "    return input_lang, output_lang, pairs\n",
    "\n",
    "\n",
    "def indexesFromSentence(lang, sentence):\n",
    "    '''\n",
    "    :param lang:\n",
    "    :param sentence:\n",
    "    :return:\n",
    "    '''\n",
    "    return [lang.word2index[word] for word in sentence.split(' ') if len(word) > 0]\n",
    "\n",
    "\n",
    "def variableFromSentence(lang, sentence):\n",
    "    if lang.need_cut:\n",
    "        sentence = cut(sentence)\n",
    "    # logger.info(\"cuted sentence: %s\" % sentence)\n",
    "    indexes = indexesFromSentence(lang, sentence)\n",
    "    indexes.append(EOS_token)\n",
    "    result = Variable(torch.LongTensor(indexes).view(-1, 1))\n",
    "    if use_cuda:\n",
    "        return result.cuda()\n",
    "    else:\n",
    "        return result\n",
    "\n",
    "\n",
    "def variablesFromPair(input_lang, output_lang, pair):\n",
    "    input_variable = variableFromSentence(input_lang, pair[0])\n",
    "    target_variable = variableFromSentence(output_lang, pair[1])\n",
    "    return (input_variable, target_variable)\n",
    "\n",
    "\n",
    "def asMinutes(s):\n",
    "    m = math.floor(s / 60)\n",
    "    s -= m * 60\n",
    "    return '%dm %ds' % (m, s)\n",
    "\n",
    "\n",
    "def timeSince(since, percent):\n",
    "    now = time.time()\n",
    "    s = now - since\n",
    "    es = s / (percent)\n",
    "    rs = es - s\n",
    "    return '%s (- %s)' % (asMinutes(s), asMinutes(rs))"
   ]
  },
  {
   "cell_type": "code",
   "execution_count": null,
   "metadata": {},
   "outputs": [],
   "source": []
  },
  {
   "cell_type": "code",
   "execution_count": null,
   "metadata": {},
   "outputs": [],
   "source": []
  },
  {
   "cell_type": "code",
   "execution_count": null,
   "metadata": {},
   "outputs": [],
   "source": []
  },
  {
   "cell_type": "code",
   "execution_count": null,
   "metadata": {},
   "outputs": [],
   "source": []
  },
  {
   "cell_type": "code",
   "execution_count": null,
   "metadata": {},
   "outputs": [],
   "source": []
  },
  {
   "cell_type": "code",
   "execution_count": null,
   "metadata": {},
   "outputs": [],
   "source": []
  },
  {
   "cell_type": "code",
   "execution_count": null,
   "metadata": {
    "scrolled": true
   },
   "outputs": [],
   "source": []
  },
  {
   "cell_type": "code",
   "execution_count": null,
   "metadata": {},
   "outputs": [],
   "source": []
  },
  {
   "cell_type": "code",
   "execution_count": null,
   "metadata": {},
   "outputs": [],
   "source": []
  }
 ],
 "metadata": {
  "kernelspec": {
   "display_name": "Python 3",
   "language": "python",
   "name": "python3"
  },
  "language_info": {
   "codemirror_mode": {
    "name": "ipython",
    "version": 3
   },
   "file_extension": ".py",
   "mimetype": "text/x-python",
   "name": "python",
   "nbconvert_exporter": "python",
   "pygments_lexer": "ipython3",
   "version": "3.7.4"
  }
 },
 "nbformat": 4,
 "nbformat_minor": 2
}
