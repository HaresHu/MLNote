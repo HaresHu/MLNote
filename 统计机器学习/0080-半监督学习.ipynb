{
 "cells": [
  {
   "cell_type": "markdown",
   "metadata": {},
   "source": [
    "# 生成式方法\n",
    "\n",
    "如假设数据独立同分布，都是由混合高斯模型生成。假定N个标记（分类），N个高斯模型。\n",
    "\n",
    "根据模型公式：\n",
    "$$\n",
    "{f(x) = \\underset{j \\in \\nu }{arg max}\\ p(y=j|\\pmb{x})\\\\\n",
    "= \\underset{j \\in \\nu }{arg max} \\sum_{i=1}^{N}p(y=j, \\Theta=i|\\pmb{x})\\\\\n",
    "= \\underset{j \\in \\nu }{arg max} \\sum_{i=1}^{N}p(y=j|\\Theta=i, \\pmb{x}) \\cdot p(\\Theta=i|\\pmb{x})\n",
    "}\n",
    "$$\n",
    "其中：\n",
    "$$\n",
    "p(\\Theta=i|\\pmb{x})=\\frac{\\alpha_i \\cdot p(\\pmb{x}|\\pmb{\\mu}_j{\\sum}_i)}{\\sum_{i=1}^{k}\\alpha_i \\cdot p(\\pmb{x}|\\pmb{\\mu}_i,{\\sum}_i)}\n",
    "$$\n",
    "显然，第二个式子不需要类别标记，可以使用未标记数据来提高准确率。\n",
    "\n",
    "因为假设了一个分类对应一个高斯模型，因此$p(y=j|\\Theta=i,\\pmb{x})$仅与样本所属的高斯混合成分$\\Theta$有关。用$p(y=j|\\Theta=i)=1$，当且仅当$i=j$时。\n",
    "\n",
    "假设有标记样本$D_l=\\{(\\pmb{x}_1,y_1), (\\pmb{x}_2,y_2),...,(\\pmb{x}_l,y_l)\\}$，无标记样本$D_u=\\{\\pmb{x}_{l+1},pmb{x}_{l+2},...,pmb{x}_{l+u}\\}$此时对数似然函数\n",
    "$$\n",
    "{LL(D_l \\cup D_u)=\\sum_{(x_j,y_j) \\in D}ln(\\sum_{i=1}^{N}\\alpha_i \\cdot p(\\pmb{x}_j|\\pmb{\\mu}_i, \\pmb{\\sum}_i)\\cdot p(y_j|\\Theta-i,\\pmb{x}_j)) \\\\\n",
    "+\\sum_{x_j \\in D_u}ln(\\sum_{i=1}^{N}\\alpha_i \\cdot p(\\pmb{x}_j|\\pmb{\\mu}_i, \\pmb{\\sum}_i))\n",
    "\n",
    "}\n",
    "$$\n",
    "于是，EM算法：\n",
    "\n",
    "E步：根据当前模型参数，计算未标记样本属于各模型概率：$\\gamma_{ji}$，具体公式参考聚类\n",
    "\n",
    "M步：计算高斯模型参数，区别在于增加有标记样本，等于此模型的数据。\n",
    "\n",
    "\n",
    "\n",
    "\n",
    "\n",
    "\n",
    "\n",
    "\n"
   ]
  },
  {
   "cell_type": "markdown",
   "metadata": {},
   "source": [
    "# TSVM\n",
    "\n",
    "前提：针对二分类问题，$l \\ll u$\n",
    "\n",
    "第一步：标记数据训练svm\n",
    "\n",
    "第二步：训练好的svm，预测未分类数据，再训练SVM，\n",
    "\n",
    "第三步：调整错误分类，再训练。。。持续\n",
    "\n",
    "其中要点：$C_u<C_l$，再增大，时为了随着样本分类准确性提高，不断提高未分类样本重要性。\n",
    "\n",
    "显然，训练开销巨大，需要新的方法\n"
   ]
  },
  {
   "cell_type": "markdown",
   "metadata": {},
   "source": [
    "# 图半监督\n",
    "\n",
    "因为开销巨大，很难在大样本运行，且仅仅是考虑训练集，不适合加入新样本。\n",
    "\n",
    "\n"
   ]
  },
  {
   "cell_type": "markdown",
   "metadata": {},
   "source": [
    "# 基于分歧方法\n",
    "\n",
    "类似boost与bagging方法，前提是要有很多子属性集合，且独立，比如说电影包括声音，图像，情节等属性集合，不同属性集合训练协同训练进行分类。\n",
    "\n",
    "\n"
   ]
  },
  {
   "cell_type": "markdown",
   "metadata": {},
   "source": [
    "# 半监督聚类\n",
    "\n"
   ]
  },
  {
   "cell_type": "code",
   "execution_count": null,
   "metadata": {},
   "outputs": [],
   "source": []
  }
 ],
 "metadata": {
  "kernelspec": {
   "display_name": "Python 3",
   "language": "python",
   "name": "python3"
  },
  "language_info": {
   "codemirror_mode": {
    "name": "ipython",
    "version": 3
   },
   "file_extension": ".py",
   "mimetype": "text/x-python",
   "name": "python",
   "nbconvert_exporter": "python",
   "pygments_lexer": "ipython3",
   "version": "3.7.4"
  },
  "toc": {
   "base_numbering": 1,
   "nav_menu": {},
   "number_sections": true,
   "sideBar": true,
   "skip_h1_title": false,
   "title_cell": "Table of Contents",
   "title_sidebar": "Contents",
   "toc_cell": false,
   "toc_position": {},
   "toc_section_display": true,
   "toc_window_display": true
  },
  "varInspector": {
   "cols": {
    "lenName": 16,
    "lenType": 16,
    "lenVar": 40
   },
   "kernels_config": {
    "python": {
     "delete_cmd_postfix": "",
     "delete_cmd_prefix": "del ",
     "library": "var_list.py",
     "varRefreshCmd": "print(var_dic_list())"
    },
    "r": {
     "delete_cmd_postfix": ") ",
     "delete_cmd_prefix": "rm(",
     "library": "var_list.r",
     "varRefreshCmd": "cat(var_dic_list()) "
    }
   },
   "types_to_exclude": [
    "module",
    "function",
    "builtin_function_or_method",
    "instance",
    "_Feature"
   ],
   "window_display": false
  }
 },
 "nbformat": 4,
 "nbformat_minor": 4
}
