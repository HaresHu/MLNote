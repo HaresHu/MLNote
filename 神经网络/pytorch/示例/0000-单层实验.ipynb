{
 "cells": [
  {
   "cell_type": "markdown",
   "metadata": {},
   "source": [
    "参考：[xiaobaoonline\n",
    "/\n",
    "pytorch-in-action](https://github.com/xiaobaoonline/pytorch-in-action)"
   ]
  },
  {
   "cell_type": "code",
   "execution_count": 1,
   "metadata": {},
   "outputs": [],
   "source": [
    "import torch\n",
    "from torch.autograd import Variable\n",
    "import numpy as np\n",
    "\n",
    "from itertools import count\n",
    "import torch.nn.functional as F \n",
    "\n",
    "import matplotlib. pyplot as plt\n",
    "import torch.nn as nn\n"
   ]
  },
  {
   "cell_type": "code",
   "execution_count": 21,
   "metadata": {},
   "outputs": [],
   "source": [
    "random_state = 5000\n",
    "torch.manual_seed(random_state)\n",
    "POLY_DEGREE = 4\n",
    "W_target = torch.randn(POLY_DEGREE, 1) * 5\n",
    "b_target = torch.randn(1) * 5"
   ]
  },
  {
   "cell_type": "code",
   "execution_count": 22,
   "metadata": {},
   "outputs": [],
   "source": [
    "def make_features(x):\n",
    "    \"\"\"创建一个特征矩阵结构为[x, x^2, x^3, x^4].\"\"\"\n",
    "    # tensor([1,2,3])变成tensor([[1],[2],[3],[4]])\n",
    "    x = x.unsqueeze(1)\n",
    "    # 矩阵根据每一唯独计算 x^i次方，然后cat(x,1)拼成相关特征\n",
    "    return torch.cat([x ** i for i in range(1, POLY_DEGREE + 1)], 1)\n",
    "\n",
    "def f(x):\n",
    "    \"\"\"近似函数.\"\"\"\n",
    "    # 矩阵标准乘法\n",
    "    return x.mm(W_target) + b_target[0]\n",
    "\n",
    "def poly_desc(W, b):\n",
    "    \"\"\"生成多向式描述内容.\"\"\"\n",
    "    result = 'y = '\n",
    "    for i, w in enumerate(W):\n",
    "        result += '{:+.2f} x^{} '.format(w, len(W) - i)\n",
    "    result += '{:+.2f}'.format(b[0])\n",
    "    return result\n",
    "\n",
    "def get_batch(batch_size=32):\n",
    "    \"\"\"创建类似 (x, f(x))的批数据.\"\"\"\n",
    "    random = torch.from_numpy(np.sort(torch.randn(batch_size)))\n",
    "    x = make_features(random)\n",
    "    y = f(x)\n",
    "    return Variable(x), Variable(y)"
   ]
  },
  {
   "cell_type": "code",
   "execution_count": 23,
   "metadata": {},
   "outputs": [],
   "source": [
    "# 声明模型\n",
    "fc = torch.nn.Linear(W_target.size(0), 1)"
   ]
  },
  {
   "cell_type": "code",
   "execution_count": 24,
   "metadata": {},
   "outputs": [
    {
     "data": {
      "image/png": "[encoded data removed]",
      "text/plain": [
       "<Figure size 432x288 with 1 Axes>"
      ]
     },
     "metadata": {
      "needs_background": "light"
     },
     "output_type": "display_data"
    },
    {
     "name": "stdout",
     "output_type": "stream",
     "text": [
      "Loss: 0.000518 after 760 batches\n",
      "==> Learned function:\ty = +6.07 x^4 +3.91 x^3 +0.90 x^2 +8.19 x^1 -1.64\n",
      "==> Actual function:\ty = +6.13 x^4 +3.89 x^3 +0.86 x^2 +8.20 x^1 -1.62\n"
     ]
    }
   ],
   "source": [
    "for batch_idx in count(1):\n",
    "    # 获取数据\n",
    "    batch_x, batch_y = get_batch()\n",
    "\n",
    "    # 重置求导\n",
    "    fc.zero_grad()\n",
    "\n",
    "    # 前向传播\n",
    "    output = F.smooth_l1_loss(fc(batch_x), batch_y)\n",
    "    \n",
    "    if output.data.size() == torch.Size([]):\n",
    "        loss = output.data.item()\n",
    "    else:\n",
    "        loss = output.data[0]\n",
    "    \n",
    "\n",
    "    # 后向传播\n",
    "    output.backward()\n",
    "\n",
    "    # 应用导数\n",
    "    for param in fc.parameters():\n",
    "        # 学习率与曲线\n",
    "        param.data.add_(-0.1 * param.grad.data)\n",
    "\n",
    "    # 停止条件\n",
    "    if loss < 1e-3:\n",
    "        plt.cla()\n",
    "        plt.scatter(batch_x.data.numpy()[:, 0], batch_y.data.numpy()[:, 0], label='real curve', color='b')\n",
    "        plt.plot(batch_x.data.numpy()[:, 0], fc(batch_x).data.numpy()[:, 0], label='fitting curve', color='r')\n",
    "        plt.legend()\n",
    "        plt.show()\n",
    "        break\n",
    "\n",
    "print('Loss: {:.6f} after {} batches'.format(loss, batch_idx))\n",
    "print('==> Learned function:\\t' + poly_desc(fc.weight.data.view(-1), fc.bias.data))\n",
    "print('==> Actual function:\\t' + poly_desc(W_target.view(-1), b_target))"
   ]
  },
  {
   "cell_type": "code",
   "execution_count": null,
   "metadata": {},
   "outputs": [],
   "source": []
  },
  {
   "cell_type": "code",
   "execution_count": null,
   "metadata": {},
   "outputs": [],
   "source": []
  }
 ],
 "metadata": {
  "kernelspec": {
   "display_name": "Python 3",
   "language": "python",
   "name": "python3"
  },
  "language_info": {
   "codemirror_mode": {
    "name": "ipython",
    "version": 3
   },
   "file_extension": ".py",
   "mimetype": "text/x-python",
   "name": "python",
   "nbconvert_exporter": "python",
   "pygments_lexer": "ipython3",
   "version": "3.7.4"
  },
  "toc": {
   "base_numbering": 1,
   "nav_menu": {},
   "number_sections": true,
   "sideBar": true,
   "skip_h1_title": false,
   "title_cell": "Table of Contents",
   "title_sidebar": "Contents",
   "toc_cell": false,
   "toc_position": {},
   "toc_section_display": true,
   "toc_window_display": false
  },
  "varInspector": {
   "cols": {
    "lenName": 16,
    "lenType": 16,
    "lenVar": 40
   },
   "kernels_config": {
    "python": {
     "delete_cmd_postfix": "",
     "delete_cmd_prefix": "del ",
     "library": "var_list.py",
     "varRefreshCmd": "print(var_dic_list())"
    },
    "r": {
     "delete_cmd_postfix": ") ",
     "delete_cmd_prefix": "rm(",
     "library": "var_list.r",
     "varRefreshCmd": "cat(var_dic_list()) "
    }
   },
   "types_to_exclude": [
    "module",
    "function",
    "builtin_function_or_method",
    "instance",
    "_Feature"
   ],
   "window_display": false
  }
 },
 "nbformat": 4,
 "nbformat_minor": 2
}
