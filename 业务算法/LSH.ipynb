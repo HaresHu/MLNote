{
 "cells": [
  {
   "cell_type": "markdown",
   "metadata": {},
   "source": [
    "# 最近邻算法包括\n",
    "\n",
    "KD-Tree:高维数据依然效率低下\n",
    "\n",
    "https://www.cnblogs.com/eyeszjwang/articles/2429382.html\n",
    "\n",
    "# MinHash\n",
    "\n",
    "包括基于：欧式空间的，jaccard的minhash等\n",
    "\n",
    "参考：  [Mining of Massive Datasets](http://www.mmds.org/) chapter 3 FInding SImilar Items\n",
    "\n",
    "\n",
    "\n",
    "[LSH在欧式空间的应用(1)--碰撞概率分析](http://bourneli.github.io/probability/lsh/2016/09/15/lsh_eulidian_1.html)\n",
    "\n",
    "[LSH在欧式空间的应用(2)--工作原理](http://bourneli.github.io/probability/lsh/2016/09/22/lsh_eulidian_2.html)\n",
    "\n",
    "# simHash\n",
    "\n",
    "参考：https://www.cnblogs.com/sddai/p/10088007.html\n",
    "\n",
    "https://dl.acm.org/doi/pdf/10.1145/509907.509965?casa_token=tuNDjT_fS5kAAAAA:AvS9bEbmlMyBVr2EIkmYq8agoDIFtAqX928u9f3u0cwj5l055VceWRBO6eViHYgUiSOLFN2T-1Ln\n",
    "\n",
    "汉明距离\n",
    "\n",
    "\n",
    "\n",
    "分割hash桶\n",
    "\n",
    "\n",
    "# 开源工具\n",
    "faccebook：Faiss"
   ]
  },
  {
   "cell_type": "code",
   "execution_count": null,
   "metadata": {},
   "outputs": [],
   "source": []
  }
 ],
 "metadata": {
  "kernelspec": {
   "display_name": "Python 3",
   "language": "python",
   "name": "python3"
  },
  "language_info": {
   "codemirror_mode": {
    "name": "ipython",
    "version": 3
   },
   "file_extension": ".py",
   "mimetype": "text/x-python",
   "name": "python",
   "nbconvert_exporter": "python",
   "pygments_lexer": "ipython3",
   "version": "3.7.4"
  },
  "toc": {
   "base_numbering": 1,
   "nav_menu": {},
   "number_sections": true,
   "sideBar": true,
   "skip_h1_title": false,
   "title_cell": "Table of Contents",
   "title_sidebar": "Contents",
   "toc_cell": false,
   "toc_position": {},
   "toc_section_display": true,
   "toc_window_display": true
  },
  "varInspector": {
   "cols": {
    "lenName": 16,
    "lenType": 16,
    "lenVar": 40
   },
   "kernels_config": {
    "python": {
     "delete_cmd_postfix": "",
     "delete_cmd_prefix": "del ",
     "library": "var_list.py",
     "varRefreshCmd": "print(var_dic_list())"
    },
    "r": {
     "delete_cmd_postfix": ") ",
     "delete_cmd_prefix": "rm(",
     "library": "var_list.r",
     "varRefreshCmd": "cat(var_dic_list()) "
    }
   },
   "types_to_exclude": [
    "module",
    "function",
    "builtin_function_or_method",
    "instance",
    "_Feature"
   ],
   "window_display": false
  }
 },
 "nbformat": 4,
 "nbformat_minor": 4
}
