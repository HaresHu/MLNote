{
 "cells": [
  {
   "cell_type": "code",
   "execution_count": 51,
   "metadata": {},
   "outputs": [],
   "source": [
    "import numpy as np\n",
    "import matplotlib.pyplot as plt\n",
    "%matplotlib inline\n",
    "import math"
   ]
  },
  {
   "cell_type": "code",
   "execution_count": 52,
   "metadata": {},
   "outputs": [
    {
     "data": {
      "image/png": "[encoded data removed]",
      "text/plain": [
       "<Figure size 432x288 with 1 Axes>"
      ]
     },
     "metadata": {
      "needs_background": "light"
     },
     "output_type": "display_data"
    }
   ],
   "source": [
    "def uniform(x, a, b):\n",
    "\n",
    "    y = [1 / (b - a) if a <= val and val <= b\n",
    "                    else 0 for val in x]\n",
    "    return x, y, (a + b)/2, math.pow(b-a, 2) / 12\n",
    "\n",
    "# 生成x\n",
    "x = np.random.random(10000) * 100\n",
    "x.sort()\n",
    "for ls in [(50, 90), (60, 70)]:\n",
    "    a, b = ls[0], ls[1]\n",
    "    x, y, u, s = uniform(x, a, b)\n",
    "    plt.plot(x, y, label=r'$\\mu=%.2f,\\sigma=%.2f$' % (u, s))\n",
    "\n",
    "plt.legend()\n",
    "plt.show()\n"
   ]
  },
  {
   "cell_type": "code",
   "execution_count": 54,
   "metadata": {},
   "outputs": [
    {
     "data": {
      "text/plain": [
       "array([6.25163015e-03, 9.94879687e-03, 1.03771633e-02, ...,\n",
       "       9.99864253e+01, 9.99940272e+01, 9.99961369e+01])"
      ]
     },
     "execution_count": 54,
     "metadata": {},
     "output_type": "execute_result"
    }
   ],
   "source": [
    "def std_nd(x):\n",
    "    x = np.random.random(10000)\n",
    "    x.sort()\n",
    "    y = [math.sqrt(-2 * math.log(i)) * math.cos(2 * Pi ) ]"
   ]
  },
  {
   "cell_type": "code",
   "execution_count": null,
   "metadata": {},
   "outputs": [],
   "source": []
  },
  {
   "cell_type": "code",
   "execution_count": null,
   "metadata": {},
   "outputs": [],
   "source": []
  },
  {
   "cell_type": "code",
   "execution_count": null,
   "metadata": {},
   "outputs": [],
   "source": []
  },
  {
   "cell_type": "code",
   "execution_count": null,
   "metadata": {},
   "outputs": [],
   "source": []
  }
 ],
 "metadata": {
  "kernelspec": {
   "display_name": "Python 3",
   "language": "python",
   "name": "python3"
  },
  "language_info": {
   "codemirror_mode": {
    "name": "ipython",
    "version": 3
   },
   "file_extension": ".py",
   "mimetype": "text/x-python",
   "name": "python",
   "nbconvert_exporter": "python",
   "pygments_lexer": "ipython3",
   "version": "3.7.4"
  }
 },
 "nbformat": 4,
 "nbformat_minor": 2
}
