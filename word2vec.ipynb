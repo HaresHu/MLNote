{
 "cells": [
  {
   "cell_type": "markdown",
   "metadata": {},
   "source": [
    "# 简介\n",
    "产出不是每个词的概率（虽然是前溃神经网络），而是词向量（word embedding），可以计算词之间的相似度，这个思路就可以用在很多方面了，比如说推荐\n",
    "\n",
    "包括2个重要的模型：CBOW（给定上下文，中心词出现概率）与Skip-gramm（给定中心词，一定距离内，词o出现概率）\n",
    "\n",
    "训练：Hierarchical Softmax + Huffman树;Negative Sampling（速度更快，logloss）\n",
    "\n",
    "# Ref\n",
    "两篇原始论文：Efficient Estimation of Word Representations in Vector Space，Recurrent Neural Net Language Model，理解上难度有点大\n",
    "\n",
    "word2vec Parameter Learning Explained，xingrong的，相对容易理解\n",
    "\n",
    "word2vec的C代码：https://github.com/tmikolov/word2vec/blob/master/word2vec.c 方便理解，还可以参考： https://blog.csdn.net/google19890102/article/details/51887344\n",
    "\n",
    "\n",
    "https://blog.csdn.net/shuihupo/article/details/81540433 切词工具对比(选择jieba：https://github.com/fxsjy/jieba)\n",
    "\n",
    "https://radimrehurek.com/gensim/ gensim参考，Documentation"
   ]
  },
  {
   "cell_type": "code",
   "execution_count": 18,
   "metadata": {},
   "outputs": [],
   "source": [
    "import numpy as np\n",
    "import matplotlib.pyplot as plt\n",
    "%matplotlib inline\n",
    "import math\n",
    "import jieba\n",
    "from gensim.models import word2vec"
   ]
  },
  {
   "cell_type": "code",
   "execution_count": 93,
   "metadata": {},
   "outputs": [
    {
     "data": {
      "image/png": "[encoded data removed]",
      "text/plain": [
       "<Figure size 432x288 with 1 Axes>"
      ]
     },
     "metadata": {
      "needs_background": "light"
     },
     "output_type": "display_data"
    }
   ],
   "source": [
    "# CPP代码中：负采样中频率，\n",
    "x = np.random.rand(1000) * 1000\n",
    "x.sort()\n",
    "y = [math.pow(i, 0.75) for i in x]\n",
    "fig, ax = plt.subplots()\n",
    "ax = plt.gca()\n",
    "\n",
    "ax.plot(x, y)\n",
    "plt.show()"
   ]
  },
  {
   "cell_type": "code",
   "execution_count": 94,
   "metadata": {},
   "outputs": [
    {
     "name": "stderr",
     "output_type": "stream",
     "text": [
      "Paddle enabled successfully......\n",
      "2020-11-25 22:20:25,911: DEBUG: Paddle enabled successfully......\n"
     ]
    },
    {
     "name": "stdout",
     "output_type": "stream",
     "text": [
      "Paddle Mode: 我/来到/北京清华大学\n",
      "Paddle Mode: 乒乓球/拍卖/完/了\n",
      "Paddle Mode: 中国科学技术大学\n",
      "Full Mode: 我/ 来到/ 北京/ 清华/ 清华大学/ 华大/ 大学\n",
      "Default Mode: 我/ 来到/ 北京/ 清华大学\n",
      "他, 来到, 了, 网易, 杭研, 大厦\n",
      "小明, 硕士, 毕业, 于, 中国, 科学, 学院, 科学院, 中国科学院, 计算, 计算所, ，, 后, 在, 日本, 京都, 大学, 日本京都大学, 深造\n"
     ]
    }
   ],
   "source": [
    "# jieba测试：参考：https://github.com/fxsjy/jieba \n",
    "jieba.enable_paddle()# 启动paddle模式。 0.40版之后开始支持，早期版本不支持，深度学习框架\n",
    "strs=[\"我来到北京清华大学\",\"乒乓球拍卖完了\",\"中国科学技术大学\"]\n",
    "for str in strs:\n",
    "    seg_list = jieba.cut(str,use_paddle=True) # 使用paddle模式\n",
    "    print(\"Paddle Mode: \" + '/'.join(list(seg_list)))\n",
    "\n",
    "seg_list = jieba.cut(\"我来到北京清华大学\", cut_all=True)\n",
    "print(\"Full Mode: \" + \"/ \".join(seg_list))  # 全模式\n",
    "\n",
    "seg_list = jieba.cut(\"我来到北京清华大学\", cut_all=False)\n",
    "print(\"Default Mode: \" + \"/ \".join(seg_list))  # 精确模式\n",
    "\n",
    "seg_list = jieba.cut(\"他来到了网易杭研大厦\")  # 默认是精确模式\n",
    "print(\", \".join(seg_list))\n",
    "\n",
    "seg_list = jieba.cut_for_search(\"小明硕士毕业于中国科学院计算所，后在日本京都大学深造\")  # 搜索引擎模式\n",
    "print(\", \".join(seg_list))"
   ]
  },
  {
   "cell_type": "code",
   "execution_count": 111,
   "metadata": {},
   "outputs": [],
   "source": [
    "# 默认模式切词\n",
    "with open(\"三国演义.txt\") as fp:\n",
    "    doc_cut  = jieba.cut(fp.read())\n",
    "    # 保存到本地\n",
    "    with open(\"三国演义_cut.txt\", 'w') as fp_w:\n",
    "        fp_w.write(\" \".join(doc_cut))"
   ]
  },
  {
   "cell_type": "code",
   "execution_count": 112,
   "metadata": {},
   "outputs": [
    {
     "data": {
      "text/plain": [
       "48"
      ]
     },
     "execution_count": 112,
     "metadata": {},
     "output_type": "execute_result"
    }
   ],
   "source": [
    "import logging\n",
    "logging.basicConfig(format='%(asctime)s: %(levelname)s: %(message)s')\n",
    "logging.root.setLevel(level=logging.INFO)\n",
    "# 别被切碎了\n",
    "jieba.suggest_freq('邢道荣', True)\n",
    "jieba.suggest_freq('二弟', True)\n",
    "jieba.suggest_freq('三弟', True)\n",
    "jieba.suggest_freq('云长', True)\n",
    "jieba.suggest_freq('翼徳', True)\n",
    "jieba.suggest_freq('子龙', True)\n",
    "jieba.suggest_freq('公瑾', True)\n",
    "jieba.suggest_freq('袁绍', True)\n",
    "jieba.suggest_freq('孙夫人', True)\n",
    "jieba.suggest_freq('刘玄德', True)\n",
    "jieba.suggest_freq('玄德', True)\n",
    "jieba.suggest_freq('曹孟德', True)\n",
    "jieba.suggest_freq('孔明', True)\n",
    "jieba.suggest_freq('诸葛孔明', True)\n",
    "jieba.suggest_freq('关云长', True)"
   ]
  },
  {
   "cell_type": "code",
   "execution_count": 116,
   "metadata": {},
   "outputs": [
    {
     "name": "stderr",
     "output_type": "stream",
     "text": [
      "2020-11-25 22:22:08,574: INFO: collecting all words and their counts\n",
      "2020-11-25 22:22:08,575: INFO: PROGRESS: at sentence #0, processed 0 words, keeping 0 word types\n",
      "2020-11-25 22:22:08,656: INFO: collected 48788 word types from a corpus of 399470 raw words and 1583 sentences\n",
      "2020-11-25 22:22:08,657: INFO: Loading a fresh vocabulary\n",
      "2020-11-25 22:22:08,677: INFO: effective_min_count=5 retains 7671 unique words (15% of original 48788, drops 41117)\n",
      "2020-11-25 22:22:08,678: INFO: effective_min_count=5 leaves 339912 word corpus (85% of original 399470, drops 59558)\n",
      "2020-11-25 22:22:08,698: INFO: deleting the raw counts dictionary of 48788 items\n",
      "2020-11-25 22:22:08,702: INFO: sample=0.001 downsamples 31 most-common words\n",
      "2020-11-25 22:22:08,702: INFO: downsampling leaves estimated 235148 word corpus (69.2% of prior 339912)\n",
      "2020-11-25 22:22:08,713: INFO: estimated required memory for 7671 words and 100 dimensions: 9972300 bytes\n",
      "2020-11-25 22:22:08,714: INFO: resetting layer weights\n",
      "2020-11-25 22:22:09,701: INFO: training model with 3 workers on 7671 vocabulary and 100 features, using sg=0 hs=0 sample=0.001 negative=5 window=5\n",
      "2020-11-25 22:22:09,889: INFO: worker thread finished; awaiting finish of 2 more threads\n",
      "2020-11-25 22:22:09,890: INFO: worker thread finished; awaiting finish of 1 more threads\n",
      "2020-11-25 22:22:09,891: INFO: worker thread finished; awaiting finish of 0 more threads\n",
      "2020-11-25 22:22:09,891: INFO: EPOCH - 1 : training on 399470 raw words (235112 effective words) took 0.2s, 1252197 effective words/s\n",
      "2020-11-25 22:22:10,096: INFO: worker thread finished; awaiting finish of 2 more threads\n",
      "2020-11-25 22:22:10,099: INFO: worker thread finished; awaiting finish of 1 more threads\n",
      "2020-11-25 22:22:10,101: INFO: worker thread finished; awaiting finish of 0 more threads\n",
      "2020-11-25 22:22:10,101: INFO: EPOCH - 2 : training on 399470 raw words (235151 effective words) took 0.2s, 1129562 effective words/s\n",
      "2020-11-25 22:22:10,339: INFO: worker thread finished; awaiting finish of 2 more threads\n",
      "2020-11-25 22:22:10,340: INFO: worker thread finished; awaiting finish of 1 more threads\n",
      "2020-11-25 22:22:10,343: INFO: worker thread finished; awaiting finish of 0 more threads\n",
      "2020-11-25 22:22:10,344: INFO: EPOCH - 3 : training on 399470 raw words (235167 effective words) took 0.2s, 977104 effective words/s\n",
      "2020-11-25 22:22:10,536: INFO: worker thread finished; awaiting finish of 2 more threads\n",
      "2020-11-25 22:22:10,542: INFO: worker thread finished; awaiting finish of 1 more threads\n",
      "2020-11-25 22:22:10,543: INFO: worker thread finished; awaiting finish of 0 more threads\n",
      "2020-11-25 22:22:10,544: INFO: EPOCH - 4 : training on 399470 raw words (235349 effective words) took 0.2s, 1189189 effective words/s\n",
      "2020-11-25 22:22:10,759: INFO: worker thread finished; awaiting finish of 2 more threads\n",
      "2020-11-25 22:22:10,766: INFO: worker thread finished; awaiting finish of 1 more threads\n",
      "2020-11-25 22:22:10,767: INFO: worker thread finished; awaiting finish of 0 more threads\n",
      "2020-11-25 22:22:10,767: INFO: EPOCH - 5 : training on 399470 raw words (235184 effective words) took 0.2s, 1060037 effective words/s\n",
      "2020-11-25 22:22:10,768: INFO: training on a 1997350 raw words (1175963 effective words) took 1.1s, 1103262 effective words/s\n",
      "2020-11-25 22:22:10,770: INFO: saving Word2Vec object under xingdaorong_word2vec.model, separately None\n",
      "2020-11-25 22:22:10,770: INFO: not storing attribute vectors_norm\n",
      "2020-11-25 22:22:10,771: INFO: not storing attribute cum_table\n",
      "2020-11-25 22:22:10,823: INFO: saved xingdaorong_word2vec.model\n"
     ]
    }
   ],
   "source": [
    "# 按行读取文件 \n",
    "sentences = word2vec.LineSentence(\"三国演义_cut.txt\")\n",
    "# 参考：https://radimrehurek.com/gensim/models/word2vec.html,搜索：gensim.models.word2vec.Word2Vec\n",
    "\n",
    "# 负采样\n",
    "xingdaorong_model = word2vec.Word2Vec(sentences, hs=0, min_count=5,window=5)  \n",
    "xingdaorong_model.save(\"xingdaorong_word2vec.model\")"
   ]
  },
  {
   "cell_type": "code",
   "execution_count": 117,
   "metadata": {
    "scrolled": false
   },
   "outputs": [
    {
     "name": "stderr",
     "output_type": "stream",
     "text": [
      "2020-11-25 22:22:14,725: INFO: precomputing L2-norms of word weight vectors\n"
     ]
    },
    {
     "name": "stdout",
     "output_type": "stream",
     "text": [
      "孔明 0.9518522024154663\n",
      "关公 0.9493459463119507\n",
      "维大惊 0.938915491104126\n",
      "吕布 0.9350227117538452\n",
      "周瑜 0.9332243204116821\n",
      "孟获 0.9316806793212891\n",
      "曹仁大 0.931252121925354\n",
      "大惊 0.927707314491272\n",
      "先主 0.9275193214416504\n",
      "曹真 0.9263907670974731\n",
      "少顷 0.9239822626113892\n",
      "二人 0.9236937165260315\n",
      "匆匆 0.9232163429260254\n",
      "计引兵 0.9226945042610168\n",
      "吕布见 0.9225378036499023\n",
      "那里 0.9216679334640503\n",
      "回寨 0.9212357997894287\n",
      "傅司马孚 0.9208981394767761\n",
      "来战 0.9199955463409424\n",
      "杨锋 0.9199569821357727\n",
      "收军 0.9190149307250977\n",
      "张悌 0.9188086986541748\n",
      "哀告 0.9188061356544495\n",
      "孔明谓 0.9185016751289368\n",
      "曹髦 0.9183349609375\n",
      "姜维 0.9181143045425415\n",
      "张邈 0.917864203453064\n",
      "曹操 0.9178026914596558\n",
      "徐州 0.9174515008926392\n",
      "未信 0.9166995286941528\n",
      "回音 0.916517972946167\n",
      "应诺 0.9151455163955688\n",
      "抱头鼠窜 0.9144845008850098\n",
      "操大惊 0.914412796497345\n",
      "领命 0.9141969680786133\n",
      "马超 0.9138268232345581\n",
      "受计 0.913736879825592\n",
      "使者 0.91307532787323\n",
      "于是 0.9127552509307861\n",
      "操教 0.9122517108917236\n",
      "一骑 0.912178635597229\n",
      "骇然 0.9121590852737427\n",
      "孙乾 0.9120049476623535\n",
      "不多时 0.9116429090499878\n",
      "下马 0.9115134477615356\n",
      "程远志 0.9113962054252625\n",
      "活捉 0.9112757444381714\n",
      "军令 0.9107617139816284\n",
      "张飞 0.9104785323143005\n",
      "郝昭病 0.9103939533233643\n",
      "礼物 0.9102771282196045\n",
      "过去 0.9100161790847778\n",
      "出朝 0.9099414944648743\n",
      "须臾 0.909650981426239\n",
      "自引军 0.9094927906990051\n",
      "赵云 0.9092696309089661\n",
      "绕城 0.9089100360870361\n",
      "回见 0.9088890552520752\n",
      "开言 0.9088629484176636\n",
      "襄阳 0.9088336229324341\n",
      "城去 0.9084300398826599\n",
      "大疑 0.9083209037780762\n",
      "缓缓而行 0.9081363677978516\n",
      "方信 0.9080370664596558\n",
      "不敢 0.9077745676040649\n",
      "出府 0.9076555967330933\n",
      "操急 0.9071967005729675\n",
      "拜谢 0.9071202278137207\n",
      "分明 0.9070340394973755\n",
      "许多 0.906975269317627\n",
      "孔明辞 0.9067537188529968\n",
      "乃唤 0.9061400890350342\n",
      "魏延听 0.9060236811637878\n",
      "无心恋战 0.9058959484100342\n",
      "新野 0.9058811068534851\n",
      "小校 0.9057836532592773\n",
      "刘琦 0.905768871307373\n",
      "溪边 0.9057160019874573\n",
      "出来 0.9056406021118164\n",
      "计策 0.9053961038589478\n",
      "拜辞 0.9053574204444885\n",
      "关口 0.9051367044448853\n",
      "喏喏连声 0.9050595760345459\n",
      "等候多时 0.9048789739608765\n",
      "有人 0.9048209190368652\n",
      "具说 0.9046692848205566\n",
      "回报 0.904570460319519\n",
      "入关 0.9044244289398193\n",
      "甘当 0.9042634963989258\n",
      "王忠 0.9041661024093628\n",
      "半晌 0.9038755893707275\n",
      "探听 0.9036687016487122\n",
      "司马望 0.903587281703949\n",
      "逃出 0.9029117822647095\n",
      "原来 0.9026793241500854\n",
      "各军 0.9024377465248108\n",
      "公大怒 0.9022284746170044\n",
      "升帐 0.9021474123001099\n",
      "玄德遂 0.902117133140564\n",
      "崔谅 0.9019956588745117\n",
      "孙夫人 0.9019269943237305\n",
      "攻城 0.9018064141273499\n",
      "邓艾 0.9018044471740723\n",
      "丧事 0.9015972018241882\n",
      "凛凛 0.9014601707458496\n",
      "欣然 0.9014452695846558\n",
      "一遍 0.9005483388900757\n",
      "令众 0.9004631042480469\n",
      "只教 0.9004529714584351\n",
      "突围 0.9003793001174927\n",
      "心中 0.9001191258430481\n",
      "卧病 0.9000983238220215\n"
     ]
    }
   ],
   "source": [
    "for key in xingdaorong_model.wv.similar_by_word('玄德', topn =100000):\n",
    "    if len(key[0]) < 10 and len(key[0]) >= 2: \n",
    "        if key[1] >= 0.9:\n",
    "            print(key[0], key[1])\n",
    "        "
   ]
  },
  {
   "cell_type": "code",
   "execution_count": 115,
   "metadata": {},
   "outputs": [
    {
     "name": "stderr",
     "output_type": "stream",
     "text": [
      "/home/hdw/anaconda3/lib/python3.7/site-packages/ipykernel_launcher.py:2: DeprecationWarning: Call to deprecated `similarity` (Method will be removed in 4.0.0, use self.wv.similarity() instead).\n",
      "  \n"
     ]
    },
    {
     "data": {
      "text/plain": [
       "0.7934135"
      ]
     },
     "execution_count": 115,
     "metadata": {},
     "output_type": "execute_result"
    }
   ],
   "source": [
    "# 计算相似度\n",
    "xingdaorong_model.similarity('玄德', '云长')"
   ]
  },
  {
   "cell_type": "code",
   "execution_count": null,
   "metadata": {},
   "outputs": [],
   "source": []
  },
  {
   "cell_type": "code",
   "execution_count": null,
   "metadata": {},
   "outputs": [],
   "source": []
  },
  {
   "cell_type": "code",
   "execution_count": null,
   "metadata": {},
   "outputs": [],
   "source": []
  },
  {
   "cell_type": "code",
   "execution_count": null,
   "metadata": {},
   "outputs": [],
   "source": []
  }
 ],
 "metadata": {
  "kernelspec": {
   "display_name": "Python 3",
   "language": "python",
   "name": "python3"
  },
  "language_info": {
   "codemirror_mode": {
    "name": "ipython",
    "version": 3
   },
   "file_extension": ".py",
   "mimetype": "text/x-python",
   "name": "python",
   "nbconvert_exporter": "python",
   "pygments_lexer": "ipython3",
   "version": "3.7.4"
  }
 },
 "nbformat": 4,
 "nbformat_minor": 2
}
